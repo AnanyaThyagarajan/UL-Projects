{
  "cells": [
    {
      "cell_type": "code",
      "execution_count": null,
      "id": "64f11be7",
      "metadata": {
        "tags": [],
        "id": "64f11be7"
      },
      "outputs": [],
      "source": [
        "import warnings, requests, zipfile, io\n",
        "warnings.simplefilter('ignore')\n",
        "import pandas as pd\n",
        "from scipy.io import arff"
      ]
    },
    {
      "cell_type": "code",
      "execution_count": null,
      "id": "b8533e27",
      "metadata": {
        "tags": [],
        "id": "b8533e27"
      },
      "outputs": [],
      "source": [
        "f_zip = 'https://ananyakeybucket.s3.amazonaws.com/vertebral_column_data.zip'\n",
        "r = requests.get(f_zip, stream=True)\n",
        "Vertebral_zip = zipfile.ZipFile(io.BytesIO(r.content))\n",
        "Vertebral_zip.extractall()"
      ]
    },
    {
      "cell_type": "code",
      "execution_count": null,
      "id": "7be15bfa",
      "metadata": {
        "tags": [],
        "id": "7be15bfa"
      },
      "outputs": [],
      "source": [
        "data = arff.loadarff('column_2C_weka.arff')\n",
        "df = pd.DataFrame(data[0])\n"
      ]
    },
    {
      "cell_type": "code",
      "execution_count": null,
      "id": "b844306c",
      "metadata": {
        "tags": [],
        "id": "b844306c"
      },
      "outputs": [],
      "source": [
        "class_mapper = {b'Abnormal':1,b'Normal':0}\n",
        "df['class']=df['class'].replace(class_mapper)"
      ]
    },
    {
      "cell_type": "code",
      "execution_count": null,
      "id": "1a24b89c",
      "metadata": {
        "tags": [],
        "id": "1a24b89c",
        "outputId": "74fe4295-a5ad-4a93-f121-9aa82f4aa11e"
      },
      "outputs": [
        {
          "data": {
            "text/plain": [
              "(310, 7)"
            ]
          },
          "execution_count": 5,
          "metadata": {},
          "output_type": "execute_result"
        }
      ],
      "source": [
        "df.shape"
      ]
    },
    {
      "cell_type": "code",
      "execution_count": null,
      "id": "36c19c5d",
      "metadata": {
        "tags": [],
        "id": "36c19c5d",
        "outputId": "7f5e2db9-b0fe-4c20-a9bb-bb57d6e31131"
      },
      "outputs": [
        {
          "data": {
            "text/plain": [
              "count    310.000000\n",
              "mean      60.496653\n",
              "std       17.236520\n",
              "min       26.147921\n",
              "25%       46.430294\n",
              "50%       58.691038\n",
              "75%       72.877696\n",
              "max      129.834041\n",
              "Name: pelvic_incidence, dtype: float64"
            ]
          },
          "execution_count": 6,
          "metadata": {},
          "output_type": "execute_result"
        }
      ],
      "source": [
        "df['pelvic_incidence'].describe()"
      ]
    },
    {
      "cell_type": "code",
      "execution_count": null,
      "id": "967618cb",
      "metadata": {
        "tags": [],
        "id": "967618cb",
        "outputId": "aee73994-048d-469c-8ea2-dccc00fe3983"
      },
      "outputs": [
        {
          "data": {
            "text/html": [
              "<div>\n",
              "<style scoped>\n",
              "    .dataframe tbody tr th:only-of-type {\n",
              "        vertical-align: middle;\n",
              "    }\n",
              "\n",
              "    .dataframe tbody tr th {\n",
              "        vertical-align: top;\n",
              "    }\n",
              "\n",
              "    .dataframe thead th {\n",
              "        text-align: right;\n",
              "    }\n",
              "</style>\n",
              "<table border=\"1\" class=\"dataframe\">\n",
              "  <thead>\n",
              "    <tr style=\"text-align: right;\">\n",
              "      <th></th>\n",
              "      <th>pelvic_incidence</th>\n",
              "      <th>pelvic_tilt</th>\n",
              "      <th>lumbar_lordosis_angle</th>\n",
              "      <th>sacral_slope</th>\n",
              "      <th>pelvic_radius</th>\n",
              "      <th>degree_spondylolisthesis</th>\n",
              "      <th>class</th>\n",
              "    </tr>\n",
              "  </thead>\n",
              "  <tbody>\n",
              "    <tr>\n",
              "      <th>count</th>\n",
              "      <td>310.000000</td>\n",
              "      <td>310.000000</td>\n",
              "      <td>310.000000</td>\n",
              "      <td>310.000000</td>\n",
              "      <td>310.000000</td>\n",
              "      <td>310.000000</td>\n",
              "      <td>310.000000</td>\n",
              "    </tr>\n",
              "    <tr>\n",
              "      <th>mean</th>\n",
              "      <td>60.496653</td>\n",
              "      <td>17.542822</td>\n",
              "      <td>51.930930</td>\n",
              "      <td>42.953831</td>\n",
              "      <td>117.920655</td>\n",
              "      <td>26.296694</td>\n",
              "      <td>0.677419</td>\n",
              "    </tr>\n",
              "    <tr>\n",
              "      <th>std</th>\n",
              "      <td>17.236520</td>\n",
              "      <td>10.008330</td>\n",
              "      <td>18.554064</td>\n",
              "      <td>13.423102</td>\n",
              "      <td>13.317377</td>\n",
              "      <td>37.559027</td>\n",
              "      <td>0.468220</td>\n",
              "    </tr>\n",
              "    <tr>\n",
              "      <th>min</th>\n",
              "      <td>26.147921</td>\n",
              "      <td>-6.554948</td>\n",
              "      <td>14.000000</td>\n",
              "      <td>13.366931</td>\n",
              "      <td>70.082575</td>\n",
              "      <td>-11.058179</td>\n",
              "      <td>0.000000</td>\n",
              "    </tr>\n",
              "    <tr>\n",
              "      <th>25%</th>\n",
              "      <td>46.430294</td>\n",
              "      <td>10.667069</td>\n",
              "      <td>37.000000</td>\n",
              "      <td>33.347122</td>\n",
              "      <td>110.709196</td>\n",
              "      <td>1.603727</td>\n",
              "      <td>0.000000</td>\n",
              "    </tr>\n",
              "    <tr>\n",
              "      <th>50%</th>\n",
              "      <td>58.691038</td>\n",
              "      <td>16.357689</td>\n",
              "      <td>49.562398</td>\n",
              "      <td>42.404912</td>\n",
              "      <td>118.268178</td>\n",
              "      <td>11.767934</td>\n",
              "      <td>1.000000</td>\n",
              "    </tr>\n",
              "    <tr>\n",
              "      <th>75%</th>\n",
              "      <td>72.877696</td>\n",
              "      <td>22.120395</td>\n",
              "      <td>63.000000</td>\n",
              "      <td>52.695888</td>\n",
              "      <td>125.467674</td>\n",
              "      <td>41.287352</td>\n",
              "      <td>1.000000</td>\n",
              "    </tr>\n",
              "    <tr>\n",
              "      <th>max</th>\n",
              "      <td>129.834041</td>\n",
              "      <td>49.431864</td>\n",
              "      <td>125.742385</td>\n",
              "      <td>121.429566</td>\n",
              "      <td>163.071041</td>\n",
              "      <td>418.543082</td>\n",
              "      <td>1.000000</td>\n",
              "    </tr>\n",
              "  </tbody>\n",
              "</table>\n",
              "</div>"
            ],
            "text/plain": [
              "       pelvic_incidence  pelvic_tilt  lumbar_lordosis_angle  sacral_slope  \\\n",
              "count        310.000000   310.000000             310.000000    310.000000   \n",
              "mean          60.496653    17.542822              51.930930     42.953831   \n",
              "std           17.236520    10.008330              18.554064     13.423102   \n",
              "min           26.147921    -6.554948              14.000000     13.366931   \n",
              "25%           46.430294    10.667069              37.000000     33.347122   \n",
              "50%           58.691038    16.357689              49.562398     42.404912   \n",
              "75%           72.877696    22.120395              63.000000     52.695888   \n",
              "max          129.834041    49.431864             125.742385    121.429566   \n",
              "\n",
              "       pelvic_radius  degree_spondylolisthesis       class  \n",
              "count     310.000000                310.000000  310.000000  \n",
              "mean      117.920655                 26.296694    0.677419  \n",
              "std        13.317377                 37.559027    0.468220  \n",
              "min        70.082575                -11.058179    0.000000  \n",
              "25%       110.709196                  1.603727    0.000000  \n",
              "50%       118.268178                 11.767934    1.000000  \n",
              "75%       125.467674                 41.287352    1.000000  \n",
              "max       163.071041                418.543082    1.000000  "
            ]
          },
          "execution_count": 7,
          "metadata": {},
          "output_type": "execute_result"
        }
      ],
      "source": [
        "df.describe()"
      ]
    },
    {
      "cell_type": "code",
      "execution_count": null,
      "id": "76a6a676",
      "metadata": {
        "tags": [],
        "id": "76a6a676",
        "outputId": "2804ad58-2ef8-491b-ac53-12f1fa95f1a3"
      },
      "outputs": [
        {
          "data": {
            "text/plain": [
              "<Axes: >"
            ]
          },
          "execution_count": 8,
          "metadata": {},
          "output_type": "execute_result"
        },
        {
          "data": {
            "image/png": "[encoded data removed]",
            "text/plain": [
              "<Figure size 640x480 with 1 Axes>"
            ]
          },
          "metadata": {},
          "output_type": "display_data"
        }
      ],
      "source": [
        "import matplotlib.pyplot as plt\n",
        "%matplotlib inline\n",
        "df.plot()"
      ]
    },
    {
      "cell_type": "code",
      "execution_count": null,
      "id": "f5de07fd",
      "metadata": {
        "tags": [],
        "id": "f5de07fd",
        "outputId": "add70924-dfad-4ea2-80c4-6b61a1778981"
      },
      "outputs": [
        {
          "data": {
            "text/plain": [
              "<Axes: ylabel='Density'>"
            ]
          },
          "execution_count": 9,
          "metadata": {},
          "output_type": "execute_result"
        },
        {
          "data": {
            "image/png": "[encoded data removed]",
            "text/plain": [
              "<Figure size 640x480 with 1 Axes>"
            ]
          },
          "metadata": {},
          "output_type": "display_data"
        }
      ],
      "source": [
        "df['degree_spondylolisthesis'].plot.density()"
      ]
    },
    {
      "cell_type": "code",
      "execution_count": null,
      "id": "1a5e8a6a",
      "metadata": {
        "tags": [],
        "id": "1a5e8a6a",
        "outputId": "655e9743-65f4-4e53-9381-d6463cd33a57"
      },
      "outputs": [
        {
          "data": {
            "text/plain": [
              "class\n",
              "1    210\n",
              "0    100\n",
              "Name: count, dtype: int64"
            ]
          },
          "execution_count": 10,
          "metadata": {},
          "output_type": "execute_result"
        }
      ],
      "source": [
        "df['class'].value_counts()"
      ]
    },
    {
      "cell_type": "code",
      "execution_count": null,
      "id": "207f18a2",
      "metadata": {
        "tags": [],
        "id": "207f18a2"
      },
      "outputs": [],
      "source": [
        "class_mapper = {b'Abnormal':1,b'Normal':0}\n",
        "df['class']=df['class'].replace(class_mapper)"
      ]
    },
    {
      "cell_type": "code",
      "execution_count": null,
      "id": "e04d1322",
      "metadata": {
        "tags": [],
        "id": "e04d1322",
        "outputId": "454894d6-c983-4ec9-9fe4-7a9a867e3695"
      },
      "outputs": [
        {
          "data": {
            "text/plain": [
              "class                       1.000000\n",
              "degree_spondylolisthesis    0.443687\n",
              "pelvic_incidence            0.353336\n",
              "pelvic_tilt                 0.326063\n",
              "lumbar_lordosis_angle       0.312484\n",
              "sacral_slope                0.210602\n",
              "pelvic_radius              -0.309857\n",
              "Name: class, dtype: float64"
            ]
          },
          "execution_count": 12,
          "metadata": {},
          "output_type": "execute_result"
        }
      ],
      "source": [
        "corr_matrix = df.corr()\n",
        "corr_matrix[\"class\"].sort_values(ascending=False)"
      ]
    },
    {
      "cell_type": "markdown",
      "id": "0b7bab41",
      "metadata": {
        "id": "0b7bab41"
      },
      "source": [
        "By using seaborn, you can visualize the correlation as a heatmap."
      ]
    },
    {
      "cell_type": "code",
      "execution_count": null,
      "id": "d31a7e2b",
      "metadata": {
        "tags": [],
        "id": "d31a7e2b",
        "outputId": "5d0ea3aa-ae22-4946-8c00-fe74b5c6e6d8"
      },
      "outputs": [
        {
          "data": {
            "image/png": "[encoded data removed]",
            "text/plain": [
              "<Figure size 1000x1000 with 2 Axes>"
            ]
          },
          "metadata": {},
          "output_type": "display_data"
        }
      ],
      "source": [
        "import seaborn as sns\n",
        "# Plot figsize\n",
        "fig, ax = plt.subplots(figsize=(10, 10))\n",
        "# Generate Color Map\n",
        "# colormap = sns.diverging_palette(220, 10, as_cmap=True)\n",
        "colormap = sns.color_palette(\"BrBG\", 10)\n",
        "# Generate Heat Map, allow annotations and place floats in map\n",
        "sns.heatmap(corr_matrix, cmap=colormap, annot=True, fmt=\".2f\")\n",
        "#ax.set_yticklabels(column_names);\n",
        "plt.show()"
      ]
    },
    {
      "cell_type": "markdown",
      "id": "5c554f4b",
      "metadata": {
        "id": "5c554f4b"
      },
      "source": [
        "Step 2: Preparing the data\n",
        "For this lab, you must split the data into three datasets.\n",
        "\n",
        "An internet search will show many different ways to split datasets. Many code samples that you might find will split the dataset into the target and the features. Then, they will split each of those two datasets into three subsets, which results in a total of six datasets to track.\n",
        "\n",
        "Moving the target column position\n",
        "XGBoost requires the training data to be in a single file. The file must have the target value be the first column.\n",
        "\n",
        "Get the target column and move it to the first position."
      ]
    },
    {
      "cell_type": "code",
      "execution_count": null,
      "id": "2d5aa24d",
      "metadata": {
        "tags": [],
        "id": "2d5aa24d"
      },
      "outputs": [],
      "source": [
        "import warnings, requests, zipfile, io\n",
        "warnings.simplefilter('ignore')\n",
        "import pandas as pd\n",
        "from scipy.io import arff\n",
        "import boto3"
      ]
    },
    {
      "cell_type": "code",
      "execution_count": null,
      "id": "2d671808",
      "metadata": {
        "tags": [],
        "id": "2d671808"
      },
      "outputs": [],
      "source": [
        "cols = df.columns.tolist()\n",
        "cols = cols[-1:] + cols[:-1]\n",
        "df = df[cols]"
      ]
    },
    {
      "cell_type": "markdown",
      "id": "66c6301f",
      "metadata": {
        "id": "66c6301f"
      },
      "source": [
        "Splitting the data:\n",
        "\n",
        "\n",
        "You will start by splitting the dataset into two datasets. You will use one dataset for training, and you will split the other dataset again for use with validation and testing.\n",
        "\n",
        "You will use the train_test_split function from the scikit-learn library, which is a free machine learning library for Python. It has many algorithms and useful functions, such as the one you will use.\n",
        "\n",
        "For more information about the function, see the Train_test_split documentation.\n",
        "For more information about scikit-learn, see the scikit-learn guide\n",
        "Because you don't have a lot of data, you want to make sure that the split datasets contain a representative amount of each class. Thus, you will use the stratify switch. Finally, you will use a random number so that you can repeat the splits."
      ]
    },
    {
      "cell_type": "code",
      "execution_count": null,
      "id": "0c2dff62",
      "metadata": {
        "tags": [],
        "id": "0c2dff62"
      },
      "outputs": [],
      "source": [
        "from sklearn.model_selection import train_test_split\n",
        "train, test_and_validate = train_test_split(df, test_size=0.2, random_state=42, stratify=df['class'])"
      ]
    },
    {
      "cell_type": "code",
      "execution_count": null,
      "id": "cffba2fc",
      "metadata": {
        "tags": [],
        "id": "cffba2fc"
      },
      "outputs": [],
      "source": [
        "test, validate = train_test_split(test_and_validate, test_size=0.5, random_state=42, stratify=test_and_validate['class'])"
      ]
    },
    {
      "cell_type": "code",
      "execution_count": null,
      "id": "020b2468",
      "metadata": {
        "tags": [],
        "id": "020b2468",
        "outputId": "6b6aa21a-65c9-4221-99b1-286b969c56c8"
      },
      "outputs": [
        {
          "name": "stdout",
          "output_type": "stream",
          "text": [
            "(248, 7)\n",
            "(31, 7)\n",
            "(31, 7)\n"
          ]
        }
      ],
      "source": [
        "print(train.shape)\n",
        "print(test.shape)\n",
        "print(validate.shape)"
      ]
    },
    {
      "cell_type": "code",
      "execution_count": null,
      "id": "49d05035",
      "metadata": {
        "tags": [],
        "id": "49d05035",
        "outputId": "fc7602ca-d8a5-4e18-a914-2fe1655680bb"
      },
      "outputs": [
        {
          "name": "stdout",
          "output_type": "stream",
          "text": [
            "class\n",
            "1    168\n",
            "0     80\n",
            "Name: count, dtype: int64\n",
            "class\n",
            "1    21\n",
            "0    10\n",
            "Name: count, dtype: int64\n",
            "class\n",
            "1    21\n",
            "0    10\n",
            "Name: count, dtype: int64\n"
          ]
        }
      ],
      "source": [
        "print(train['class'].value_counts())\n",
        "print(test['class'].value_counts())\n",
        "print(validate['class'].value_counts())"
      ]
    },
    {
      "cell_type": "markdown",
      "id": "0a2578f4",
      "metadata": {
        "id": "0a2578f4"
      },
      "source": [
        "Uploading the data to Amazon S3:\n",
        "\n",
        "\n",
        "XGboost will load the data for training from Amazon Simple Storage Service (Amazon S3). Thus, you must write the data to a comma-separated values (CSV) file, and then upload the file to Amazon S3.\n",
        "\n",
        "Start by setting up some variables to the S3 bucket, then create a function to upload the CSV file to Amazon S3. You can reuse this function.\n",
        "\n",
        "First, explore the function.\n",
        "\n",
        "Note the following line:\n",
        "\n",
        "dataframe.to_csv(csv_buffer, header=False, index=False)\n",
        "\n",
        "This line writes the pandas DataFrame (which was passed into the function) into the IO buffer that's named csv_buffer. You use a buffer because you don't need to write the file locally.\n",
        "\n",
        "To stop the column headers from being written out, use header=False. To stop the pandas index from being output, use index=False.\n",
        "\n",
        "To write the csv_buffer to Amazon S3 as an object, use the put operation on the object, which is a property of the bucket."
      ]
    },
    {
      "cell_type": "code",
      "execution_count": null,
      "id": "569e34d7",
      "metadata": {
        "tags": [],
        "id": "569e34d7"
      },
      "outputs": [],
      "source": [
        "bucket='ananyakeybucket'\n",
        "\n",
        "prefix='vertebral_column_data'\n",
        "\n",
        "train_file='vertebral_train.csv'\n",
        "test_file='vertebral_test.csv'\n",
        "validate_file='vertebral_validate.csv'\n",
        "\n",
        "import os\n",
        "\n",
        "s3_resource = boto3.Session().resource('s3')\n",
        "def upload_s3_csv(filename, folder, dataframe):\n",
        "    csv_buffer = io.StringIO()\n",
        "    dataframe.to_csv(csv_buffer, header=False, index=False)\n",
        "    s3_resource.Bucket(bucket).Object(os.path.join(prefix, folder, filename)).put(Body=csv_buffer.getvalue())"
      ]
    },
    {
      "cell_type": "code",
      "execution_count": null,
      "id": "c668500e",
      "metadata": {
        "tags": [],
        "id": "c668500e"
      },
      "outputs": [],
      "source": [
        "upload_s3_csv(train_file, 'train', train)\n",
        "upload_s3_csv(test_file, 'test', test)\n",
        "upload_s3_csv(validate_file, 'validate', validate)"
      ]
    },
    {
      "cell_type": "markdown",
      "id": "bb790e67",
      "metadata": {
        "id": "bb790e67"
      },
      "source": [
        "# Step 3: Training the model\n",
        "\n",
        "Now that the data in Amazon S3, you can train a model.\n",
        "\n",
        "The first step is to get the XGBoost container URI."
      ]
    },
    {
      "cell_type": "code",
      "execution_count": null,
      "id": "94dea581",
      "metadata": {
        "tags": [],
        "id": "94dea581",
        "outputId": "decf9645-9db6-40f4-a84e-7f7a53e9ba4e"
      },
      "outputs": [
        {
          "name": "stdout",
          "output_type": "stream",
          "text": [
            "sagemaker.config INFO - Not applying SDK defaults from location: /etc/xdg/sagemaker/config.yaml\n",
            "sagemaker.config INFO - Not applying SDK defaults from location: /home/ec2-user/.config/sagemaker/config.yaml\n"
          ]
        }
      ],
      "source": [
        "import boto3\n",
        "from sagemaker.image_uris import retrieve\n",
        "container = retrieve('xgboost',boto3.Session().region_name,'1.0-1')\n"
      ]
    },
    {
      "cell_type": "code",
      "execution_count": null,
      "id": "2e6a3402",
      "metadata": {
        "tags": [],
        "id": "2e6a3402"
      },
      "outputs": [],
      "source": [
        "hyperparams={\"num_round\":\"42\",\n",
        "             \"eval_metric\": \"auc\",\n",
        "             \"objective\": \"binary:logistic\"}"
      ]
    },
    {
      "cell_type": "code",
      "execution_count": null,
      "id": "a90d2c68",
      "metadata": {
        "tags": [],
        "id": "a90d2c68"
      },
      "outputs": [],
      "source": [
        "import sagemaker\n",
        "s3_output_location=\"s3://{}/{}/output/\".format(bucket,prefix)\n",
        "xgb_model=sagemaker.estimator.Estimator(container,\n",
        "                                       sagemaker.get_execution_role(),\n",
        "                                       instance_count=1,\n",
        "                                       instance_type='ml.m4.xlarge',\n",
        "                                       output_path=s3_output_location,\n",
        "                                        hyperparameters=hyperparams,\n",
        "                                        sagemaker_session=sagemaker.Session())"
      ]
    },
    {
      "cell_type": "code",
      "execution_count": null,
      "id": "18f5073b",
      "metadata": {
        "tags": [],
        "id": "18f5073b"
      },
      "outputs": [],
      "source": [
        "train_channel = sagemaker.inputs.TrainingInput(\n",
        "    \"s3://{}/{}/train/\".format(bucket,prefix,train_file),\n",
        "    content_type='text/csv')\n",
        "\n",
        "validate_channel = sagemaker.inputs.TrainingInput(\n",
        "    \"s3://{}/{}/validate/\".format(bucket,prefix,validate_file),\n",
        "    content_type='text/csv')\n",
        "\n",
        "data_channels = {'train': train_channel, 'validation': validate_channel}"
      ]
    },
    {
      "cell_type": "code",
      "execution_count": null,
      "id": "f61e66b3",
      "metadata": {
        "tags": [],
        "id": "f61e66b3",
        "outputId": "40c34de9-3392-4390-ec04-21b81e30caf7"
      },
      "outputs": [
        {
          "name": "stderr",
          "output_type": "stream",
          "text": [
            "INFO:sagemaker:Creating training-job with name: sagemaker-xgboost-2024-05-02-14-57-19-776\n"
          ]
        },
        {
          "name": "stdout",
          "output_type": "stream",
          "text": [
            "\n",
            "2024-05-02 14:57:19 Starting - Starting the training job.........\n",
            "2024-05-02 14:58:11 Starting - Preparing the instances for training...........\n",
            "2024-05-02 14:59:14 Downloading - Downloading input data......\n",
            "2024-05-02 14:59:49 Downloading - Downloading the training image.......\n",
            "2024-05-02 15:00:30 Training - Training image download completed. Training in progress....\n",
            "2024-05-02 15:00:50 Uploading - Uploading generated training model.\n",
            "2024-05-02 15:01:01 Completed - Training job completed\n"
          ]
        }
      ],
      "source": [
        "xgb_model.fit(inputs=data_channels, logs=False)"
      ]
    },
    {
      "cell_type": "markdown",
      "id": "285f793c-77a2-4897-bbc1-796eda82a914",
      "metadata": {
        "id": "285f793c-77a2-4897-bbc1-796eda82a914"
      },
      "source": [
        "Hosting the Model"
      ]
    },
    {
      "cell_type": "code",
      "execution_count": null,
      "id": "3c360b9f-e8ee-43e9-a338-5c26853b0dcf",
      "metadata": {
        "tags": [],
        "id": "3c360b9f-e8ee-43e9-a338-5c26853b0dcf",
        "outputId": "ea8b37a7-8eaf-45b4-b4f6-5deee8f2f44a"
      },
      "outputs": [
        {
          "name": "stderr",
          "output_type": "stream",
          "text": [
            "INFO:sagemaker:Creating model with name: sagemaker-xgboost-2024-05-02-15-01-02-149\n",
            "INFO:sagemaker:Creating endpoint-config with name sagemaker-xgboost-2024-05-02-15-01-02-149\n",
            "INFO:sagemaker:Creating endpoint with name sagemaker-xgboost-2024-05-02-15-01-02-149\n"
          ]
        },
        {
          "name": "stdout",
          "output_type": "stream",
          "text": [
            "-------!"
          ]
        }
      ],
      "source": [
        "xgb_predictor = xgb_model.deploy(initial_instance_count=1,\n",
        "                serializer = sagemaker.serializers.CSVSerializer(),\n",
        "                instance_type='ml.m4.xlarge')"
      ]
    },
    {
      "cell_type": "code",
      "execution_count": null,
      "id": "b920493e-02e0-462e-9fc1-d9d159fa026d",
      "metadata": {
        "tags": [],
        "id": "b920493e-02e0-462e-9fc1-d9d159fa026d",
        "outputId": "3654b5e7-8318-446c-92e8-c7fb9b06f5ea"
      },
      "outputs": [
        {
          "data": {
            "text/html": [
              "<div>\n",
              "<style scoped>\n",
              "    .dataframe tbody tr th:only-of-type {\n",
              "        vertical-align: middle;\n",
              "    }\n",
              "\n",
              "    .dataframe tbody tr th {\n",
              "        vertical-align: top;\n",
              "    }\n",
              "\n",
              "    .dataframe thead th {\n",
              "        text-align: right;\n",
              "    }\n",
              "</style>\n",
              "<table border=\"1\" class=\"dataframe\">\n",
              "  <thead>\n",
              "    <tr style=\"text-align: right;\">\n",
              "      <th></th>\n",
              "      <th>pelvic_incidence</th>\n",
              "      <th>pelvic_tilt</th>\n",
              "      <th>lumbar_lordosis_angle</th>\n",
              "      <th>sacral_slope</th>\n",
              "      <th>pelvic_radius</th>\n",
              "      <th>degree_spondylolisthesis</th>\n",
              "    </tr>\n",
              "  </thead>\n",
              "  <tbody>\n",
              "    <tr>\n",
              "      <th>136</th>\n",
              "      <td>88.024499</td>\n",
              "      <td>39.844669</td>\n",
              "      <td>81.774473</td>\n",
              "      <td>48.17983</td>\n",
              "      <td>116.601538</td>\n",
              "      <td>56.766083</td>\n",
              "    </tr>\n",
              "  </tbody>\n",
              "</table>\n",
              "</div>"
            ],
            "text/plain": [
              "     pelvic_incidence  pelvic_tilt  lumbar_lordosis_angle  sacral_slope  \\\n",
              "136         88.024499    39.844669              81.774473      48.17983   \n",
              "\n",
              "     pelvic_radius  degree_spondylolisthesis  \n",
              "136     116.601538                 56.766083  "
            ]
          },
          "execution_count": 28,
          "metadata": {},
          "output_type": "execute_result"
        }
      ],
      "source": [
        "row = test.iloc[0:1,1:]\n",
        "row.head()"
      ]
    },
    {
      "cell_type": "code",
      "execution_count": null,
      "id": "e49288f2-c830-49cf-bc6d-945c11696391",
      "metadata": {
        "tags": [],
        "id": "e49288f2-c830-49cf-bc6d-945c11696391",
        "outputId": "e20e0f36-faa2-400d-c663-85714e6f9089"
      },
      "outputs": [
        {
          "name": "stdout",
          "output_type": "stream",
          "text": [
            "88.0244989,39.84466878,81.77447308,48.17983012,116.6015376,56.76608323\n",
            "\n"
          ]
        }
      ],
      "source": [
        "batch_X_csv_buffer = io.StringIO()\n",
        "row.to_csv(batch_X_csv_buffer, header=False, index=False)\n",
        "test_row = batch_X_csv_buffer.getvalue()\n",
        "print(test_row)"
      ]
    },
    {
      "cell_type": "code",
      "execution_count": null,
      "id": "e67fbf9c-4dd6-4d47-accb-2e02bb71e7d4",
      "metadata": {
        "tags": [],
        "id": "e67fbf9c-4dd6-4d47-accb-2e02bb71e7d4",
        "outputId": "04a8dafc-1f02-40a8-a334-4b3d776a46ab"
      },
      "outputs": [
        {
          "data": {
            "text/plain": [
              "b'0.9966071844100952'"
            ]
          },
          "execution_count": 30,
          "metadata": {},
          "output_type": "execute_result"
        }
      ],
      "source": [
        "xgb_predictor.predict(test_row)"
      ]
    },
    {
      "cell_type": "code",
      "execution_count": null,
      "id": "ce2d0e7d-9586-47a3-bf81-a2f0d925dc6b",
      "metadata": {
        "tags": [],
        "id": "ce2d0e7d-9586-47a3-bf81-a2f0d925dc6b",
        "outputId": "dc436659-ef2b-42b7-a25d-51ebad5b074d"
      },
      "outputs": [
        {
          "name": "stderr",
          "output_type": "stream",
          "text": [
            "INFO:sagemaker:Deleting endpoint configuration with name: sagemaker-xgboost-2024-05-02-15-01-02-149\n",
            "INFO:sagemaker:Deleting endpoint with name: sagemaker-xgboost-2024-05-02-15-01-02-149\n"
          ]
        }
      ],
      "source": [
        "xgb_predictor.delete_endpoint(delete_endpoint_config=True)"
      ]
    },
    {
      "cell_type": "markdown",
      "id": "77cb28c0-f761-4bc9-9570-daa7df159670",
      "metadata": {
        "id": "77cb28c0-f761-4bc9-9570-daa7df159670"
      },
      "source": [
        "Spin up an instance with the model:\n",
        "    \n",
        "    \n",
        "Perform a prediction on all the input values\n",
        "Write those values to Amazon Simple Storage Service (Amazon S3)\n",
        "Finally, terminate the instance\n",
        "You will start by turning your data into a CSV file that the transformer object can take as input. This time, you will use iloc to get all the rows, and all columns except the first column."
      ]
    },
    {
      "cell_type": "code",
      "execution_count": null,
      "id": "81dc8139-4075-42be-860f-906b3f088766",
      "metadata": {
        "tags": [],
        "id": "81dc8139-4075-42be-860f-906b3f088766",
        "outputId": "2d82be09-e75b-4bab-8c40-faca1ac90928"
      },
      "outputs": [
        {
          "data": {
            "text/html": [
              "<div>\n",
              "<style scoped>\n",
              "    .dataframe tbody tr th:only-of-type {\n",
              "        vertical-align: middle;\n",
              "    }\n",
              "\n",
              "    .dataframe tbody tr th {\n",
              "        vertical-align: top;\n",
              "    }\n",
              "\n",
              "    .dataframe thead th {\n",
              "        text-align: right;\n",
              "    }\n",
              "</style>\n",
              "<table border=\"1\" class=\"dataframe\">\n",
              "  <thead>\n",
              "    <tr style=\"text-align: right;\">\n",
              "      <th></th>\n",
              "      <th>pelvic_incidence</th>\n",
              "      <th>pelvic_tilt</th>\n",
              "      <th>lumbar_lordosis_angle</th>\n",
              "      <th>sacral_slope</th>\n",
              "      <th>pelvic_radius</th>\n",
              "      <th>degree_spondylolisthesis</th>\n",
              "    </tr>\n",
              "  </thead>\n",
              "  <tbody>\n",
              "    <tr>\n",
              "      <th>136</th>\n",
              "      <td>88.024499</td>\n",
              "      <td>39.844669</td>\n",
              "      <td>81.774473</td>\n",
              "      <td>48.179830</td>\n",
              "      <td>116.601538</td>\n",
              "      <td>56.766083</td>\n",
              "    </tr>\n",
              "    <tr>\n",
              "      <th>230</th>\n",
              "      <td>65.611802</td>\n",
              "      <td>23.137919</td>\n",
              "      <td>62.582179</td>\n",
              "      <td>42.473883</td>\n",
              "      <td>124.128001</td>\n",
              "      <td>-4.083298</td>\n",
              "    </tr>\n",
              "    <tr>\n",
              "      <th>134</th>\n",
              "      <td>52.204693</td>\n",
              "      <td>17.212673</td>\n",
              "      <td>78.094969</td>\n",
              "      <td>34.992020</td>\n",
              "      <td>136.972517</td>\n",
              "      <td>54.939134</td>\n",
              "    </tr>\n",
              "    <tr>\n",
              "      <th>130</th>\n",
              "      <td>50.066786</td>\n",
              "      <td>9.120340</td>\n",
              "      <td>32.168463</td>\n",
              "      <td>40.946446</td>\n",
              "      <td>99.712453</td>\n",
              "      <td>26.766697</td>\n",
              "    </tr>\n",
              "    <tr>\n",
              "      <th>47</th>\n",
              "      <td>41.352504</td>\n",
              "      <td>16.577364</td>\n",
              "      <td>30.706191</td>\n",
              "      <td>24.775141</td>\n",
              "      <td>113.266675</td>\n",
              "      <td>-4.497958</td>\n",
              "    </tr>\n",
              "  </tbody>\n",
              "</table>\n",
              "</div>"
            ],
            "text/plain": [
              "     pelvic_incidence  pelvic_tilt  lumbar_lordosis_angle  sacral_slope  \\\n",
              "136         88.024499    39.844669              81.774473     48.179830   \n",
              "230         65.611802    23.137919              62.582179     42.473883   \n",
              "134         52.204693    17.212673              78.094969     34.992020   \n",
              "130         50.066786     9.120340              32.168463     40.946446   \n",
              "47          41.352504    16.577364              30.706191     24.775141   \n",
              "\n",
              "     pelvic_radius  degree_spondylolisthesis  \n",
              "136     116.601538                 56.766083  \n",
              "230     124.128001                 -4.083298  \n",
              "134     136.972517                 54.939134  \n",
              "130      99.712453                 26.766697  \n",
              "47      113.266675                 -4.497958  "
            ]
          },
          "execution_count": 32,
          "metadata": {},
          "output_type": "execute_result"
        }
      ],
      "source": [
        "batch_X = test.iloc[:,1:];\n",
        "batch_X.head()"
      ]
    },
    {
      "cell_type": "code",
      "execution_count": null,
      "id": "48109d4a-6b93-40f6-b37a-97e9132bc4ed",
      "metadata": {
        "tags": [],
        "id": "48109d4a-6b93-40f6-b37a-97e9132bc4ed"
      },
      "outputs": [],
      "source": [
        "batch_X_file='batch-in.csv'\n",
        "upload_s3_csv(batch_X_file, 'batch-in', batch_X)"
      ]
    },
    {
      "cell_type": "code",
      "execution_count": null,
      "id": "8e70a6a4-ec81-44d8-b1a1-0f3e7b6c8fe8",
      "metadata": {
        "tags": [],
        "id": "8e70a6a4-ec81-44d8-b1a1-0f3e7b6c8fe8",
        "outputId": "a6bc9a9c-49a6-49b0-b680-93750c84b617"
      },
      "outputs": [
        {
          "name": "stderr",
          "output_type": "stream",
          "text": [
            "INFO:sagemaker:Creating model with name: sagemaker-xgboost-2024-05-02-15-05-05-019\n",
            "INFO:sagemaker:Creating transform job with name: sagemaker-xgboost-2024-05-02-15-05-05-672\n"
          ]
        },
        {
          "name": "stdout",
          "output_type": "stream",
          "text": [
            ".......................................\n",
            "\u001b[34m[2024-05-02:15:11:39:INFO] No GPUs detected (normal if no gpus installed)\u001b[0m\n",
            "\u001b[34m[2024-05-02:15:11:39:INFO] No GPUs detected (normal if no gpus installed)\u001b[0m\n",
            "\u001b[34m[2024-05-02:15:11:39:INFO] nginx config: \u001b[0m\n",
            "\u001b[34mworker_processes auto;\u001b[0m\n",
            "\u001b[34mdaemon off;\u001b[0m\n",
            "\u001b[34mpid /tmp/nginx.pid;\u001b[0m\n",
            "\u001b[34merror_log  /dev/stderr;\u001b[0m\n",
            "\u001b[34mworker_rlimit_nofile 4096;\u001b[0m\n",
            "\u001b[34mevents {\n",
            "  worker_connections 2048;\u001b[0m\n",
            "\u001b[34m}\u001b[0m\n",
            "\u001b[34mhttp {\n",
            "  include /etc/nginx/mime.types;\n",
            "  default_type application/octet-stream;\n",
            "  access_log /dev/stdout combined;\n",
            "  upstream gunicorn {\n",
            "    server unix:/tmp/gunicorn.sock;\n",
            "  }\n",
            "  server {\n",
            "    listen 8080 deferred;\n",
            "    client_max_body_size 0;\n",
            "    keepalive_timeout 3;\n",
            "    location ~ ^/(ping|invocations|execution-parameters) {\n",
            "      proxy_set_header X-Forwarded-For $proxy_add_x_forwarded_for;\n",
            "      proxy_set_header Host $http_host;\n",
            "      proxy_redirect off;\n",
            "      proxy_read_timeout 60s;\n",
            "      proxy_pass http://gunicorn;\n",
            "    }\n",
            "    location / {\n",
            "      return 404 \"{}\";\n",
            "    }\n",
            "  }\u001b[0m\n",
            "\u001b[34m}\u001b[0m\n",
            "\u001b[34m[2024-05-02 15:11:39 +0000] [19] [INFO] Starting gunicorn 19.10.0\u001b[0m\n",
            "\u001b[34m[2024-05-02 15:11:39 +0000] [19] [INFO] Listening at: unix:/tmp/gunicorn.sock (19)\u001b[0m\n",
            "\u001b[34m[2024-05-02 15:11:39 +0000] [19] [INFO] Using worker: gevent\u001b[0m\n",
            "\u001b[34m[2024-05-02 15:11:39 +0000] [26] [INFO] Booting worker with pid: 26\u001b[0m\n",
            "\u001b[34m[2024-05-02 15:11:39 +0000] [27] [INFO] Booting worker with pid: 27\u001b[0m\n",
            "\u001b[34m[2024-05-02 15:11:39 +0000] [28] [INFO] Booting worker with pid: 28\u001b[0m\n",
            "\u001b[34m[2024-05-02 15:11:40 +0000] [29] [INFO] Booting worker with pid: 29\u001b[0m\n",
            "\u001b[34m[2024-05-02:15:11:46:INFO] No GPUs detected (normal if no gpus installed)\u001b[0m\n",
            "\u001b[34m169.254.255.130 - - [02/May/2024:15:11:46 +0000] \"GET /ping HTTP/1.1\" 200 0 \"-\" \"Go-http-client/1.1\"\u001b[0m\n",
            "\u001b[34m169.254.255.130 - - [02/May/2024:15:11:46 +0000] \"GET /execution-parameters HTTP/1.1\" 200 84 \"-\" \"Go-http-client/1.1\"\u001b[0m\n",
            "\u001b[34m[2024-05-02:15:11:46:INFO] Determined delimiter of CSV input is ','\u001b[0m\n",
            "\u001b[34m169.254.255.130 - - [02/May/2024:15:11:46 +0000] \"POST /invocations HTTP/1.1\" 200 598 \"-\" \"Go-http-client/1.1\"\u001b[0m\n",
            "\u001b[35m[2024-05-02:15:11:46:INFO] Determined delimiter of CSV input is ','\u001b[0m\n",
            "\u001b[35m169.254.255.130 - - [02/May/2024:15:11:46 +0000] \"POST /invocations HTTP/1.1\" 200 598 \"-\" \"Go-http-client/1.1\"\u001b[0m\n",
            "\u001b[32m2024-05-02T15:11:46.056:[sagemaker logs]: MaxConcurrentTransforms=4, MaxPayloadInMB=6, BatchStrategy=MULTI_RECORD\u001b[0m\n",
            "\u001b[34m[2024-05-02:15:11:39:INFO] No GPUs detected (normal if no gpus installed)\u001b[0m\n",
            "\u001b[34m[2024-05-02:15:11:39:INFO] No GPUs detected (normal if no gpus installed)\u001b[0m\n",
            "\u001b[34m[2024-05-02:15:11:39:INFO] nginx config: \u001b[0m\n",
            "\u001b[34mworker_processes auto;\u001b[0m\n",
            "\u001b[34mdaemon off;\u001b[0m\n",
            "\u001b[34mpid /tmp/nginx.pid;\u001b[0m\n",
            "\u001b[34merror_log  /dev/stderr;\u001b[0m\n",
            "\u001b[34mworker_rlimit_nofile 4096;\u001b[0m\n",
            "\u001b[34mevents {\n",
            "  worker_connections 2048;\u001b[0m\n",
            "\u001b[34m}\u001b[0m\n",
            "\u001b[35m[2024-05-02:15:11:39:INFO] No GPUs detected (normal if no gpus installed)\u001b[0m\n",
            "\u001b[35m[2024-05-02:15:11:39:INFO] No GPUs detected (normal if no gpus installed)\u001b[0m\n",
            "\u001b[35m[2024-05-02:15:11:39:INFO] nginx config: \u001b[0m\n",
            "\u001b[35mworker_processes auto;\u001b[0m\n",
            "\u001b[35mdaemon off;\u001b[0m\n",
            "\u001b[35mpid /tmp/nginx.pid;\u001b[0m\n",
            "\u001b[35merror_log  /dev/stderr;\u001b[0m\n",
            "\u001b[35mworker_rlimit_nofile 4096;\u001b[0m\n",
            "\u001b[35mevents {\n",
            "  worker_connections 2048;\u001b[0m\n",
            "\u001b[35m}\u001b[0m\n",
            "\u001b[34mhttp {\n",
            "  include /etc/nginx/mime.types;\n",
            "  default_type application/octet-stream;\n",
            "  access_log /dev/stdout combined;\n",
            "  upstream gunicorn {\n",
            "    server unix:/tmp/gunicorn.sock;\n",
            "  }\n",
            "  server {\n",
            "    listen 8080 deferred;\n",
            "    client_max_body_size 0;\n",
            "    keepalive_timeout 3;\n",
            "    location ~ ^/(ping|invocations|execution-parameters) {\n",
            "      proxy_set_header X-Forwarded-For $proxy_add_x_forwarded_for;\n",
            "      proxy_set_header Host $http_host;\n",
            "      proxy_redirect off;\n",
            "      proxy_read_timeout 60s;\n",
            "      proxy_pass http://gunicorn;\n",
            "    }\n",
            "    location / {\n",
            "      return 404 \"{}\";\n",
            "    }\n",
            "  }\u001b[0m\n",
            "\u001b[34m}\u001b[0m\n",
            "\u001b[34m[2024-05-02 15:11:39 +0000] [19] [INFO] Starting gunicorn 19.10.0\u001b[0m\n",
            "\u001b[34m[2024-05-02 15:11:39 +0000] [19] [INFO] Listening at: unix:/tmp/gunicorn.sock (19)\u001b[0m\n",
            "\u001b[34m[2024-05-02 15:11:39 +0000] [19] [INFO] Using worker: gevent\u001b[0m\n",
            "\u001b[34m[2024-05-02 15:11:39 +0000] [26] [INFO] Booting worker with pid: 26\u001b[0m\n",
            "\u001b[34m[2024-05-02 15:11:39 +0000] [27] [INFO] Booting worker with pid: 27\u001b[0m\n",
            "\u001b[34m[2024-05-02 15:11:39 +0000] [28] [INFO] Booting worker with pid: 28\u001b[0m\n",
            "\u001b[34m[2024-05-02 15:11:40 +0000] [29] [INFO] Booting worker with pid: 29\u001b[0m\n",
            "\u001b[35mhttp {\n",
            "  include /etc/nginx/mime.types;\n",
            "  default_type application/octet-stream;\n",
            "  access_log /dev/stdout combined;\n",
            "  upstream gunicorn {\n",
            "    server unix:/tmp/gunicorn.sock;\n",
            "  }\n",
            "  server {\n",
            "    listen 8080 deferred;\n",
            "    client_max_body_size 0;\n",
            "    keepalive_timeout 3;\n",
            "    location ~ ^/(ping|invocations|execution-parameters) {\n",
            "      proxy_set_header X-Forwarded-For $proxy_add_x_forwarded_for;\n",
            "      proxy_set_header Host $http_host;\n",
            "      proxy_redirect off;\n",
            "      proxy_read_timeout 60s;\n",
            "      proxy_pass http://gunicorn;\n",
            "    }\n",
            "    location / {\n",
            "      return 404 \"{}\";\n",
            "    }\n",
            "  }\u001b[0m\n",
            "\u001b[35m}\u001b[0m\n",
            "\u001b[35m[2024-05-02 15:11:39 +0000] [19] [INFO] Starting gunicorn 19.10.0\u001b[0m\n",
            "\u001b[35m[2024-05-02 15:11:39 +0000] [19] [INFO] Listening at: unix:/tmp/gunicorn.sock (19)\u001b[0m\n",
            "\u001b[35m[2024-05-02 15:11:39 +0000] [19] [INFO] Using worker: gevent\u001b[0m\n",
            "\u001b[35m[2024-05-02 15:11:39 +0000] [26] [INFO] Booting worker with pid: 26\u001b[0m\n",
            "\u001b[35m[2024-05-02 15:11:39 +0000] [27] [INFO] Booting worker with pid: 27\u001b[0m\n",
            "\u001b[35m[2024-05-02 15:11:39 +0000] [28] [INFO] Booting worker with pid: 28\u001b[0m\n",
            "\u001b[35m[2024-05-02 15:11:40 +0000] [29] [INFO] Booting worker with pid: 29\u001b[0m\n",
            "\u001b[34m[2024-05-02:15:11:46:INFO] No GPUs detected (normal if no gpus installed)\u001b[0m\n",
            "\u001b[35m[2024-05-02:15:11:46:INFO] No GPUs detected (normal if no gpus installed)\u001b[0m\n",
            "\u001b[34m169.254.255.130 - - [02/May/2024:15:11:46 +0000] \"GET /ping HTTP/1.1\" 200 0 \"-\" \"Go-http-client/1.1\"\u001b[0m\n",
            "\u001b[34m169.254.255.130 - - [02/May/2024:15:11:46 +0000] \"GET /execution-parameters HTTP/1.1\" 200 84 \"-\" \"Go-http-client/1.1\"\u001b[0m\n",
            "\u001b[35m169.254.255.130 - - [02/May/2024:15:11:46 +0000] \"GET /ping HTTP/1.1\" 200 0 \"-\" \"Go-http-client/1.1\"\u001b[0m\n",
            "\u001b[35m169.254.255.130 - - [02/May/2024:15:11:46 +0000] \"GET /execution-parameters HTTP/1.1\" 200 84 \"-\" \"Go-http-client/1.1\"\u001b[0m\n",
            "\u001b[34m[2024-05-02:15:11:46:INFO] Determined delimiter of CSV input is ','\u001b[0m\n",
            "\u001b[34m169.254.255.130 - - [02/May/2024:15:11:46 +0000] \"POST /invocations HTTP/1.1\" 200 598 \"-\" \"Go-http-client/1.1\"\u001b[0m\n",
            "\u001b[35m[2024-05-02:15:11:46:INFO] Determined delimiter of CSV input is ','\u001b[0m\n",
            "\u001b[35m169.254.255.130 - - [02/May/2024:15:11:46 +0000] \"POST /invocations HTTP/1.1\" 200 598 \"-\" \"Go-http-client/1.1\"\u001b[0m\n",
            "\u001b[32m2024-05-02T15:11:46.056:[sagemaker logs]: MaxConcurrentTransforms=4, MaxPayloadInMB=6, BatchStrategy=MULTI_RECORD\u001b[0m\n"
          ]
        }
      ],
      "source": [
        "batch_output = \"s3://{}/{}/batch-out/\".format(bucket,prefix)\n",
        "batch_input = \"s3://{}/{}/batch-in/{}\".format(bucket,prefix,batch_X_file)\n",
        "\n",
        "xgb_transformer = xgb_model.transformer(instance_count=1,\n",
        "                                       instance_type='ml.m4.xlarge',\n",
        "                                       strategy='MultiRecord',\n",
        "                                       assemble_with='Line',\n",
        "                                       output_path=batch_output)\n",
        "\n",
        "xgb_transformer.transform(data=batch_input,\n",
        "                         data_type='S3Prefix',\n",
        "                         content_type='text/csv',\n",
        "                         split_type='Line')\n",
        "xgb_transformer.wait()"
      ]
    },
    {
      "cell_type": "code",
      "execution_count": null,
      "id": "2d15e325-118c-4b97-8f66-366f16ee5047",
      "metadata": {
        "tags": [],
        "id": "2d15e325-118c-4b97-8f66-366f16ee5047",
        "outputId": "5fa82dae-f601-424a-f483-f3106bc0a445"
      },
      "outputs": [
        {
          "data": {
            "text/html": [
              "<div>\n",
              "<style scoped>\n",
              "    .dataframe tbody tr th:only-of-type {\n",
              "        vertical-align: middle;\n",
              "    }\n",
              "\n",
              "    .dataframe tbody tr th {\n",
              "        vertical-align: top;\n",
              "    }\n",
              "\n",
              "    .dataframe thead th {\n",
              "        text-align: right;\n",
              "    }\n",
              "</style>\n",
              "<table border=\"1\" class=\"dataframe\">\n",
              "  <thead>\n",
              "    <tr style=\"text-align: right;\">\n",
              "      <th></th>\n",
              "      <th>class</th>\n",
              "    </tr>\n",
              "  </thead>\n",
              "  <tbody>\n",
              "    <tr>\n",
              "      <th>0</th>\n",
              "      <td>0.996607</td>\n",
              "    </tr>\n",
              "    <tr>\n",
              "      <th>1</th>\n",
              "      <td>0.777283</td>\n",
              "    </tr>\n",
              "    <tr>\n",
              "      <th>2</th>\n",
              "      <td>0.994641</td>\n",
              "    </tr>\n",
              "    <tr>\n",
              "      <th>3</th>\n",
              "      <td>0.993690</td>\n",
              "    </tr>\n",
              "    <tr>\n",
              "      <th>4</th>\n",
              "      <td>0.939139</td>\n",
              "    </tr>\n",
              "  </tbody>\n",
              "</table>\n",
              "</div>"
            ],
            "text/plain": [
              "      class\n",
              "0  0.996607\n",
              "1  0.777283\n",
              "2  0.994641\n",
              "3  0.993690\n",
              "4  0.939139"
            ]
          },
          "execution_count": 35,
          "metadata": {},
          "output_type": "execute_result"
        }
      ],
      "source": [
        "s3 = boto3.client('s3')\n",
        "obj = s3.get_object(Bucket=bucket, Key=\"{}/batch-out/{}\".format(prefix,'batch-in.csv.out'))\n",
        "target_predicted = pd.read_csv(io.BytesIO(obj['Body'].read()),sep=',',names=['class'])\n",
        "target_predicted.head(5)"
      ]
    },
    {
      "cell_type": "code",
      "execution_count": null,
      "id": "38b13efc-ff3b-454e-90e7-b37cd6d9c047",
      "metadata": {
        "tags": [],
        "id": "38b13efc-ff3b-454e-90e7-b37cd6d9c047",
        "outputId": "6fd1d85b-52aa-42dc-b28d-8077eef5eb88"
      },
      "outputs": [
        {
          "name": "stdout",
          "output_type": "stream",
          "text": [
            "      class  binary\n",
            "0  0.996607       1\n",
            "1  0.777283       1\n",
            "2  0.994641       1\n",
            "3  0.993690       1\n",
            "4  0.939139       1\n",
            "5  0.997396       1\n",
            "6  0.991977       1\n",
            "7  0.987518       1\n",
            "8  0.993334       1\n",
            "9  0.682776       1\n"
          ]
        },
        {
          "data": {
            "text/html": [
              "<div>\n",
              "<style scoped>\n",
              "    .dataframe tbody tr th:only-of-type {\n",
              "        vertical-align: middle;\n",
              "    }\n",
              "\n",
              "    .dataframe tbody tr th {\n",
              "        vertical-align: top;\n",
              "    }\n",
              "\n",
              "    .dataframe thead th {\n",
              "        text-align: right;\n",
              "    }\n",
              "</style>\n",
              "<table border=\"1\" class=\"dataframe\">\n",
              "  <thead>\n",
              "    <tr style=\"text-align: right;\">\n",
              "      <th></th>\n",
              "      <th>class</th>\n",
              "      <th>pelvic_incidence</th>\n",
              "      <th>pelvic_tilt</th>\n",
              "      <th>lumbar_lordosis_angle</th>\n",
              "      <th>sacral_slope</th>\n",
              "      <th>pelvic_radius</th>\n",
              "      <th>degree_spondylolisthesis</th>\n",
              "    </tr>\n",
              "  </thead>\n",
              "  <tbody>\n",
              "    <tr>\n",
              "      <th>136</th>\n",
              "      <td>1</td>\n",
              "      <td>88.024499</td>\n",
              "      <td>39.844669</td>\n",
              "      <td>81.774473</td>\n",
              "      <td>48.179830</td>\n",
              "      <td>116.601538</td>\n",
              "      <td>56.766083</td>\n",
              "    </tr>\n",
              "    <tr>\n",
              "      <th>230</th>\n",
              "      <td>0</td>\n",
              "      <td>65.611802</td>\n",
              "      <td>23.137919</td>\n",
              "      <td>62.582179</td>\n",
              "      <td>42.473883</td>\n",
              "      <td>124.128001</td>\n",
              "      <td>-4.083298</td>\n",
              "    </tr>\n",
              "    <tr>\n",
              "      <th>134</th>\n",
              "      <td>1</td>\n",
              "      <td>52.204693</td>\n",
              "      <td>17.212673</td>\n",
              "      <td>78.094969</td>\n",
              "      <td>34.992020</td>\n",
              "      <td>136.972517</td>\n",
              "      <td>54.939134</td>\n",
              "    </tr>\n",
              "    <tr>\n",
              "      <th>130</th>\n",
              "      <td>1</td>\n",
              "      <td>50.066786</td>\n",
              "      <td>9.120340</td>\n",
              "      <td>32.168463</td>\n",
              "      <td>40.946446</td>\n",
              "      <td>99.712453</td>\n",
              "      <td>26.766697</td>\n",
              "    </tr>\n",
              "    <tr>\n",
              "      <th>47</th>\n",
              "      <td>1</td>\n",
              "      <td>41.352504</td>\n",
              "      <td>16.577364</td>\n",
              "      <td>30.706191</td>\n",
              "      <td>24.775141</td>\n",
              "      <td>113.266675</td>\n",
              "      <td>-4.497958</td>\n",
              "    </tr>\n",
              "    <tr>\n",
              "      <th>135</th>\n",
              "      <td>1</td>\n",
              "      <td>77.121344</td>\n",
              "      <td>30.349874</td>\n",
              "      <td>77.481083</td>\n",
              "      <td>46.771470</td>\n",
              "      <td>110.611148</td>\n",
              "      <td>82.093607</td>\n",
              "    </tr>\n",
              "    <tr>\n",
              "      <th>100</th>\n",
              "      <td>1</td>\n",
              "      <td>84.585607</td>\n",
              "      <td>30.361685</td>\n",
              "      <td>65.479486</td>\n",
              "      <td>54.223922</td>\n",
              "      <td>108.010218</td>\n",
              "      <td>25.118478</td>\n",
              "    </tr>\n",
              "    <tr>\n",
              "      <th>89</th>\n",
              "      <td>1</td>\n",
              "      <td>71.186811</td>\n",
              "      <td>23.896201</td>\n",
              "      <td>43.696665</td>\n",
              "      <td>47.290610</td>\n",
              "      <td>119.864938</td>\n",
              "      <td>27.283985</td>\n",
              "    </tr>\n",
              "    <tr>\n",
              "      <th>297</th>\n",
              "      <td>0</td>\n",
              "      <td>45.575482</td>\n",
              "      <td>18.759135</td>\n",
              "      <td>33.774143</td>\n",
              "      <td>26.816347</td>\n",
              "      <td>116.797007</td>\n",
              "      <td>3.131910</td>\n",
              "    </tr>\n",
              "    <tr>\n",
              "      <th>4</th>\n",
              "      <td>1</td>\n",
              "      <td>49.712859</td>\n",
              "      <td>9.652075</td>\n",
              "      <td>28.317406</td>\n",
              "      <td>40.060784</td>\n",
              "      <td>108.168725</td>\n",
              "      <td>7.918501</td>\n",
              "    </tr>\n",
              "  </tbody>\n",
              "</table>\n",
              "</div>"
            ],
            "text/plain": [
              "     class  pelvic_incidence  pelvic_tilt  lumbar_lordosis_angle  \\\n",
              "136      1         88.024499    39.844669              81.774473   \n",
              "230      0         65.611802    23.137919              62.582179   \n",
              "134      1         52.204693    17.212673              78.094969   \n",
              "130      1         50.066786     9.120340              32.168463   \n",
              "47       1         41.352504    16.577364              30.706191   \n",
              "135      1         77.121344    30.349874              77.481083   \n",
              "100      1         84.585607    30.361685              65.479486   \n",
              "89       1         71.186811    23.896201              43.696665   \n",
              "297      0         45.575482    18.759135              33.774143   \n",
              "4        1         49.712859     9.652075              28.317406   \n",
              "\n",
              "     sacral_slope  pelvic_radius  degree_spondylolisthesis  \n",
              "136     48.179830     116.601538                 56.766083  \n",
              "230     42.473883     124.128001                 -4.083298  \n",
              "134     34.992020     136.972517                 54.939134  \n",
              "130     40.946446      99.712453                 26.766697  \n",
              "47      24.775141     113.266675                 -4.497958  \n",
              "135     46.771470     110.611148                 82.093607  \n",
              "100     54.223922     108.010218                 25.118478  \n",
              "89      47.290610     119.864938                 27.283985  \n",
              "297     26.816347     116.797007                  3.131910  \n",
              "4       40.060784     108.168725                  7.918501  "
            ]
          },
          "execution_count": 36,
          "metadata": {},
          "output_type": "execute_result"
        }
      ],
      "source": [
        "def binary_convert(x):\n",
        "    threshold = 0.65\n",
        "    if x > threshold:\n",
        "        return 1\n",
        "    else:\n",
        "        return 0\n",
        "\n",
        "target_predicted['binary'] = target_predicted['class'].apply(binary_convert)\n",
        "\n",
        "print(target_predicted.head(10))\n",
        "test.head(10)"
      ]
    },
    {
      "cell_type": "markdown",
      "id": "fa778ce2-feb3-4ef4-aebf-a3768dae6e82",
      "metadata": {
        "id": "fa778ce2-feb3-4ef4-aebf-a3768dae6e82"
      },
      "source": [
        "Step 1: Exploring the results\n",
        "The output from the model will be a probablility. You must first convert that probability into one of the two classes, either 0 or 1. To do this, you can create a function to perform the conversion. Note the use of the threshold in the function."
      ]
    },
    {
      "cell_type": "code",
      "execution_count": null,
      "id": "f334ed48-9f9c-4c2e-8e7a-aade6e254f75",
      "metadata": {
        "tags": [],
        "id": "f334ed48-9f9c-4c2e-8e7a-aade6e254f75",
        "outputId": "7f784ff7-b735-43e7-c87e-ca6e3e9b7bfa"
      },
      "outputs": [
        {
          "name": "stdout",
          "output_type": "stream",
          "text": [
            "0    1\n",
            "1    1\n",
            "2    1\n",
            "3    1\n",
            "4    1\n",
            "Name: class, dtype: int64\n"
          ]
        },
        {
          "data": {
            "text/html": [
              "<div>\n",
              "<style scoped>\n",
              "    .dataframe tbody tr th:only-of-type {\n",
              "        vertical-align: middle;\n",
              "    }\n",
              "\n",
              "    .dataframe tbody tr th {\n",
              "        vertical-align: top;\n",
              "    }\n",
              "\n",
              "    .dataframe thead th {\n",
              "        text-align: right;\n",
              "    }\n",
              "</style>\n",
              "<table border=\"1\" class=\"dataframe\">\n",
              "  <thead>\n",
              "    <tr style=\"text-align: right;\">\n",
              "      <th></th>\n",
              "      <th>class</th>\n",
              "      <th>pelvic_incidence</th>\n",
              "      <th>pelvic_tilt</th>\n",
              "      <th>lumbar_lordosis_angle</th>\n",
              "      <th>sacral_slope</th>\n",
              "      <th>pelvic_radius</th>\n",
              "      <th>degree_spondylolisthesis</th>\n",
              "    </tr>\n",
              "  </thead>\n",
              "  <tbody>\n",
              "    <tr>\n",
              "      <th>136</th>\n",
              "      <td>1</td>\n",
              "      <td>88.024499</td>\n",
              "      <td>39.844669</td>\n",
              "      <td>81.774473</td>\n",
              "      <td>48.179830</td>\n",
              "      <td>116.601538</td>\n",
              "      <td>56.766083</td>\n",
              "    </tr>\n",
              "    <tr>\n",
              "      <th>230</th>\n",
              "      <td>0</td>\n",
              "      <td>65.611802</td>\n",
              "      <td>23.137919</td>\n",
              "      <td>62.582179</td>\n",
              "      <td>42.473883</td>\n",
              "      <td>124.128001</td>\n",
              "      <td>-4.083298</td>\n",
              "    </tr>\n",
              "    <tr>\n",
              "      <th>134</th>\n",
              "      <td>1</td>\n",
              "      <td>52.204693</td>\n",
              "      <td>17.212673</td>\n",
              "      <td>78.094969</td>\n",
              "      <td>34.992020</td>\n",
              "      <td>136.972517</td>\n",
              "      <td>54.939134</td>\n",
              "    </tr>\n",
              "    <tr>\n",
              "      <th>130</th>\n",
              "      <td>1</td>\n",
              "      <td>50.066786</td>\n",
              "      <td>9.120340</td>\n",
              "      <td>32.168463</td>\n",
              "      <td>40.946446</td>\n",
              "      <td>99.712453</td>\n",
              "      <td>26.766697</td>\n",
              "    </tr>\n",
              "    <tr>\n",
              "      <th>47</th>\n",
              "      <td>1</td>\n",
              "      <td>41.352504</td>\n",
              "      <td>16.577364</td>\n",
              "      <td>30.706191</td>\n",
              "      <td>24.775141</td>\n",
              "      <td>113.266675</td>\n",
              "      <td>-4.497958</td>\n",
              "    </tr>\n",
              "  </tbody>\n",
              "</table>\n",
              "</div>"
            ],
            "text/plain": [
              "     class  pelvic_incidence  pelvic_tilt  lumbar_lordosis_angle  \\\n",
              "136      1         88.024499    39.844669              81.774473   \n",
              "230      0         65.611802    23.137919              62.582179   \n",
              "134      1         52.204693    17.212673              78.094969   \n",
              "130      1         50.066786     9.120340              32.168463   \n",
              "47       1         41.352504    16.577364              30.706191   \n",
              "\n",
              "     sacral_slope  pelvic_radius  degree_spondylolisthesis  \n",
              "136     48.179830     116.601538                 56.766083  \n",
              "230     42.473883     124.128001                 -4.083298  \n",
              "134     34.992020     136.972517                 54.939134  \n",
              "130     40.946446      99.712453                 26.766697  \n",
              "47      24.775141     113.266675                 -4.497958  "
            ]
          },
          "execution_count": 37,
          "metadata": {},
          "output_type": "execute_result"
        }
      ],
      "source": [
        "def binary_convert(x):\n",
        "    threshold = 0.3\n",
        "    if x > threshold:\n",
        "        return 1\n",
        "    else:\n",
        "        return 0\n",
        "\n",
        "target_predicted_binary = target_predicted['class'].apply(binary_convert)\n",
        "\n",
        "print(target_predicted_binary.head(5))\n",
        "test.head(5)"
      ]
    },
    {
      "cell_type": "markdown",
      "id": "ef977597-5f6e-4ebf-a057-4ff6dfaeffc3",
      "metadata": {
        "id": "ef977597-5f6e-4ebf-a057-4ff6dfaeffc3"
      },
      "source": [
        "Step 2: Creating a confusion matrix\n",
        "A confusion matrix is one of the key ways of measuring a classification model's performance. It's a table that maps out the correct and incorrect predictions. After you calculate a confusion matrix for your model, you can generate several other statistics. However, you will start by only creating the confusion matrix.\n",
        "\n",
        "To create a confusion matrix, you need both the target values from your test data and the predicted value.\n",
        "\n",
        "Get the targets from the test DataFrame."
      ]
    },
    {
      "cell_type": "code",
      "execution_count": null,
      "id": "c6aecf36-ab00-4dde-972c-8e9c26515949",
      "metadata": {
        "tags": [],
        "id": "c6aecf36-ab00-4dde-972c-8e9c26515949",
        "outputId": "b98b8971-e748-46b9-ed5c-4487ad1fac14"
      },
      "outputs": [
        {
          "data": {
            "text/plain": [
              "136    1\n",
              "230    0\n",
              "134    1\n",
              "130    1\n",
              "47     1\n",
              "Name: class, dtype: int64"
            ]
          },
          "execution_count": 38,
          "metadata": {},
          "output_type": "execute_result"
        }
      ],
      "source": [
        "test_labels = test.iloc[:,0]\n",
        "test_labels.head()"
      ]
    },
    {
      "cell_type": "code",
      "execution_count": null,
      "id": "eb841ece-6988-4ee7-a6df-8ecf8ba335c0",
      "metadata": {
        "tags": [],
        "id": "eb841ece-6988-4ee7-a6df-8ecf8ba335c0",
        "outputId": "a146a4fd-52d5-461a-9695-6c8c30c0200b"
      },
      "outputs": [
        {
          "data": {
            "text/html": [
              "<div>\n",
              "<style scoped>\n",
              "    .dataframe tbody tr th:only-of-type {\n",
              "        vertical-align: middle;\n",
              "    }\n",
              "\n",
              "    .dataframe tbody tr th {\n",
              "        vertical-align: top;\n",
              "    }\n",
              "\n",
              "    .dataframe thead th {\n",
              "        text-align: right;\n",
              "    }\n",
              "</style>\n",
              "<table border=\"1\" class=\"dataframe\">\n",
              "  <thead>\n",
              "    <tr style=\"text-align: right;\">\n",
              "      <th></th>\n",
              "      <th>Normal</th>\n",
              "      <th>Abnormal</th>\n",
              "    </tr>\n",
              "  </thead>\n",
              "  <tbody>\n",
              "    <tr>\n",
              "      <th>Nnormal</th>\n",
              "      <td>7</td>\n",
              "      <td>3</td>\n",
              "    </tr>\n",
              "    <tr>\n",
              "      <th>Abnormal</th>\n",
              "      <td>2</td>\n",
              "      <td>19</td>\n",
              "    </tr>\n",
              "  </tbody>\n",
              "</table>\n",
              "</div>"
            ],
            "text/plain": [
              "          Normal  Abnormal\n",
              "Nnormal        7         3\n",
              "Abnormal       2        19"
            ]
          },
          "execution_count": 39,
          "metadata": {},
          "output_type": "execute_result"
        }
      ],
      "source": [
        "\n",
        "from sklearn.metrics import confusion_matrix\n",
        "\n",
        "matrix = confusion_matrix(test_labels, target_predicted_binary)\n",
        "df_confusion = pd.DataFrame(matrix, index=['Nnormal','Abnormal'],columns=['Normal','Abnormal'])\n",
        "\n",
        "df_confusion"
      ]
    },
    {
      "cell_type": "code",
      "execution_count": null,
      "id": "c56143d2-2f20-4330-b288-c38c40f21881",
      "metadata": {
        "tags": [],
        "id": "c56143d2-2f20-4330-b288-c38c40f21881",
        "outputId": "d6157b05-e5a5-424b-90de-94bea35336c0"
      },
      "outputs": [
        {
          "data": {
            "image/png": "[encoded data removed]",
            "text/plain": [
              "<Figure size 640x480 with 1 Axes>"
            ]
          },
          "metadata": {},
          "output_type": "display_data"
        }
      ],
      "source": [
        "import seaborn as sns\n",
        "import matplotlib.pyplot as plt\n",
        "\n",
        "colormap = sns.color_palette(\"BrBG\", 10)\n",
        "sns.heatmap(df_confusion, annot=True, cbar=None, cmap=colormap)\n",
        "plt.title(\"Confusion Matrix\")\n",
        "plt.tight_layout()\n",
        "plt.ylabel(\"True Class\")\n",
        "plt.xlabel(\"Predicted Class\")\n",
        "plt.show()"
      ]
    },
    {
      "cell_type": "markdown",
      "id": "e2b90e52-6193-48d1-a3fb-3cd9164c70ca",
      "metadata": {
        "id": "e2b90e52-6193-48d1-a3fb-3cd9164c70ca"
      },
      "source": [
        "Step 3: Calculating performance statistics\n",
        "If you want to compare this model to the next model that you create, you need some metrics that you can record. For a binary classification problem, the confusion matrix data can be used to calculate various metrics.\n",
        "\n",
        "To start, extract the values from the confusion matrix cells into variables."
      ]
    },
    {
      "cell_type": "code",
      "execution_count": null,
      "id": "b99e2dd2-1c99-408d-8fc9-2b0283404c76",
      "metadata": {
        "tags": [],
        "id": "b99e2dd2-1c99-408d-8fc9-2b0283404c76"
      },
      "outputs": [],
      "source": [
        "bucket='ananyakeybucket'"
      ]
    },
    {
      "cell_type": "code",
      "execution_count": null,
      "id": "3828902b-ce50-4626-9b51-1a3640c83e38",
      "metadata": {
        "tags": [],
        "id": "3828902b-ce50-4626-9b51-1a3640c83e38"
      },
      "outputs": [],
      "source": [
        "import warnings, requests, zipfile, io\n",
        "warnings.simplefilter('ignore')\n",
        "import pandas as pd\n",
        "from scipy.io import arff\n",
        "\n",
        "import os\n",
        "import boto3\n",
        "import sagemaker\n",
        "from sagemaker.image_uris import retrieve\n",
        "from sklearn.model_selection import train_test_split"
      ]
    },
    {
      "cell_type": "code",
      "execution_count": null,
      "id": "b57ff483-1e88-4a94-9dc0-06323914e32a",
      "metadata": {
        "tags": [],
        "id": "b57ff483-1e88-4a94-9dc0-06323914e32a",
        "outputId": "13edcd41-b999-4590-fd49-611b75fa1cae"
      },
      "outputs": [
        {
          "name": "stderr",
          "output_type": "stream",
          "text": [
            "INFO:botocore.credentials:Found credentials from IAM Role: BaseNotebookInstanceEc2InstanceRole\n",
            "INFO:sagemaker.image_uris:Defaulting to only available Python version: py3\n",
            "INFO:sagemaker.image_uris:Defaulting to only supported image scope: cpu.\n",
            "INFO:sagemaker:Creating training-job with name: sagemaker-xgboost-2024-05-02-15-12-11-169\n"
          ]
        },
        {
          "name": "stdout",
          "output_type": "stream",
          "text": [
            "\n",
            "2024-05-02 15:12:16 Starting - Starting the training job..\n",
            "2024-05-02 15:12:31 Starting - Preparing the instances for training.......\n",
            "2024-05-02 15:13:10 Downloading - Downloading input data......\n",
            "2024-05-02 15:13:45 Downloading - Downloading the training image........\n",
            "2024-05-02 15:14:31 Training - Training image download completed. Training in progress....\n",
            "2024-05-02 15:14:51 Uploading - Uploading generated training model..\n",
            "2024-05-02 15:15:08 Completed - Training job completed"
          ]
        },
        {
          "name": "stderr",
          "output_type": "stream",
          "text": [
            "INFO:sagemaker:Creating model with name: sagemaker-xgboost-2024-05-02-15-15-08-282\n"
          ]
        },
        {
          "name": "stdout",
          "output_type": "stream",
          "text": [
            "\n"
          ]
        },
        {
          "name": "stderr",
          "output_type": "stream",
          "text": [
            "INFO:sagemaker:Creating transform job with name: sagemaker-xgboost-2024-05-02-15-15-08-937\n"
          ]
        },
        {
          "name": "stdout",
          "output_type": "stream",
          "text": [
            ".......................................\n",
            "\u001b[34m[2024-05-02:15:21:40:INFO] No GPUs detected (normal if no gpus installed)\u001b[0m\n",
            "\u001b[34m[2024-05-02:15:21:40:INFO] No GPUs detected (normal if no gpus installed)\u001b[0m\n",
            "\u001b[34m[2024-05-02:15:21:40:INFO] nginx config: \u001b[0m\n",
            "\u001b[34mworker_processes auto;\u001b[0m\n",
            "\u001b[34mdaemon off;\u001b[0m\n",
            "\u001b[34mpid /tmp/nginx.pid;\u001b[0m\n",
            "\u001b[34merror_log  /dev/stderr;\u001b[0m\n",
            "\u001b[34mworker_rlimit_nofile 4096;\u001b[0m\n",
            "\u001b[34mevents {\n",
            "  worker_connections 2048;\u001b[0m\n",
            "\u001b[34m}\u001b[0m\n",
            "\u001b[34mhttp {\n",
            "  include /etc/nginx/mime.types;\n",
            "  default_type application/octet-stream;\n",
            "  access_log /dev/stdout combined;\n",
            "  upstream gunicorn {\n",
            "    server unix:/tmp/gunicorn.sock;\n",
            "  }\n",
            "  server {\n",
            "    listen 8080 deferred;\n",
            "    client_max_body_size 0;\n",
            "    keepalive_timeout 3;\n",
            "    location ~ ^/(ping|invocations|execution-parameters) {\n",
            "      proxy_set_header X-Forwarded-For $proxy_add_x_forwarded_for;\n",
            "      proxy_set_header Host $http_host;\n",
            "      proxy_redirect off;\n",
            "      proxy_read_timeout 60s;\n",
            "      proxy_pass http://gunicorn;\n",
            "    }\n",
            "    location / {\n",
            "      return 404 \"{}\";\n",
            "    }\n",
            "  }\u001b[0m\n",
            "\u001b[34m}\u001b[0m\n",
            "\u001b[34m[2024-05-02 15:21:40 +0000] [19] [INFO] Starting gunicorn 19.10.0\u001b[0m\n",
            "\u001b[34m[2024-05-02 15:21:40 +0000] [19] [INFO] Listening at: unix:/tmp/gunicorn.sock (19)\u001b[0m\n",
            "\u001b[34m[2024-05-02 15:21:40 +0000] [19] [INFO] Using worker: gevent\u001b[0m\n",
            "\u001b[34m[2024-05-02 15:21:40 +0000] [26] [INFO] Booting worker with pid: 26\u001b[0m\n",
            "\u001b[34m[2024-05-02 15:21:40 +0000] [27] [INFO] Booting worker with pid: 27\u001b[0m\n",
            "\u001b[34m[2024-05-02 15:21:40 +0000] [28] [INFO] Booting worker with pid: 28\u001b[0m\n",
            "\u001b[34m[2024-05-02 15:21:40 +0000] [29] [INFO] Booting worker with pid: 29\u001b[0m\n",
            "\u001b[34m[2024-05-02:15:21:47:INFO] No GPUs detected (normal if no gpus installed)\u001b[0m\n",
            "\u001b[34m169.254.255.130 - - [02/May/2024:15:21:47 +0000] \"GET /ping HTTP/1.1\" 200 0 \"-\" \"Go-http-client/1.1\"\u001b[0m\n",
            "\u001b[34m[2024-05-02:15:21:47:INFO] No GPUs detected (normal if no gpus installed)\u001b[0m\n",
            "\u001b[34m169.254.255.130 - - [02/May/2024:15:21:47 +0000] \"GET /execution-parameters HTTP/1.1\" 200 84 \"-\" \"Go-http-client/1.1\"\u001b[0m\n",
            "\u001b[34m[2024-05-02:15:21:47:INFO] Determined delimiter of CSV input is ','\u001b[0m\n",
            "\u001b[34m169.254.255.130 - - [02/May/2024:15:21:47 +0000] \"POST /invocations HTTP/1.1\" 200 598 \"-\" \"Go-http-client/1.1\"\u001b[0m\n",
            "\u001b[32m2024-05-02T15:21:47.469:[sagemaker logs]: MaxConcurrentTransforms=4, MaxPayloadInMB=6, BatchStrategy=MULTI_RECORD\u001b[0m\n",
            "\u001b[34m[2024-05-02:15:21:40:INFO] No GPUs detected (normal if no gpus installed)\u001b[0m\n",
            "\u001b[34m[2024-05-02:15:21:40:INFO] No GPUs detected (normal if no gpus installed)\u001b[0m\n",
            "\u001b[34m[2024-05-02:15:21:40:INFO] nginx config: \u001b[0m\n",
            "\u001b[34mworker_processes auto;\u001b[0m\n",
            "\u001b[34mdaemon off;\u001b[0m\n",
            "\u001b[34mpid /tmp/nginx.pid;\u001b[0m\n",
            "\u001b[34merror_log  /dev/stderr;\u001b[0m\n",
            "\u001b[34mworker_rlimit_nofile 4096;\u001b[0m\n",
            "\u001b[34mevents {\n",
            "  worker_connections 2048;\u001b[0m\n",
            "\u001b[35m[2024-05-02:15:21:40:INFO] No GPUs detected (normal if no gpus installed)\u001b[0m\n",
            "\u001b[35m[2024-05-02:15:21:40:INFO] No GPUs detected (normal if no gpus installed)\u001b[0m\n",
            "\u001b[35m[2024-05-02:15:21:40:INFO] nginx config: \u001b[0m\n",
            "\u001b[35mworker_processes auto;\u001b[0m\n",
            "\u001b[35mdaemon off;\u001b[0m\n",
            "\u001b[35mpid /tmp/nginx.pid;\u001b[0m\n",
            "\u001b[35merror_log  /dev/stderr;\u001b[0m\n",
            "\u001b[35mworker_rlimit_nofile 4096;\u001b[0m\n",
            "\u001b[35mevents {\n",
            "  worker_connections 2048;\u001b[0m\n",
            "\u001b[34m}\u001b[0m\n",
            "\u001b[34mhttp {\n",
            "  include /etc/nginx/mime.types;\n",
            "  default_type application/octet-stream;\n",
            "  access_log /dev/stdout combined;\n",
            "  upstream gunicorn {\n",
            "    server unix:/tmp/gunicorn.sock;\n",
            "  }\n",
            "  server {\n",
            "    listen 8080 deferred;\n",
            "    client_max_body_size 0;\n",
            "    keepalive_timeout 3;\n",
            "    location ~ ^/(ping|invocations|execution-parameters) {\n",
            "      proxy_set_header X-Forwarded-For $proxy_add_x_forwarded_for;\n",
            "      proxy_set_header Host $http_host;\n",
            "      proxy_redirect off;\n",
            "      proxy_read_timeout 60s;\n",
            "      proxy_pass http://gunicorn;\n",
            "    }\n",
            "    location / {\n",
            "      return 404 \"{}\";\n",
            "    }\n",
            "  }\u001b[0m\n",
            "\u001b[34m}\u001b[0m\n",
            "\u001b[34m[2024-05-02 15:21:40 +0000] [19] [INFO] Starting gunicorn 19.10.0\u001b[0m\n",
            "\u001b[34m[2024-05-02 15:21:40 +0000] [19] [INFO] Listening at: unix:/tmp/gunicorn.sock (19)\u001b[0m\n",
            "\u001b[34m[2024-05-02 15:21:40 +0000] [19] [INFO] Using worker: gevent\u001b[0m\n",
            "\u001b[34m[2024-05-02 15:21:40 +0000] [26] [INFO] Booting worker with pid: 26\u001b[0m\n",
            "\u001b[35m}\u001b[0m\n",
            "\u001b[35mhttp {\n",
            "  include /etc/nginx/mime.types;\n",
            "  default_type application/octet-stream;\n",
            "  access_log /dev/stdout combined;\n",
            "  upstream gunicorn {\n",
            "    server unix:/tmp/gunicorn.sock;\n",
            "  }\n",
            "  server {\n",
            "    listen 8080 deferred;\n",
            "    client_max_body_size 0;\n",
            "    keepalive_timeout 3;\n",
            "    location ~ ^/(ping|invocations|execution-parameters) {\n",
            "      proxy_set_header X-Forwarded-For $proxy_add_x_forwarded_for;\n",
            "      proxy_set_header Host $http_host;\n",
            "      proxy_redirect off;\n",
            "      proxy_read_timeout 60s;\n",
            "      proxy_pass http://gunicorn;\n",
            "    }\n",
            "    location / {\n",
            "      return 404 \"{}\";\n",
            "    }\n",
            "  }\u001b[0m\n",
            "\u001b[35m}\u001b[0m\n",
            "\u001b[35m[2024-05-02 15:21:40 +0000] [19] [INFO] Starting gunicorn 19.10.0\u001b[0m\n",
            "\u001b[35m[2024-05-02 15:21:40 +0000] [19] [INFO] Listening at: unix:/tmp/gunicorn.sock (19)\u001b[0m\n",
            "\u001b[35m[2024-05-02 15:21:40 +0000] [19] [INFO] Using worker: gevent\u001b[0m\n",
            "\u001b[35m[2024-05-02 15:21:40 +0000] [26] [INFO] Booting worker with pid: 26\u001b[0m\n",
            "\u001b[34m[2024-05-02 15:21:40 +0000] [27] [INFO] Booting worker with pid: 27\u001b[0m\n",
            "\u001b[34m[2024-05-02 15:21:40 +0000] [28] [INFO] Booting worker with pid: 28\u001b[0m\n",
            "\u001b[34m[2024-05-02 15:21:40 +0000] [29] [INFO] Booting worker with pid: 29\u001b[0m\n",
            "\u001b[35m[2024-05-02 15:21:40 +0000] [27] [INFO] Booting worker with pid: 27\u001b[0m\n",
            "\u001b[35m[2024-05-02 15:21:40 +0000] [28] [INFO] Booting worker with pid: 28\u001b[0m\n",
            "\u001b[35m[2024-05-02 15:21:40 +0000] [29] [INFO] Booting worker with pid: 29\u001b[0m\n",
            "\u001b[34m[2024-05-02:15:21:47:INFO] No GPUs detected (normal if no gpus installed)\u001b[0m\n",
            "\u001b[34m169.254.255.130 - - [02/May/2024:15:21:47 +0000] \"GET /ping HTTP/1.1\" 200 0 \"-\" \"Go-http-client/1.1\"\u001b[0m\n",
            "\u001b[34m[2024-05-02:15:21:47:INFO] No GPUs detected (normal if no gpus installed)\u001b[0m\n",
            "\u001b[34m169.254.255.130 - - [02/May/2024:15:21:47 +0000] \"GET /execution-parameters HTTP/1.1\" 200 84 \"-\" \"Go-http-client/1.1\"\u001b[0m\n",
            "\u001b[34m[2024-05-02:15:21:47:INFO] Determined delimiter of CSV input is ','\u001b[0m\n",
            "\u001b[34m169.254.255.130 - - [02/May/2024:15:21:47 +0000] \"POST /invocations HTTP/1.1\" 200 598 \"-\" \"Go-http-client/1.1\"\u001b[0m\n",
            "\u001b[35m[2024-05-02:15:21:47:INFO] No GPUs detected (normal if no gpus installed)\u001b[0m\n",
            "\u001b[35m169.254.255.130 - - [02/May/2024:15:21:47 +0000] \"GET /ping HTTP/1.1\" 200 0 \"-\" \"Go-http-client/1.1\"\u001b[0m\n",
            "\u001b[35m[2024-05-02:15:21:47:INFO] No GPUs detected (normal if no gpus installed)\u001b[0m\n",
            "\u001b[35m169.254.255.130 - - [02/May/2024:15:21:47 +0000] \"GET /execution-parameters HTTP/1.1\" 200 84 \"-\" \"Go-http-client/1.1\"\u001b[0m\n",
            "\u001b[35m[2024-05-02:15:21:47:INFO] Determined delimiter of CSV input is ','\u001b[0m\n",
            "\u001b[35m169.254.255.130 - - [02/May/2024:15:21:47 +0000] \"POST /invocations HTTP/1.1\" 200 598 \"-\" \"Go-http-client/1.1\"\u001b[0m\n",
            "\u001b[32m2024-05-02T15:21:47.469:[sagemaker logs]: MaxConcurrentTransforms=4, MaxPayloadInMB=6, BatchStrategy=MULTI_RECORD\u001b[0m\n"
          ]
        }
      ],
      "source": [
        "f_zip = 'https://ananyakeybucket.s3.amazonaws.com/vertebral_column_data.zip'\n",
        "r = requests.get(f_zip, stream=True)\n",
        "Vertebral_zip = zipfile.ZipFile(io.BytesIO(r.content))\n",
        "Vertebral_zip.extractall()\n",
        "\n",
        "data = arff.loadarff('column_2C_weka.arff')\n",
        "df = pd.DataFrame(data[0])\n",
        "\n",
        "class_mapper = {b'Abnormal':1,b'Normal':0}\n",
        "df['class']=df['class'].replace(class_mapper)\n",
        "\n",
        "cols = df.columns.tolist()\n",
        "cols = cols[-1:] + cols[:-1]\n",
        "df = df[cols]\n",
        "\n",
        "train, test_and_validate = train_test_split(df, test_size=0.2, random_state=42, stratify=df['class'])\n",
        "test, validate = train_test_split(test_and_validate, test_size=0.5, random_state=42, stratify=test_and_validate['class'])\n",
        "\n",
        "prefix='lab3'\n",
        "\n",
        "train_file='vertebral_train.csv'\n",
        "test_file='vertebral_test.csv'\n",
        "validate_file='vertebral_validate.csv'\n",
        "\n",
        "s3_resource = boto3.Session().resource('s3')\n",
        "def upload_s3_csv(filename, folder, dataframe):\n",
        "    csv_buffer = io.StringIO()\n",
        "    dataframe.to_csv(csv_buffer, header=False, index=False )\n",
        "    s3_resource.Bucket(bucket).Object(os.path.join(prefix, folder, filename)).put(Body=csv_buffer.getvalue())\n",
        "\n",
        "upload_s3_csv(train_file, 'train', train)\n",
        "upload_s3_csv(test_file, 'test', test)\n",
        "upload_s3_csv(validate_file, 'validate', validate)\n",
        "\n",
        "container = retrieve('xgboost',boto3.Session().region_name,'1.0-1')\n",
        "\n",
        "hyperparams={\"num_round\":\"42\",\n",
        "             \"eval_metric\": \"auc\",\n",
        "             \"objective\": \"binary:logistic\"}\n",
        "\n",
        "s3_output_location=\"s3://{}/{}/output/\".format(bucket,prefix)\n",
        "xgb_model=sagemaker.estimator.Estimator(container,\n",
        "                                       sagemaker.get_execution_role(),\n",
        "                                       instance_count=1,\n",
        "                                       instance_type='ml.m4.xlarge',\n",
        "                                       output_path=s3_output_location,\n",
        "                                        hyperparameters=hyperparams,\n",
        "                                        sagemaker_session=sagemaker.Session())\n",
        "\n",
        "train_channel = sagemaker.inputs.TrainingInput(\n",
        "    \"s3://{}/{}/train/\".format(bucket,prefix,train_file),\n",
        "    content_type='text/csv')\n",
        "\n",
        "validate_channel = sagemaker.inputs.TrainingInput(\n",
        "    \"s3://{}/{}/validate/\".format(bucket,prefix,validate_file),\n",
        "    content_type='text/csv')\n",
        "\n",
        "data_channels = {'train': train_channel, 'validation': validate_channel}\n",
        "\n",
        "xgb_model.fit(inputs=data_channels, logs=False)\n",
        "\n",
        "batch_X = test.iloc[:,1:];\n",
        "\n",
        "batch_X_file='batch-in.csv'\n",
        "upload_s3_csv(batch_X_file, 'batch-in', batch_X)\n",
        "\n",
        "batch_output = \"s3://{}/{}/batch-out/\".format(bucket,prefix)\n",
        "batch_input = \"s3://{}/{}/batch-in/{}\".format(bucket,prefix,batch_X_file)\n",
        "\n",
        "xgb_transformer = xgb_model.transformer(instance_count=1,\n",
        "                                       instance_type='ml.m4.xlarge',\n",
        "                                       strategy='MultiRecord',\n",
        "                                       assemble_with='Line',\n",
        "                                       output_path=batch_output)\n",
        "\n",
        "xgb_transformer.transform(data=batch_input,\n",
        "                         data_type='S3Prefix',\n",
        "                         content_type='text/csv',\n",
        "                         split_type='Line')\n",
        "xgb_transformer.wait()\n",
        "\n",
        "s3 = boto3.client('s3')\n",
        "obj = s3.get_object(Bucket=bucket, Key=\"{}/batch-out/{}\".format(prefix,'batch-in.csv.out'))\n",
        "target_predicted = pd.read_csv(io.BytesIO(obj['Body'].read()),names=['class'])"
      ]
    },
    {
      "cell_type": "code",
      "execution_count": null,
      "id": "5058d499-d773-4667-8a1d-4885e13484ba",
      "metadata": {
        "id": "5058d499-d773-4667-8a1d-4885e13484ba",
        "outputId": "05f36a07-a3b2-468b-ce6f-9dd9e1765182"
      },
      "outputs": [
        {
          "name": "stdout",
          "output_type": "stream",
          "text": [
            "0    1\n",
            "1    1\n",
            "2    1\n",
            "3    1\n",
            "4    1\n",
            "Name: class, dtype: int64\n"
          ]
        },
        {
          "data": {
            "text/html": [
              "<div>\n",
              "<style scoped>\n",
              "    .dataframe tbody tr th:only-of-type {\n",
              "        vertical-align: middle;\n",
              "    }\n",
              "\n",
              "    .dataframe tbody tr th {\n",
              "        vertical-align: top;\n",
              "    }\n",
              "\n",
              "    .dataframe thead th {\n",
              "        text-align: right;\n",
              "    }\n",
              "</style>\n",
              "<table border=\"1\" class=\"dataframe\">\n",
              "  <thead>\n",
              "    <tr style=\"text-align: right;\">\n",
              "      <th></th>\n",
              "      <th>class</th>\n",
              "      <th>pelvic_incidence</th>\n",
              "      <th>pelvic_tilt</th>\n",
              "      <th>lumbar_lordosis_angle</th>\n",
              "      <th>sacral_slope</th>\n",
              "      <th>pelvic_radius</th>\n",
              "      <th>degree_spondylolisthesis</th>\n",
              "    </tr>\n",
              "  </thead>\n",
              "  <tbody>\n",
              "    <tr>\n",
              "      <th>136</th>\n",
              "      <td>1</td>\n",
              "      <td>88.024499</td>\n",
              "      <td>39.844669</td>\n",
              "      <td>81.774473</td>\n",
              "      <td>48.179830</td>\n",
              "      <td>116.601538</td>\n",
              "      <td>56.766083</td>\n",
              "    </tr>\n",
              "    <tr>\n",
              "      <th>230</th>\n",
              "      <td>0</td>\n",
              "      <td>65.611802</td>\n",
              "      <td>23.137919</td>\n",
              "      <td>62.582179</td>\n",
              "      <td>42.473883</td>\n",
              "      <td>124.128001</td>\n",
              "      <td>-4.083298</td>\n",
              "    </tr>\n",
              "    <tr>\n",
              "      <th>134</th>\n",
              "      <td>1</td>\n",
              "      <td>52.204693</td>\n",
              "      <td>17.212673</td>\n",
              "      <td>78.094969</td>\n",
              "      <td>34.992020</td>\n",
              "      <td>136.972517</td>\n",
              "      <td>54.939134</td>\n",
              "    </tr>\n",
              "    <tr>\n",
              "      <th>130</th>\n",
              "      <td>1</td>\n",
              "      <td>50.066786</td>\n",
              "      <td>9.120340</td>\n",
              "      <td>32.168463</td>\n",
              "      <td>40.946446</td>\n",
              "      <td>99.712453</td>\n",
              "      <td>26.766697</td>\n",
              "    </tr>\n",
              "    <tr>\n",
              "      <th>47</th>\n",
              "      <td>1</td>\n",
              "      <td>41.352504</td>\n",
              "      <td>16.577364</td>\n",
              "      <td>30.706191</td>\n",
              "      <td>24.775141</td>\n",
              "      <td>113.266675</td>\n",
              "      <td>-4.497958</td>\n",
              "    </tr>\n",
              "  </tbody>\n",
              "</table>\n",
              "</div>"
            ],
            "text/plain": [
              "     class  pelvic_incidence  pelvic_tilt  lumbar_lordosis_angle  \\\n",
              "136      1         88.024499    39.844669              81.774473   \n",
              "230      0         65.611802    23.137919              62.582179   \n",
              "134      1         52.204693    17.212673              78.094969   \n",
              "130      1         50.066786     9.120340              32.168463   \n",
              "47       1         41.352504    16.577364              30.706191   \n",
              "\n",
              "     sacral_slope  pelvic_radius  degree_spondylolisthesis  \n",
              "136     48.179830     116.601538                 56.766083  \n",
              "230     42.473883     124.128001                 -4.083298  \n",
              "134     34.992020     136.972517                 54.939134  \n",
              "130     40.946446      99.712453                 26.766697  \n",
              "47      24.775141     113.266675                 -4.497958  "
            ]
          },
          "execution_count": 44,
          "metadata": {},
          "output_type": "execute_result"
        }
      ],
      "source": [
        "def binary_convert(x):\n",
        "    threshold = 0.3\n",
        "    if x > threshold:\n",
        "        return 1\n",
        "    else:\n",
        "        return 0\n",
        "\n",
        "target_predicted_binary = target_predicted['class'].apply(binary_convert)\n",
        "\n",
        "print(target_predicted_binary.head(5))\n",
        "test.head(5)"
      ]
    },
    {
      "cell_type": "code",
      "execution_count": null,
      "id": "8855f6cb-4eeb-49f1-857a-ed8a88768815",
      "metadata": {
        "id": "8855f6cb-4eeb-49f1-857a-ed8a88768815",
        "outputId": "16b10640-c1c4-4899-9447-fb900e59802e"
      },
      "outputs": [
        {
          "data": {
            "text/plain": [
              "136    1\n",
              "230    0\n",
              "134    1\n",
              "130    1\n",
              "47     1\n",
              "Name: class, dtype: int64"
            ]
          },
          "execution_count": 45,
          "metadata": {},
          "output_type": "execute_result"
        }
      ],
      "source": [
        "test_labels = test.iloc[:,0]\n",
        "test_labels.head()"
      ]
    },
    {
      "cell_type": "code",
      "execution_count": null,
      "id": "f9a018ab-9d80-4879-80bc-b578da1a9eda",
      "metadata": {
        "id": "f9a018ab-9d80-4879-80bc-b578da1a9eda",
        "outputId": "e0736437-37bd-4ca8-d022-f8086f6cdefa"
      },
      "outputs": [
        {
          "data": {
            "text/html": [
              "<div>\n",
              "<style scoped>\n",
              "    .dataframe tbody tr th:only-of-type {\n",
              "        vertical-align: middle;\n",
              "    }\n",
              "\n",
              "    .dataframe tbody tr th {\n",
              "        vertical-align: top;\n",
              "    }\n",
              "\n",
              "    .dataframe thead th {\n",
              "        text-align: right;\n",
              "    }\n",
              "</style>\n",
              "<table border=\"1\" class=\"dataframe\">\n",
              "  <thead>\n",
              "    <tr style=\"text-align: right;\">\n",
              "      <th></th>\n",
              "      <th>Normal</th>\n",
              "      <th>Abnormal</th>\n",
              "    </tr>\n",
              "  </thead>\n",
              "  <tbody>\n",
              "    <tr>\n",
              "      <th>Nnormal</th>\n",
              "      <td>7</td>\n",
              "      <td>3</td>\n",
              "    </tr>\n",
              "    <tr>\n",
              "      <th>Abnormal</th>\n",
              "      <td>2</td>\n",
              "      <td>19</td>\n",
              "    </tr>\n",
              "  </tbody>\n",
              "</table>\n",
              "</div>"
            ],
            "text/plain": [
              "          Normal  Abnormal\n",
              "Nnormal        7         3\n",
              "Abnormal       2        19"
            ]
          },
          "execution_count": 46,
          "metadata": {},
          "output_type": "execute_result"
        }
      ],
      "source": [
        "from sklearn.metrics import confusion_matrix\n",
        "\n",
        "matrix = confusion_matrix(test_labels, target_predicted_binary)\n",
        "df_confusion = pd.DataFrame(matrix, index=['Nnormal','Abnormal'],columns=['Normal','Abnormal'])\n",
        "\n",
        "df_confusion"
      ]
    },
    {
      "cell_type": "code",
      "execution_count": null,
      "id": "5eac733b-9e6c-4a19-9343-6a83f6fccd7e",
      "metadata": {
        "id": "5eac733b-9e6c-4a19-9343-6a83f6fccd7e",
        "outputId": "c76fc3a1-b80f-4dff-cb30-23758ed22852"
      },
      "outputs": [
        {
          "data": {
            "image/png": "[encoded data removed]",
            "text/plain": [
              "<Figure size 640x480 with 1 Axes>"
            ]
          },
          "metadata": {},
          "output_type": "display_data"
        }
      ],
      "source": [
        "import seaborn as sns\n",
        "import matplotlib.pyplot as plt\n",
        "\n",
        "colormap = sns.color_palette(\"BrBG\", 10)\n",
        "sns.heatmap(df_confusion, annot=True, cbar=None, cmap=colormap)\n",
        "plt.title(\"Confusion Matrix\")\n",
        "plt.tight_layout()\n",
        "plt.ylabel(\"True Class\")\n",
        "plt.xlabel(\"Predicted Class\")\n",
        "plt.show()"
      ]
    },
    {
      "cell_type": "code",
      "execution_count": null,
      "id": "b5c8180d-bd56-46df-abe3-42e55f32490d",
      "metadata": {
        "tags": [],
        "id": "b5c8180d-bd56-46df-abe3-42e55f32490d",
        "outputId": "19eec099-e64b-44d9-e4be-6c37adfc08bb"
      },
      "outputs": [
        {
          "name": "stdout",
          "output_type": "stream",
          "text": [
            "True Negative (TN) : 7\n",
            "False Positive (FP): 3\n",
            "False Negative (FN): 2\n",
            "True Positive (TP) : 19\n"
          ]
        }
      ],
      "source": [
        "\n",
        "from sklearn.metrics import roc_auc_score, roc_curve, auc\n",
        "\n",
        "TN, FP, FN, TP = confusion_matrix(test_labels, target_predicted_binary).ravel()\n",
        "\n",
        "print(f\"True Negative (TN) : {TN}\")\n",
        "print(f\"False Positive (FP): {FP}\")\n",
        "print(f\"False Negative (FN): {FN}\")\n",
        "print(f\"True Positive (TP) : {TP}\")"
      ]
    },
    {
      "cell_type": "code",
      "execution_count": null,
      "id": "23fa86fb-f5da-48a4-b8fa-73bd3fcda846",
      "metadata": {
        "tags": [],
        "id": "23fa86fb-f5da-48a4-b8fa-73bd3fcda846",
        "outputId": "1e7d3092-41c2-45d6-c05e-1aa692138eb8"
      },
      "outputs": [
        {
          "name": "stdout",
          "output_type": "stream",
          "text": [
            "Sensitivity or TPR: 90.47619047619048%\n",
            "There is a 90.47619047619048% chance of detecting patients with an abnormality have an abnormality\n"
          ]
        }
      ],
      "source": [
        "# Sensitivity, hit rate, recall, or true positive rate\n",
        "Sensitivity  = float(TP)/(TP+FN)*100\n",
        "print(f\"Sensitivity or TPR: {Sensitivity}%\")\n",
        "print(f\"There is a {Sensitivity}% chance of detecting patients with an abnormality have an abnormality\")"
      ]
    },
    {
      "cell_type": "code",
      "execution_count": null,
      "id": "66fee719-05d8-41be-9629-ba4cbd8f7f63",
      "metadata": {
        "tags": [],
        "id": "66fee719-05d8-41be-9629-ba4cbd8f7f63",
        "outputId": "8f2187f6-8187-4268-f2ad-7c1421eab488"
      },
      "outputs": [
        {
          "name": "stdout",
          "output_type": "stream",
          "text": [
            "Specificity or TNR: 70.0%\n",
            "There is a 70.0% chance of detecting normal patients are normal.\n"
          ]
        }
      ],
      "source": [
        "# Specificity or true negative rate\n",
        "Specificity  = float(TN)/(TN+FP)*100\n",
        "print(f\"Specificity or TNR: {Specificity}%\")\n",
        "print(f\"There is a {Specificity}% chance of detecting normal patients are normal.\")\n"
      ]
    },
    {
      "cell_type": "code",
      "execution_count": null,
      "id": "165d9653-86de-4bb4-a56a-533e7bc275da",
      "metadata": {
        "tags": [],
        "id": "165d9653-86de-4bb4-a56a-533e7bc275da",
        "outputId": "93db97c3-0d1b-45b0-bf3e-65b0d73c183d"
      },
      "outputs": [
        {
          "name": "stdout",
          "output_type": "stream",
          "text": [
            "Precision: 86.36363636363636%\n",
            "You have an abnormality, and the probablity that is correct is 86.36363636363636%\n"
          ]
        }
      ],
      "source": [
        "# Precision or positive predictive value\n",
        "Precision = float(TP)/(TP+FP)*100\n",
        "print(f\"Precision: {Precision}%\")\n",
        "print(f\"You have an abnormality, and the probablity that is correct is {Precision}%\")"
      ]
    },
    {
      "cell_type": "code",
      "execution_count": null,
      "id": "9a3be60d-e95e-4c6b-9321-b6febe354a01",
      "metadata": {
        "tags": [],
        "id": "9a3be60d-e95e-4c6b-9321-b6febe354a01",
        "outputId": "09d47660-d729-4d17-b80b-c1ee82c4b924"
      },
      "outputs": [
        {
          "name": "stdout",
          "output_type": "stream",
          "text": [
            "Negative Predictive Value: 77.77777777777779%\n",
            "You don't have an abnormality, but there is a 77.77777777777779% chance that is incorrect\n"
          ]
        }
      ],
      "source": [
        "# Negative predictive value\n",
        "NPV = float(TN)/(TN+FN)*100\n",
        "print(f\"Negative Predictive Value: {NPV}%\")\n",
        "print(f\"You don't have an abnormality, but there is a {NPV}% chance that is incorrect\" )"
      ]
    },
    {
      "cell_type": "code",
      "execution_count": null,
      "id": "2608b226-6655-473b-bc5d-d07fad2e69ba",
      "metadata": {
        "tags": [],
        "id": "2608b226-6655-473b-bc5d-d07fad2e69ba",
        "outputId": "056db7c0-191c-44c8-aeb5-a2d82ff20caf"
      },
      "outputs": [
        {
          "name": "stdout",
          "output_type": "stream",
          "text": [
            "False Positive Rate: 30.0%\n",
            "There is a 30.0% chance that this positive result is incorrect.\n"
          ]
        }
      ],
      "source": [
        "# Fall out or false positive rate\n",
        "FPR = float(FP)/(FP+TN)*100\n",
        "print( f\"False Positive Rate: {FPR}%\")\n",
        "print( f\"There is a {FPR}% chance that this positive result is incorrect.\")"
      ]
    },
    {
      "cell_type": "code",
      "execution_count": null,
      "id": "08ee0b9c-5b9f-4256-8902-37c379444922",
      "metadata": {
        "tags": [],
        "id": "08ee0b9c-5b9f-4256-8902-37c379444922",
        "outputId": "83dd5a59-fa82-48a6-b9e8-5e7aba28726f"
      },
      "outputs": [
        {
          "name": "stdout",
          "output_type": "stream",
          "text": [
            "False Negative Rate: 9.523809523809524%\n",
            "There is a 9.523809523809524% chance that this negative result is incorrect.\n"
          ]
        }
      ],
      "source": [
        "# False negative rate\n",
        "FNR = float(FN)/(TP+FN)*100\n",
        "print(f\"False Negative Rate: {FNR}%\")\n",
        "print(f\"There is a {FNR}% chance that this negative result is incorrect.\")"
      ]
    },
    {
      "cell_type": "code",
      "execution_count": null,
      "id": "88c53c1d-ff9e-4ec5-8061-1d9df2134076",
      "metadata": {
        "tags": [],
        "id": "88c53c1d-ff9e-4ec5-8061-1d9df2134076",
        "outputId": "453d4b44-eb34-49b4-ec8e-31aa6e3cddaa"
      },
      "outputs": [
        {
          "name": "stdout",
          "output_type": "stream",
          "text": [
            "False Discovery Rate: 13.636363636363635%\n",
            "You have an abnormality, but there is a 13.636363636363635% chance this is incorrect.\n"
          ]
        }
      ],
      "source": [
        "# False discovery rate\n",
        "FDR = float(FP)/(TP+FP)*100\n",
        "print(f\"False Discovery Rate: {FDR}%\" )\n",
        "print(f\"You have an abnormality, but there is a {FDR}% chance this is incorrect.\")"
      ]
    },
    {
      "cell_type": "code",
      "execution_count": null,
      "id": "48fc855c-d213-4d8c-8bd0-c9c004094df9",
      "metadata": {
        "tags": [],
        "id": "48fc855c-d213-4d8c-8bd0-c9c004094df9",
        "outputId": "096aeb62-2da1-4e8b-bdea-2d8e0a94b15a"
      },
      "outputs": [
        {
          "name": "stdout",
          "output_type": "stream",
          "text": [
            "Accuracy: 83.87096774193549%\n"
          ]
        }
      ],
      "source": [
        "# Overall accuracy\n",
        "ACC = float(TP+TN)/(TP+FP+FN+TN)*100\n",
        "print(f\"Accuracy: {ACC}%\")"
      ]
    },
    {
      "cell_type": "code",
      "execution_count": null,
      "id": "a6eb141b-7abd-4374-b077-b75772b0f46b",
      "metadata": {
        "tags": [],
        "id": "a6eb141b-7abd-4374-b077-b75772b0f46b",
        "outputId": "1a71c7d0-c7a5-42e3-cc31-2dd851ed9238"
      },
      "outputs": [
        {
          "name": "stdout",
          "output_type": "stream",
          "text": [
            "Sensitivity or TPR: 90.47619047619048%\n",
            "Specificity or TNR: 70.0%\n",
            "Precision: 86.36363636363636%\n",
            "Negative Predictive Value: 77.77777777777779%\n",
            "False Positive Rate: 30.0%\n",
            "False Negative Rate: 9.523809523809524%\n",
            "False Discovery Rate: 13.636363636363635%\n",
            "Accuracy: 83.87096774193549%\n"
          ]
        }
      ],
      "source": [
        "print(f\"Sensitivity or TPR: {Sensitivity}%\")\n",
        "print(f\"Specificity or TNR: {Specificity}%\")\n",
        "print(f\"Precision: {Precision}%\")\n",
        "print(f\"Negative Predictive Value: {NPV}%\")\n",
        "print( f\"False Positive Rate: {FPR}%\")\n",
        "print(f\"False Negative Rate: {FNR}%\")\n",
        "print(f\"False Discovery Rate: {FDR}%\" )\n",
        "print(f\"Accuracy: {ACC}%\")"
      ]
    },
    {
      "cell_type": "markdown",
      "id": "9719ab09-a496-44cd-aad6-e5accc5b3ffc",
      "metadata": {
        "id": "9719ab09-a496-44cd-aad6-e5accc5b3ffc"
      },
      "source": [
        "Step 4: Calculating the AUC-ROC Curve\n",
        "The scikit-learn library has functions that can help you compute the area under the receiver operating characteristic curve (AUC-ROC).\n",
        "\n",
        "The ROC is a probability curve.\n",
        "The AUC tells you how well the model can distinguish between classes.\n",
        "The AUC can be calculated. As you will see in the next lab, it can be used to measure the performance of the model.\n",
        "\n",
        "In this example, the higher the AUC, the better the model is at distinguishing between abnormal and normal patients.\n",
        "\n",
        "Depending on the value you set for the threshold, the AUC can change. You can plot the AUC by using the probability instead of your converted class."
      ]
    },
    {
      "cell_type": "code",
      "execution_count": null,
      "id": "d5ee3f78-cfcd-4739-9b50-ab5f870ac2fb",
      "metadata": {
        "tags": [],
        "id": "d5ee3f78-cfcd-4739-9b50-ab5f870ac2fb",
        "outputId": "aa25a5c5-6ffb-4f76-c06c-741e391cbb80"
      },
      "outputs": [
        {
          "name": "stdout",
          "output_type": "stream",
          "text": [
            "Validation AUC 0.8904761904761904\n"
          ]
        }
      ],
      "source": [
        "test_labels = test.iloc[:,0];\n",
        "print(\"Validation AUC\", roc_auc_score(test_labels, target_predicted) )"
      ]
    },
    {
      "cell_type": "code",
      "execution_count": null,
      "id": "cba73295-aa52-466c-8917-4d2c1aa5e258",
      "metadata": {
        "tags": [],
        "id": "cba73295-aa52-466c-8917-4d2c1aa5e258",
        "outputId": "a03e0878-bfcf-49a3-9902-c3d9dc0bcead"
      },
      "outputs": [
        {
          "ename": "ValueError",
          "evalue": "Axis limits cannot be NaN or Inf",
          "output_type": "error",
          "traceback": [
            "\u001b[0;31m---------------------------------------------------------------------------\u001b[0m",
            "\u001b[0;31mValueError\u001b[0m                                Traceback (most recent call last)",
            "Cell \u001b[0;32mIn[59], line 18\u001b[0m\n\u001b[1;32m     16\u001b[0m ax2\u001b[38;5;241m.\u001b[39mplot(fpr, thresholds, markeredgecolor\u001b[38;5;241m=\u001b[39m\u001b[38;5;124m'\u001b[39m\u001b[38;5;124mr\u001b[39m\u001b[38;5;124m'\u001b[39m,linestyle\u001b[38;5;241m=\u001b[39m\u001b[38;5;124m'\u001b[39m\u001b[38;5;124mdashed\u001b[39m\u001b[38;5;124m'\u001b[39m, color\u001b[38;5;241m=\u001b[39m\u001b[38;5;124m'\u001b[39m\u001b[38;5;124mr\u001b[39m\u001b[38;5;124m'\u001b[39m)\n\u001b[1;32m     17\u001b[0m ax2\u001b[38;5;241m.\u001b[39mset_ylabel(\u001b[38;5;124m'\u001b[39m\u001b[38;5;124mThreshold\u001b[39m\u001b[38;5;124m'\u001b[39m,color\u001b[38;5;241m=\u001b[39m\u001b[38;5;124m'\u001b[39m\u001b[38;5;124mr\u001b[39m\u001b[38;5;124m'\u001b[39m)\n\u001b[0;32m---> 18\u001b[0m \u001b[43max2\u001b[49m\u001b[38;5;241;43m.\u001b[39;49m\u001b[43mset_ylim\u001b[49m\u001b[43m(\u001b[49m\u001b[43m[\u001b[49m\u001b[43mthresholds\u001b[49m\u001b[43m[\u001b[49m\u001b[38;5;241;43m-\u001b[39;49m\u001b[38;5;241;43m1\u001b[39;49m\u001b[43m]\u001b[49m\u001b[43m,\u001b[49m\u001b[43mthresholds\u001b[49m\u001b[43m[\u001b[49m\u001b[38;5;241;43m0\u001b[39;49m\u001b[43m]\u001b[49m\u001b[43m]\u001b[49m\u001b[43m)\u001b[49m\n\u001b[1;32m     19\u001b[0m ax2\u001b[38;5;241m.\u001b[39mset_xlim([fpr[\u001b[38;5;241m0\u001b[39m],fpr[\u001b[38;5;241m-\u001b[39m\u001b[38;5;241m1\u001b[39m]])\n\u001b[1;32m     21\u001b[0m \u001b[38;5;28mprint\u001b[39m(plt\u001b[38;5;241m.\u001b[39mfigure())\n",
            "File \u001b[0;32m~/anaconda3/envs/python3/lib/python3.10/site-packages/matplotlib/axes/_base.py:3898\u001b[0m, in \u001b[0;36m_AxesBase.set_ylim\u001b[0;34m(self, bottom, top, emit, auto, ymin, ymax)\u001b[0m\n\u001b[1;32m   3896\u001b[0m         \u001b[38;5;28;01mraise\u001b[39;00m \u001b[38;5;167;01mTypeError\u001b[39;00m(\u001b[38;5;124m\"\u001b[39m\u001b[38;5;124mCannot pass both \u001b[39m\u001b[38;5;124m'\u001b[39m\u001b[38;5;124mtop\u001b[39m\u001b[38;5;124m'\u001b[39m\u001b[38;5;124m and \u001b[39m\u001b[38;5;124m'\u001b[39m\u001b[38;5;124mymax\u001b[39m\u001b[38;5;124m'\u001b[39m\u001b[38;5;124m\"\u001b[39m)\n\u001b[1;32m   3897\u001b[0m     top \u001b[38;5;241m=\u001b[39m ymax\n\u001b[0;32m-> 3898\u001b[0m \u001b[38;5;28;01mreturn\u001b[39;00m \u001b[38;5;28;43mself\u001b[39;49m\u001b[38;5;241;43m.\u001b[39;49m\u001b[43myaxis\u001b[49m\u001b[38;5;241;43m.\u001b[39;49m\u001b[43m_set_lim\u001b[49m\u001b[43m(\u001b[49m\u001b[43mbottom\u001b[49m\u001b[43m,\u001b[49m\u001b[43m \u001b[49m\u001b[43mtop\u001b[49m\u001b[43m,\u001b[49m\u001b[43m \u001b[49m\u001b[43memit\u001b[49m\u001b[38;5;241;43m=\u001b[39;49m\u001b[43memit\u001b[49m\u001b[43m,\u001b[49m\u001b[43m \u001b[49m\u001b[43mauto\u001b[49m\u001b[38;5;241;43m=\u001b[39;49m\u001b[43mauto\u001b[49m\u001b[43m)\u001b[49m\n",
            "File \u001b[0;32m~/anaconda3/envs/python3/lib/python3.10/site-packages/matplotlib/axis.py:1211\u001b[0m, in \u001b[0;36mAxis._set_lim\u001b[0;34m(self, v0, v1, emit, auto)\u001b[0m\n\u001b[1;32m   1209\u001b[0m \u001b[38;5;28mself\u001b[39m\u001b[38;5;241m.\u001b[39maxes\u001b[38;5;241m.\u001b[39m_process_unit_info([(name, (v0, v1))], convert\u001b[38;5;241m=\u001b[39m\u001b[38;5;28;01mFalse\u001b[39;00m)\n\u001b[1;32m   1210\u001b[0m v0 \u001b[38;5;241m=\u001b[39m \u001b[38;5;28mself\u001b[39m\u001b[38;5;241m.\u001b[39maxes\u001b[38;5;241m.\u001b[39m_validate_converted_limits(v0, \u001b[38;5;28mself\u001b[39m\u001b[38;5;241m.\u001b[39mconvert_units)\n\u001b[0;32m-> 1211\u001b[0m v1 \u001b[38;5;241m=\u001b[39m \u001b[38;5;28;43mself\u001b[39;49m\u001b[38;5;241;43m.\u001b[39;49m\u001b[43maxes\u001b[49m\u001b[38;5;241;43m.\u001b[39;49m\u001b[43m_validate_converted_limits\u001b[49m\u001b[43m(\u001b[49m\u001b[43mv1\u001b[49m\u001b[43m,\u001b[49m\u001b[43m \u001b[49m\u001b[38;5;28;43mself\u001b[39;49m\u001b[38;5;241;43m.\u001b[39;49m\u001b[43mconvert_units\u001b[49m\u001b[43m)\u001b[49m\n\u001b[1;32m   1213\u001b[0m \u001b[38;5;28;01mif\u001b[39;00m v0 \u001b[38;5;129;01mis\u001b[39;00m \u001b[38;5;28;01mNone\u001b[39;00m \u001b[38;5;129;01mor\u001b[39;00m v1 \u001b[38;5;129;01mis\u001b[39;00m \u001b[38;5;28;01mNone\u001b[39;00m:\n\u001b[1;32m   1214\u001b[0m     \u001b[38;5;66;03m# Axes init calls set_xlim(0, 1) before get_xlim() can be called,\u001b[39;00m\n\u001b[1;32m   1215\u001b[0m     \u001b[38;5;66;03m# so only grab the limits if we really need them.\u001b[39;00m\n\u001b[1;32m   1216\u001b[0m     old0, old1 \u001b[38;5;241m=\u001b[39m \u001b[38;5;28mself\u001b[39m\u001b[38;5;241m.\u001b[39mget_view_interval()\n",
            "File \u001b[0;32m~/anaconda3/envs/python3/lib/python3.10/site-packages/matplotlib/axes/_base.py:3585\u001b[0m, in \u001b[0;36m_AxesBase._validate_converted_limits\u001b[0;34m(self, limit, convert)\u001b[0m\n\u001b[1;32m   3582\u001b[0m     converted_limit \u001b[38;5;241m=\u001b[39m converted_limit\u001b[38;5;241m.\u001b[39msqueeze()\n\u001b[1;32m   3583\u001b[0m \u001b[38;5;28;01mif\u001b[39;00m (\u001b[38;5;28misinstance\u001b[39m(converted_limit, Real)\n\u001b[1;32m   3584\u001b[0m         \u001b[38;5;129;01mand\u001b[39;00m \u001b[38;5;129;01mnot\u001b[39;00m np\u001b[38;5;241m.\u001b[39misfinite(converted_limit)):\n\u001b[0;32m-> 3585\u001b[0m     \u001b[38;5;28;01mraise\u001b[39;00m \u001b[38;5;167;01mValueError\u001b[39;00m(\u001b[38;5;124m\"\u001b[39m\u001b[38;5;124mAxis limits cannot be NaN or Inf\u001b[39m\u001b[38;5;124m\"\u001b[39m)\n\u001b[1;32m   3586\u001b[0m \u001b[38;5;28;01mreturn\u001b[39;00m converted_limit\n",
            "\u001b[0;31mValueError\u001b[0m: Axis limits cannot be NaN or Inf"
          ]
        },
        {
          "data": {
            "image/png": "[encoded data removed]",
            "text/plain": [
              "<Figure size 640x480 with 2 Axes>"
            ]
          },
          "metadata": {},
          "output_type": "display_data"
        }
      ],
      "source": [
        "fpr, tpr, thresholds = roc_curve(test_labels, target_predicted)\n",
        "roc_auc = auc(fpr, tpr)\n",
        "\n",
        "plt.figure()\n",
        "plt.plot(fpr, tpr, label='ROC curve (area = %0.2f)' % (roc_auc))\n",
        "plt.plot([0, 1], [0, 1], 'k--')\n",
        "plt.xlim([0.0, 1.0])\n",
        "plt.ylim([0.0, 1.05])\n",
        "plt.xlabel('False Positive Rate')\n",
        "plt.ylabel('True Positive Rate')\n",
        "plt.title('Receiver operating characteristic')\n",
        "plt.legend(loc=\"lower right\")\n",
        "\n",
        "# create the axis of thresholds (scores)\n",
        "ax2 = plt.gca().twinx()\n",
        "ax2.plot(fpr, thresholds, markeredgecolor='r',linestyle='dashed', color='r')\n",
        "ax2.set_ylabel('Threshold',color='r')\n",
        "ax2.set_ylim([thresholds[-1],thresholds[0]])\n",
        "ax2.set_xlim([fpr[0],fpr[-1]])\n",
        "\n",
        "print(plt.figure())"
      ]
    },
    {
      "cell_type": "code",
      "execution_count": null,
      "id": "561eaa8c-88d5-4dd9-84dd-33c3439c5d7e",
      "metadata": {
        "id": "561eaa8c-88d5-4dd9-84dd-33c3439c5d7e"
      },
      "outputs": [],
      "source": []
    }
  ],
  "metadata": {
    "kernelspec": {
      "display_name": "conda_python3",
      "language": "python",
      "name": "conda_python3"
    },
    "language_info": {
      "codemirror_mode": {
        "name": "ipython",
        "version": 3
      },
      "file_extension": ".py",
      "mimetype": "text/x-python",
      "name": "python",
      "nbconvert_exporter": "python",
      "pygments_lexer": "ipython3",
      "version": "3.10.14"
    },
    "colab": {
      "provenance": []
    }
  },
  "nbformat": 4,
  "nbformat_minor": 5
}