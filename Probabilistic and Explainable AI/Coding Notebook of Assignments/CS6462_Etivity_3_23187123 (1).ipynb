{
  "cells": [
    {
      "cell_type": "markdown",
      "id": "b8e5ed62",
      "metadata": {
        "id": "b8e5ed62"
      },
      "source": [
        "<div>\n",
        "<img src=\"https://drive.google.com/uc?export=view&id=1vK33e_EqaHgBHcbRV_m38hx6IkG0blK_\" width=\"350\"/>\n",
        "</div>\n",
        "\n",
        "# **Artificial Intelligence - MSc**\n",
        "\n",
        "## CS6462 - PROBABILISTIC AND EXPLAINABLE AI\n",
        "## SEM2 2022/3\n",
        "\n",
        "### CS6462 Etivity 3 - Causal Graphical Model vs Bayesian Graphical Model\n",
        "\n",
        "### Instructor: Emil Vassev\n",
        "April 10th, 2023\n",
        "<br><br>\n",
        "Copyright (C) 2023 - All rights reserved, do not copy or distribute without permission of the author.\n",
        "***"
      ]
    },
    {
      "cell_type": "markdown",
      "id": "6c2603d7",
      "metadata": {
        "id": "6c2603d7"
      },
      "source": [
        "## Submission Info\n",
        "### Student Name: <span style=\"color:red\"> Ananya Krithika  </span>\n",
        "### Student Surname: <span style=\"color:red\">Thyagarajan </span>\n",
        "### Student ID: <span style=\"color:red\">23187123 </span>\n",
        "### Date of Final Submission: <span style=\"color:red\"> 27 April 2024</span>\n",
        "***"
      ]
    },
    {
      "cell_type": "markdown",
      "id": "a2b8d751",
      "metadata": {
        "id": "a2b8d751"
      },
      "source": [
        "## Task\n",
        "In this e-tivity, you are asked to build a Causal Graphical Model by using the <b>causalgraphicalmodels</b> library and do interventions on this model. Then you are asked to build the same model but as a Bayesian Network by using the <b>BayesianNetwork</b> construct of the <b>pgmpy.models</b> library. Both models need to cover a real-life scenario targeting getting late at work.\n",
        "\n",
        "## The real-life scenario\n",
        "\n",
        "Here, you can find a set of random variables X = {X1, X2, ... , X12}:\n",
        "<li>X1 = “late for work”</li>\n",
        "<li>X2 = “low speed due to long vehicle queues”</li>\n",
        "<li>X3 = “traffic jam”</li>\n",
        "<li>X4 = “traffic accident”</li>\n",
        "<li>X5 = “heavy rain”</li>\n",
        "<li>X6 = “snow”</li>\n",
        "<li>X7 = “slippery road”</li>\n",
        "<li>X8 = “getting up late”</li>\n",
        "<li>X9 = “road is blocked”</li>\n",
        "<li>X10 = “taking a longer alternative route”</li>\n",
        "<li>X11 = “car malfunction”</li>\n",
        "<li>X12 = “car towing”</li>\n",
        "\n",
        "Use your logic to build a <b>realistic</b> causal network, which then can be transformed to a Bayesian Network (Causal Bayesian Network). In this network, the parent-child relationships should be deduced based on your logic. You need to use all the random variables.\n",
        "    \n",
        "### Here are the steps you need to follow:"
      ]
    },
    {
      "cell_type": "markdown",
      "id": "a2788722",
      "metadata": {
        "id": "a2788722"
      },
      "source": [
        "## Step 1: Create and Execute the Causal Network (50%)"
      ]
    },
    {
      "cell_type": "markdown",
      "id": "6b20db4c",
      "metadata": {
        "id": "6b20db4c"
      },
      "source": [
        "### Step 1.1. Describe your logic of deducing the causal relationships. (10%)\n",
        "Outline the problem in terms of:\n",
        "<li>causal dependencies among the random variables</li>\n",
        "<li>short rationale on the parent-child relationships</li>    \n"
      ]
    },
    {
      "cell_type": "markdown",
      "id": "dc9249ff",
      "metadata": {
        "id": "dc9249ff"
      },
      "source": [
        "<span style=\"color:red\">TODO: your description goes here</span>"
      ]
    },
    {
      "cell_type": "markdown",
      "source": [
        "# **Description**\n",
        "\n",
        "**Being late for work (X1):**\n",
        "\n",
        "  1. Directly affected by multiple factors: sluggish traffic, traffic congestion, oversleeping, and choosing a longer route.\n",
        "  2. Indirectly affected by car malfunction, vehicle towing, road obstruction, traffic collisions, inclement weather such as heavy rain, snow, and slippery road conditions.\n",
        "\n",
        "\n",
        "\n",
        "**Slow traffic (X2):**\n",
        "\n",
        "Caused directly by the presence of a slick road surface.\n",
        "\n",
        "Additionally, sluggish traffic has the potential to result in a traffic congestion, causing delays in reaching one's workplace.\n",
        "\n",
        "\n",
        "**Traffic jam (X3):**\n",
        "\n",
        "Directly affected by sluggish traffic, vehicle towing, road obstruction.\n",
        "Furthermore, traffic congestion can result in opting for a longer route and hence arriving late for work.\n",
        "\n",
        "\n",
        "\n",
        "**Traffic accident (X4):**\n",
        "\n",
        "Leads to road blockage.\n",
        "\n",
        "\n",
        "**Heavy rain (X5) and Snow (X6):**\n",
        "  \n",
        "Leads to slippery road and road blockage.\n",
        "\n",
        "\n",
        "**Slippery road (X7):**\n",
        "\n",
        "  Leads to slow traffic.\n",
        "\n",
        "**Getting up late (X8):**\n",
        "\n",
        "Leads to being late for work.\n",
        "\n",
        "\n",
        "**Road is blocked (X9):**\n",
        "\n",
        "Directly impacted by Traffic accident which leads to Traffic jam.\n",
        "\n",
        "\n",
        "**Taking longer route (X10):**\n",
        "\n",
        "Directly impacted by Traffic jam which leads to being late to work.\n",
        "\n",
        "\n",
        "**Car breakdown (X11):**\n",
        "  \n",
        "Leads to car towing.\n",
        "\n",
        "\n",
        "**Car towing (X12):**\n",
        "\n",
        "Directly impacted by Car breakdown, which leads to being late for work.\n"
      ],
      "metadata": {
        "id": "hlYPmoiscG-d"
      },
      "id": "hlYPmoiscG-d"
    },
    {
      "cell_type": "code",
      "source": [
        "%pip install causalgraphicalmodels\n",
        "%pip install graphviz\n"
      ],
      "metadata": {
        "colab": {
          "base_uri": "https://localhost:8080/"
        },
        "id": "VbuY5KgMv93I",
        "outputId": "893bf48c-55cc-4696-a50a-93852fbce898"
      },
      "id": "VbuY5KgMv93I",
      "execution_count": null,
      "outputs": [
        {
          "output_type": "stream",
          "name": "stdout",
          "text": [
            "Collecting causalgraphicalmodels\n",
            "  Downloading causalgraphicalmodels-0.0.4-py3-none-any.whl (11 kB)\n",
            "Requirement already satisfied: graphviz in /usr/local/lib/python3.10/dist-packages (from causalgraphicalmodels) (0.20.3)\n",
            "Requirement already satisfied: networkx in /usr/local/lib/python3.10/dist-packages (from causalgraphicalmodels) (3.3)\n",
            "Requirement already satisfied: numpy in /usr/local/lib/python3.10/dist-packages (from causalgraphicalmodels) (1.25.2)\n",
            "Requirement already satisfied: pandas in /usr/local/lib/python3.10/dist-packages (from causalgraphicalmodels) (2.0.3)\n",
            "Requirement already satisfied: python-dateutil>=2.8.2 in /usr/local/lib/python3.10/dist-packages (from pandas->causalgraphicalmodels) (2.8.2)\n",
            "Requirement already satisfied: pytz>=2020.1 in /usr/local/lib/python3.10/dist-packages (from pandas->causalgraphicalmodels) (2023.4)\n",
            "Requirement already satisfied: tzdata>=2022.1 in /usr/local/lib/python3.10/dist-packages (from pandas->causalgraphicalmodels) (2024.1)\n",
            "Requirement already satisfied: six>=1.5 in /usr/local/lib/python3.10/dist-packages (from python-dateutil>=2.8.2->pandas->causalgraphicalmodels) (1.16.0)\n",
            "Installing collected packages: causalgraphicalmodels\n",
            "Successfully installed causalgraphicalmodels-0.0.4\n",
            "Requirement already satisfied: graphviz in /usr/local/lib/python3.10/dist-packages (0.20.3)\n"
          ]
        }
      ]
    },
    {
      "cell_type": "code",
      "source": [
        "from collections.abc import Iterable\n",
        "%pip install causalgraphicalmodels\n",
        "%pip install pgmpy\n"
      ],
      "metadata": {
        "colab": {
          "base_uri": "https://localhost:8080/"
        },
        "id": "o4QP0MxWw0f5",
        "outputId": "0eccbf33-cc7b-4913-be9b-a43f3a855303"
      },
      "id": "o4QP0MxWw0f5",
      "execution_count": null,
      "outputs": [
        {
          "output_type": "stream",
          "name": "stdout",
          "text": [
            "Collecting causalgraphicalmodels\n",
            "  Downloading causalgraphicalmodels-0.0.4-py3-none-any.whl (11 kB)\n",
            "Requirement already satisfied: graphviz in /usr/local/lib/python3.10/dist-packages (from causalgraphicalmodels) (0.20.3)\n",
            "Requirement already satisfied: networkx in /usr/local/lib/python3.10/dist-packages (from causalgraphicalmodels) (3.3)\n",
            "Requirement already satisfied: numpy in /usr/local/lib/python3.10/dist-packages (from causalgraphicalmodels) (1.25.2)\n",
            "Requirement already satisfied: pandas in /usr/local/lib/python3.10/dist-packages (from causalgraphicalmodels) (2.0.3)\n",
            "Requirement already satisfied: python-dateutil>=2.8.2 in /usr/local/lib/python3.10/dist-packages (from pandas->causalgraphicalmodels) (2.8.2)\n",
            "Requirement already satisfied: pytz>=2020.1 in /usr/local/lib/python3.10/dist-packages (from pandas->causalgraphicalmodels) (2023.4)\n",
            "Requirement already satisfied: tzdata>=2022.1 in /usr/local/lib/python3.10/dist-packages (from pandas->causalgraphicalmodels) (2024.1)\n",
            "Requirement already satisfied: six>=1.5 in /usr/local/lib/python3.10/dist-packages (from python-dateutil>=2.8.2->pandas->causalgraphicalmodels) (1.16.0)\n",
            "Installing collected packages: causalgraphicalmodels\n",
            "Successfully installed causalgraphicalmodels-0.0.4\n",
            "Collecting pgmpy\n",
            "  Downloading pgmpy-0.1.25-py3-none-any.whl (2.0 MB)\n",
            "\u001b[2K     \u001b[90m━━━━━━━━━━━━━━━━━━━━━━━━━━━━━━━━━━━━━━━━\u001b[0m \u001b[32m2.0/2.0 MB\u001b[0m \u001b[31m10.0 MB/s\u001b[0m eta \u001b[36m0:00:00\u001b[0m\n",
            "\u001b[?25hRequirement already satisfied: networkx in /usr/local/lib/python3.10/dist-packages (from pgmpy) (3.3)\n",
            "Requirement already satisfied: numpy in /usr/local/lib/python3.10/dist-packages (from pgmpy) (1.25.2)\n",
            "Requirement already satisfied: scipy in /usr/local/lib/python3.10/dist-packages (from pgmpy) (1.11.4)\n",
            "Requirement already satisfied: scikit-learn in /usr/local/lib/python3.10/dist-packages (from pgmpy) (1.2.2)\n",
            "Requirement already satisfied: pandas in /usr/local/lib/python3.10/dist-packages (from pgmpy) (2.0.3)\n",
            "Requirement already satisfied: pyparsing in /usr/local/lib/python3.10/dist-packages (from pgmpy) (3.1.2)\n",
            "Requirement already satisfied: torch in /usr/local/lib/python3.10/dist-packages (from pgmpy) (2.2.1+cu121)\n",
            "Requirement already satisfied: statsmodels in /usr/local/lib/python3.10/dist-packages (from pgmpy) (0.14.2)\n",
            "Requirement already satisfied: tqdm in /usr/local/lib/python3.10/dist-packages (from pgmpy) (4.66.2)\n",
            "Requirement already satisfied: joblib in /usr/local/lib/python3.10/dist-packages (from pgmpy) (1.4.0)\n",
            "Requirement already satisfied: opt-einsum in /usr/local/lib/python3.10/dist-packages (from pgmpy) (3.3.0)\n",
            "Requirement already satisfied: python-dateutil>=2.8.2 in /usr/local/lib/python3.10/dist-packages (from pandas->pgmpy) (2.8.2)\n",
            "Requirement already satisfied: pytz>=2020.1 in /usr/local/lib/python3.10/dist-packages (from pandas->pgmpy) (2023.4)\n",
            "Requirement already satisfied: tzdata>=2022.1 in /usr/local/lib/python3.10/dist-packages (from pandas->pgmpy) (2024.1)\n",
            "Requirement already satisfied: threadpoolctl>=2.0.0 in /usr/local/lib/python3.10/dist-packages (from scikit-learn->pgmpy) (3.4.0)\n",
            "Requirement already satisfied: patsy>=0.5.6 in /usr/local/lib/python3.10/dist-packages (from statsmodels->pgmpy) (0.5.6)\n",
            "Requirement already satisfied: packaging>=21.3 in /usr/local/lib/python3.10/dist-packages (from statsmodels->pgmpy) (24.0)\n",
            "Requirement already satisfied: filelock in /usr/local/lib/python3.10/dist-packages (from torch->pgmpy) (3.13.4)\n",
            "Requirement already satisfied: typing-extensions>=4.8.0 in /usr/local/lib/python3.10/dist-packages (from torch->pgmpy) (4.11.0)\n",
            "Requirement already satisfied: sympy in /usr/local/lib/python3.10/dist-packages (from torch->pgmpy) (1.12)\n",
            "Requirement already satisfied: jinja2 in /usr/local/lib/python3.10/dist-packages (from torch->pgmpy) (3.1.3)\n",
            "Requirement already satisfied: fsspec in /usr/local/lib/python3.10/dist-packages (from torch->pgmpy) (2023.6.0)\n",
            "Collecting nvidia-cuda-nvrtc-cu12==12.1.105 (from torch->pgmpy)\n",
            "  Using cached nvidia_cuda_nvrtc_cu12-12.1.105-py3-none-manylinux1_x86_64.whl (23.7 MB)\n",
            "Collecting nvidia-cuda-runtime-cu12==12.1.105 (from torch->pgmpy)\n",
            "  Using cached nvidia_cuda_runtime_cu12-12.1.105-py3-none-manylinux1_x86_64.whl (823 kB)\n",
            "Collecting nvidia-cuda-cupti-cu12==12.1.105 (from torch->pgmpy)\n",
            "  Using cached nvidia_cuda_cupti_cu12-12.1.105-py3-none-manylinux1_x86_64.whl (14.1 MB)\n",
            "Collecting nvidia-cudnn-cu12==8.9.2.26 (from torch->pgmpy)\n",
            "  Using cached nvidia_cudnn_cu12-8.9.2.26-py3-none-manylinux1_x86_64.whl (731.7 MB)\n",
            "Collecting nvidia-cublas-cu12==12.1.3.1 (from torch->pgmpy)\n",
            "  Using cached nvidia_cublas_cu12-12.1.3.1-py3-none-manylinux1_x86_64.whl (410.6 MB)\n",
            "Collecting nvidia-cufft-cu12==11.0.2.54 (from torch->pgmpy)\n",
            "  Using cached nvidia_cufft_cu12-11.0.2.54-py3-none-manylinux1_x86_64.whl (121.6 MB)\n",
            "Collecting nvidia-curand-cu12==10.3.2.106 (from torch->pgmpy)\n",
            "  Using cached nvidia_curand_cu12-10.3.2.106-py3-none-manylinux1_x86_64.whl (56.5 MB)\n",
            "Collecting nvidia-cusolver-cu12==11.4.5.107 (from torch->pgmpy)\n",
            "  Using cached nvidia_cusolver_cu12-11.4.5.107-py3-none-manylinux1_x86_64.whl (124.2 MB)\n",
            "Collecting nvidia-cusparse-cu12==12.1.0.106 (from torch->pgmpy)\n",
            "  Using cached nvidia_cusparse_cu12-12.1.0.106-py3-none-manylinux1_x86_64.whl (196.0 MB)\n",
            "Collecting nvidia-nccl-cu12==2.19.3 (from torch->pgmpy)\n",
            "  Using cached nvidia_nccl_cu12-2.19.3-py3-none-manylinux1_x86_64.whl (166.0 MB)\n",
            "Collecting nvidia-nvtx-cu12==12.1.105 (from torch->pgmpy)\n",
            "  Using cached nvidia_nvtx_cu12-12.1.105-py3-none-manylinux1_x86_64.whl (99 kB)\n",
            "Requirement already satisfied: triton==2.2.0 in /usr/local/lib/python3.10/dist-packages (from torch->pgmpy) (2.2.0)\n",
            "Collecting nvidia-nvjitlink-cu12 (from nvidia-cusolver-cu12==11.4.5.107->torch->pgmpy)\n",
            "  Using cached nvidia_nvjitlink_cu12-12.4.127-py3-none-manylinux2014_x86_64.whl (21.1 MB)\n",
            "Requirement already satisfied: six in /usr/local/lib/python3.10/dist-packages (from patsy>=0.5.6->statsmodels->pgmpy) (1.16.0)\n",
            "Requirement already satisfied: MarkupSafe>=2.0 in /usr/local/lib/python3.10/dist-packages (from jinja2->torch->pgmpy) (2.1.5)\n",
            "Requirement already satisfied: mpmath>=0.19 in /usr/local/lib/python3.10/dist-packages (from sympy->torch->pgmpy) (1.3.0)\n",
            "Installing collected packages: nvidia-nvtx-cu12, nvidia-nvjitlink-cu12, nvidia-nccl-cu12, nvidia-curand-cu12, nvidia-cufft-cu12, nvidia-cuda-runtime-cu12, nvidia-cuda-nvrtc-cu12, nvidia-cuda-cupti-cu12, nvidia-cublas-cu12, nvidia-cusparse-cu12, nvidia-cudnn-cu12, nvidia-cusolver-cu12, pgmpy\n",
            "Successfully installed nvidia-cublas-cu12-12.1.3.1 nvidia-cuda-cupti-cu12-12.1.105 nvidia-cuda-nvrtc-cu12-12.1.105 nvidia-cuda-runtime-cu12-12.1.105 nvidia-cudnn-cu12-8.9.2.26 nvidia-cufft-cu12-11.0.2.54 nvidia-curand-cu12-10.3.2.106 nvidia-cusolver-cu12-11.4.5.107 nvidia-cusparse-cu12-12.1.0.106 nvidia-nccl-cu12-2.19.3 nvidia-nvjitlink-cu12-12.4.127 nvidia-nvtx-cu12-12.1.105 pgmpy-0.1.25\n"
          ]
        }
      ]
    },
    {
      "cell_type": "code",
      "source": [
        "!pip install causalgraphicalmodels\n"
      ],
      "metadata": {
        "colab": {
          "base_uri": "https://localhost:8080/"
        },
        "id": "FpSYBGWMKDw0",
        "outputId": "f2f97603-ba6f-4f18-c7ed-8b794f789366"
      },
      "id": "FpSYBGWMKDw0",
      "execution_count": null,
      "outputs": [
        {
          "output_type": "stream",
          "name": "stdout",
          "text": [
            "Requirement already satisfied: causalgraphicalmodels in /usr/local/lib/python3.10/dist-packages (0.0.4)\n",
            "Requirement already satisfied: graphviz in /usr/local/lib/python3.10/dist-packages (from causalgraphicalmodels) (0.20.3)\n",
            "Requirement already satisfied: networkx in /usr/local/lib/python3.10/dist-packages (from causalgraphicalmodels) (3.3)\n",
            "Requirement already satisfied: numpy in /usr/local/lib/python3.10/dist-packages (from causalgraphicalmodels) (1.25.2)\n",
            "Requirement already satisfied: pandas in /usr/local/lib/python3.10/dist-packages (from causalgraphicalmodels) (2.0.3)\n",
            "Requirement already satisfied: python-dateutil>=2.8.2 in /usr/local/lib/python3.10/dist-packages (from pandas->causalgraphicalmodels) (2.8.2)\n",
            "Requirement already satisfied: pytz>=2020.1 in /usr/local/lib/python3.10/dist-packages (from pandas->causalgraphicalmodels) (2023.4)\n",
            "Requirement already satisfied: tzdata>=2022.1 in /usr/local/lib/python3.10/dist-packages (from pandas->causalgraphicalmodels) (2024.1)\n",
            "Requirement already satisfied: six>=1.5 in /usr/local/lib/python3.10/dist-packages (from python-dateutil>=2.8.2->pandas->causalgraphicalmodels) (1.16.0)\n"
          ]
        }
      ]
    },
    {
      "cell_type": "code",
      "source": [
        "!pip install  networkx"
      ],
      "metadata": {
        "colab": {
          "base_uri": "https://localhost:8080/"
        },
        "id": "cxNQKa0oKKrn",
        "outputId": "0dafde40-0b74-4bbf-c932-9aeca010b162"
      },
      "id": "cxNQKa0oKKrn",
      "execution_count": 17,
      "outputs": [
        {
          "output_type": "stream",
          "name": "stdout",
          "text": [
            "Requirement already satisfied: networkx in /usr/local/lib/python3.10/dist-packages (3.3)\n"
          ]
        }
      ]
    },
    {
      "cell_type": "markdown",
      "id": "ee5b9a4b",
      "metadata": {
        "id": "ee5b9a4b"
      },
      "source": [
        "### Step 1.2: Create and show the Causal DAG (30%)"
      ]
    },
    {
      "cell_type": "code",
      "execution_count": 32,
      "id": "7ed86963",
      "metadata": {
        "colab": {
          "base_uri": "https://localhost:8080/",
          "height": 560
        },
        "id": "7ed86963",
        "outputId": "6c7aa640-864d-4156-8e68-1f5e3d474109"
      },
      "outputs": [
        {
          "output_type": "execute_result",
          "data": {
            "image/svg+xml": "<?xml version=\"1.0\" encoding=\"UTF-8\" standalone=\"no\"?>\n<!DOCTYPE svg PUBLIC \"-//W3C//DTD SVG 1.1//EN\"\n \"http://www.w3.org/Graphics/SVG/1.1/DTD/svg11.dtd\">\n<!-- Generated by graphviz version 2.43.0 (0)\n -->\n<!-- Title: %3 Pages: 1 -->\n<svg width=\"458pt\" height=\"404pt\"\n viewBox=\"0.00 0.00 458.19 404.00\" xmlns=\"http://www.w3.org/2000/svg\" xmlns:xlink=\"http://www.w3.org/1999/xlink\">\n<g id=\"graph0\" class=\"graph\" transform=\"scale(1 1) rotate(0) translate(4 400)\">\n<title>%3</title>\n<polygon fill=\"white\" stroke=\"transparent\" points=\"-4,4 -4,-400 454.19,-400 454.19,4 -4,4\"/>\n<!-- Snow -->\n<g id=\"node1\" class=\"node\">\n<title>Snow</title>\n<ellipse fill=\"none\" stroke=\"black\" cx=\"391.69\" cy=\"-378\" rx=\"30.59\" ry=\"18\"/>\n<text text-anchor=\"middle\" x=\"391.69\" y=\"-374.3\" font-family=\"Times,serif\" font-size=\"14.00\">Snow</text>\n</g>\n<!-- Road is blocked -->\n<g id=\"node2\" class=\"node\">\n<title>Road is blocked</title>\n<ellipse fill=\"none\" stroke=\"black\" cx=\"247.69\" cy=\"-306\" rx=\"67.69\" ry=\"18\"/>\n<text text-anchor=\"middle\" x=\"247.69\" y=\"-302.3\" font-family=\"Times,serif\" font-size=\"14.00\">Road is blocked</text>\n</g>\n<!-- Snow&#45;&gt;Road is blocked -->\n<g id=\"edge9\" class=\"edge\">\n<title>Snow&#45;&gt;Road is blocked</title>\n<path fill=\"none\" stroke=\"black\" d=\"M368.88,-365.91C347.19,-355.37 314.11,-339.29 287.99,-326.59\"/>\n<polygon fill=\"black\" stroke=\"black\" points=\"289.23,-323.3 278.71,-322.08 286.17,-329.6 289.23,-323.3\"/>\n</g>\n<!-- Slippery road -->\n<g id=\"node6\" class=\"node\">\n<title>Slippery road</title>\n<ellipse fill=\"none\" stroke=\"black\" cx=\"391.69\" cy=\"-306\" rx=\"58.49\" ry=\"18\"/>\n<text text-anchor=\"middle\" x=\"391.69\" y=\"-302.3\" font-family=\"Times,serif\" font-size=\"14.00\">Slippery road</text>\n</g>\n<!-- Snow&#45;&gt;Slippery road -->\n<g id=\"edge8\" class=\"edge\">\n<title>Snow&#45;&gt;Slippery road</title>\n<path fill=\"none\" stroke=\"black\" d=\"M391.69,-359.7C391.69,-351.98 391.69,-342.71 391.69,-334.11\"/>\n<polygon fill=\"black\" stroke=\"black\" points=\"395.19,-334.1 391.69,-324.1 388.19,-334.1 395.19,-334.1\"/>\n</g>\n<!-- Traffic jam -->\n<g id=\"node5\" class=\"node\">\n<title>Traffic jam</title>\n<ellipse fill=\"none\" stroke=\"black\" cx=\"247.69\" cy=\"-162\" rx=\"51.19\" ry=\"18\"/>\n<text text-anchor=\"middle\" x=\"247.69\" y=\"-158.3\" font-family=\"Times,serif\" font-size=\"14.00\">Traffic jam</text>\n</g>\n<!-- Road is blocked&#45;&gt;Traffic jam -->\n<g id=\"edge12\" class=\"edge\">\n<title>Road is blocked&#45;&gt;Traffic jam</title>\n<path fill=\"none\" stroke=\"black\" d=\"M247.69,-287.87C247.69,-263.67 247.69,-219.21 247.69,-190.39\"/>\n<polygon fill=\"black\" stroke=\"black\" points=\"251.19,-190.19 247.69,-180.19 244.19,-190.19 251.19,-190.19\"/>\n</g>\n<!-- Getting up late -->\n<g id=\"node3\" class=\"node\">\n<title>Getting up late</title>\n<ellipse fill=\"none\" stroke=\"black\" cx=\"63.69\" cy=\"-90\" rx=\"63.89\" ry=\"18\"/>\n<text text-anchor=\"middle\" x=\"63.69\" y=\"-86.3\" font-family=\"Times,serif\" font-size=\"14.00\">Getting up late</text>\n</g>\n<!-- Being late for work -->\n<g id=\"node9\" class=\"node\">\n<title>Being late for work</title>\n<ellipse fill=\"none\" stroke=\"black\" cx=\"209.69\" cy=\"-18\" rx=\"79.89\" ry=\"18\"/>\n<text text-anchor=\"middle\" x=\"209.69\" y=\"-14.3\" font-family=\"Times,serif\" font-size=\"14.00\">Being late for work</text>\n</g>\n<!-- Getting up late&#45;&gt;Being late for work -->\n<g id=\"edge11\" class=\"edge\">\n<title>Getting up late&#45;&gt;Being late for work</title>\n<path fill=\"none\" stroke=\"black\" d=\"M94.66,-74.15C115.99,-63.93 144.59,-50.21 167.94,-39.02\"/>\n<polygon fill=\"black\" stroke=\"black\" points=\"169.75,-42.03 177.26,-34.55 166.73,-35.72 169.75,-42.03\"/>\n</g>\n<!-- Car towing -->\n<g id=\"node4\" class=\"node\">\n<title>Car towing</title>\n<ellipse fill=\"none\" stroke=\"black\" cx=\"133.69\" cy=\"-234\" rx=\"50.09\" ry=\"18\"/>\n<text text-anchor=\"middle\" x=\"133.69\" y=\"-230.3\" font-family=\"Times,serif\" font-size=\"14.00\">Car towing</text>\n</g>\n<!-- Car towing&#45;&gt;Traffic jam -->\n<g id=\"edge15\" class=\"edge\">\n<title>Car towing&#45;&gt;Traffic jam</title>\n<path fill=\"none\" stroke=\"black\" d=\"M157.87,-218.15C174.38,-208.02 196.47,-194.45 214.61,-183.31\"/>\n<polygon fill=\"black\" stroke=\"black\" points=\"216.47,-186.28 223.16,-178.07 212.81,-180.32 216.47,-186.28\"/>\n</g>\n<!-- Traffic jam&#45;&gt;Being late for work -->\n<g id=\"edge4\" class=\"edge\">\n<title>Traffic jam&#45;&gt;Being late for work</title>\n<path fill=\"none\" stroke=\"black\" d=\"M217.27,-147.48C201.48,-138.7 183.66,-125.58 174.69,-108 164.07,-87.15 175.75,-62.28 188.4,-44.14\"/>\n<polygon fill=\"black\" stroke=\"black\" points=\"191.43,-45.93 194.59,-35.82 185.81,-41.75 191.43,-45.93\"/>\n</g>\n<!-- Taking longer route -->\n<g id=\"node11\" class=\"node\">\n<title>Taking longer route</title>\n<ellipse fill=\"none\" stroke=\"black\" cx=\"264.69\" cy=\"-90\" rx=\"80.69\" ry=\"18\"/>\n<text text-anchor=\"middle\" x=\"264.69\" y=\"-86.3\" font-family=\"Times,serif\" font-size=\"14.00\">Taking longer route</text>\n</g>\n<!-- Traffic jam&#45;&gt;Taking longer route -->\n<g id=\"edge3\" class=\"edge\">\n<title>Traffic jam&#45;&gt;Taking longer route</title>\n<path fill=\"none\" stroke=\"black\" d=\"M251.81,-144.05C253.7,-136.26 255.99,-126.82 258.12,-118.08\"/>\n<polygon fill=\"black\" stroke=\"black\" points=\"261.54,-118.82 260.5,-108.28 254.74,-117.17 261.54,-118.82\"/>\n</g>\n<!-- Slow traffic -->\n<g id=\"node12\" class=\"node\">\n<title>Slow traffic</title>\n<ellipse fill=\"none\" stroke=\"black\" cx=\"373.69\" cy=\"-234\" rx=\"52.79\" ry=\"18\"/>\n<text text-anchor=\"middle\" x=\"373.69\" y=\"-230.3\" font-family=\"Times,serif\" font-size=\"14.00\">Slow traffic</text>\n</g>\n<!-- Slippery road&#45;&gt;Slow traffic -->\n<g id=\"edge10\" class=\"edge\">\n<title>Slippery road&#45;&gt;Slow traffic</title>\n<path fill=\"none\" stroke=\"black\" d=\"M387.24,-287.7C385.24,-279.9 382.83,-270.51 380.59,-261.83\"/>\n<polygon fill=\"black\" stroke=\"black\" points=\"383.97,-260.92 378.09,-252.1 377.19,-262.66 383.97,-260.92\"/>\n</g>\n<!-- Heavy rain -->\n<g id=\"node7\" class=\"node\">\n<title>Heavy rain</title>\n<ellipse fill=\"none\" stroke=\"black\" cx=\"292.69\" cy=\"-378\" rx=\"50.09\" ry=\"18\"/>\n<text text-anchor=\"middle\" x=\"292.69\" y=\"-374.3\" font-family=\"Times,serif\" font-size=\"14.00\">Heavy rain</text>\n</g>\n<!-- Heavy rain&#45;&gt;Road is blocked -->\n<g id=\"edge7\" class=\"edge\">\n<title>Heavy rain&#45;&gt;Road is blocked</title>\n<path fill=\"none\" stroke=\"black\" d=\"M282.03,-360.41C276.67,-352.08 270.06,-341.8 264.08,-332.49\"/>\n<polygon fill=\"black\" stroke=\"black\" points=\"266.95,-330.48 258.59,-323.96 261.06,-334.26 266.95,-330.48\"/>\n</g>\n<!-- Heavy rain&#45;&gt;Slippery road -->\n<g id=\"edge6\" class=\"edge\">\n<title>Heavy rain&#45;&gt;Slippery road</title>\n<path fill=\"none\" stroke=\"black\" d=\"M314.67,-361.46C328.28,-351.84 345.98,-339.32 360.98,-328.72\"/>\n<polygon fill=\"black\" stroke=\"black\" points=\"363.3,-331.37 369.44,-322.73 359.26,-325.65 363.3,-331.37\"/>\n</g>\n<!-- Traffic accident -->\n<g id=\"node8\" class=\"node\">\n<title>Traffic accident</title>\n<ellipse fill=\"none\" stroke=\"black\" cx=\"157.69\" cy=\"-378\" rx=\"66.89\" ry=\"18\"/>\n<text text-anchor=\"middle\" x=\"157.69\" y=\"-374.3\" font-family=\"Times,serif\" font-size=\"14.00\">Traffic accident</text>\n</g>\n<!-- Traffic accident&#45;&gt;Road is blocked -->\n<g id=\"edge5\" class=\"edge\">\n<title>Traffic accident&#45;&gt;Road is blocked</title>\n<path fill=\"none\" stroke=\"black\" d=\"M178.57,-360.76C190.5,-351.49 205.63,-339.71 218.7,-329.55\"/>\n<polygon fill=\"black\" stroke=\"black\" points=\"221.19,-332.05 226.93,-323.15 216.89,-326.52 221.19,-332.05\"/>\n</g>\n<!-- Car breakdown -->\n<g id=\"node10\" class=\"node\">\n<title>Car breakdown</title>\n<ellipse fill=\"none\" stroke=\"black\" cx=\"96.69\" cy=\"-306\" rx=\"64.99\" ry=\"18\"/>\n<text text-anchor=\"middle\" x=\"96.69\" y=\"-302.3\" font-family=\"Times,serif\" font-size=\"14.00\">Car breakdown</text>\n</g>\n<!-- Car breakdown&#45;&gt;Car towing -->\n<g id=\"edge14\" class=\"edge\">\n<title>Car breakdown&#45;&gt;Car towing</title>\n<path fill=\"none\" stroke=\"black\" d=\"M105.65,-288.05C109.97,-279.89 115.24,-269.91 120.04,-260.82\"/>\n<polygon fill=\"black\" stroke=\"black\" points=\"123.24,-262.27 124.82,-251.79 117.05,-258.99 123.24,-262.27\"/>\n</g>\n<!-- Taking longer route&#45;&gt;Being late for work -->\n<g id=\"edge13\" class=\"edge\">\n<title>Taking longer route&#45;&gt;Being late for work</title>\n<path fill=\"none\" stroke=\"black\" d=\"M251.38,-72.05C244.69,-63.54 236.46,-53.07 229.09,-43.68\"/>\n<polygon fill=\"black\" stroke=\"black\" points=\"231.82,-41.49 222.89,-35.79 226.31,-45.81 231.82,-41.49\"/>\n</g>\n<!-- Slow traffic&#45;&gt;Traffic jam -->\n<g id=\"edge2\" class=\"edge\">\n<title>Slow traffic&#45;&gt;Traffic jam</title>\n<path fill=\"none\" stroke=\"black\" d=\"M347.28,-218.33C328.63,-207.97 303.44,-193.97 283.06,-182.65\"/>\n<polygon fill=\"black\" stroke=\"black\" points=\"284.51,-179.45 274.07,-177.65 281.12,-185.57 284.51,-179.45\"/>\n</g>\n<!-- Slow traffic&#45;&gt;Being late for work -->\n<g id=\"edge1\" class=\"edge\">\n<title>Slow traffic&#45;&gt;Being late for work</title>\n<path fill=\"none\" stroke=\"black\" d=\"M377.01,-215.79C382.14,-183.76 388.21,-114.39 354.69,-72 337.97,-50.84 311.98,-38.12 286.6,-30.49\"/>\n<polygon fill=\"black\" stroke=\"black\" points=\"287.5,-27.1 276.92,-27.8 285.62,-33.85 287.5,-27.1\"/>\n</g>\n</g>\n</svg>\n",
            "text/plain": [
              "<graphviz.graphs.Digraph at 0x7bad53faa050>"
            ]
          },
          "metadata": {},
          "execution_count": 32
        }
      ],
      "source": [
        "# your code goes here\n",
        "\n",
        "import collections.abc\n",
        "import sys\n",
        "\n",
        "# This modifies the import statement directly in memory\n",
        "if \"causalgraphicalmodels\" in sys.modules:\n",
        "    cgm_module = sys.modules[\"causalgraphicalmodels.cgm\"]\n",
        "    if hasattr(cgm_module, 'Iterable'):\n",
        "        cgm_module.Iterable = collections.abc.Iterable\n",
        "    else:\n",
        "        # Re-import the module if it was imported before fixing Iterable\n",
        "        import importlib\n",
        "        importlib.reload(sys.modules[\"causalgraphicalmodels.cgm\"])\n",
        "\n",
        "\n",
        "from causalgraphicalmodels.cgm import CausalGraphicalModel\n",
        "import causalgraphicalmodels as CausalGraphicalModel\n",
        "import networkx as nx\n",
        "import matplotlib.pyplot as plt\n",
        "import matplotlib as mpl\n",
        "\n",
        "#  save text with the Arial font\n",
        "mpl.rcParams['font.family'] = 'Arial'\n",
        "\n",
        "# Define\n",
        "\n",
        "# Nodes\n",
        "nodes = [\n",
        "    'Being late for work',\n",
        "    'Slow traffic',\n",
        "    'Traffic jam',\n",
        "    'Traffic accident',\n",
        "    'Heavy rain',\n",
        "    'Snow',\n",
        "    'Slippery road',\n",
        "    'Getting up late',\n",
        "    'Road is blocked',\n",
        "    'Taking longer route',\n",
        "    'Car breakdown',\n",
        "    'Car towing'\n",
        "]\n",
        "\n",
        "# Edges representing relationships\n",
        "edges = [\n",
        "    ('Slow traffic', 'Being late for work'),\n",
        "    ('Traffic accident', 'Road is blocked'),\n",
        "    ('Heavy rain', 'Slippery road'),\n",
        "    ('Snow', 'Slippery road'),\n",
        "    ('Slippery road', 'Slow traffic'),\n",
        "    ('Getting up late', 'Being late for work'),\n",
        "    ('Traffic jam', 'Taking longer route'),\n",
        "    ('Taking longer route', 'Being late for work'),\n",
        "    ('Car towing', 'Traffic jam'),\n",
        "    ('Slow traffic','Traffic jam'),\n",
        "    ('Road is blocked','Traffic jam'),\n",
        "    ('Heavy rain', 'Road is blocked'),\n",
        "    ('Snow', 'Road is blocked'),\n",
        "    ('Car breakdown', 'Car towing'),\n",
        "    ('Traffic jam','Being late for work')\n",
        "]\n",
        "\n",
        "# Create the causal DAG\n",
        "dag_ = CausalGraphicalModel.CausalGraphicalModel(nodes=nodes, edges=edges)\n",
        "\n",
        "# Draw the DAG\n",
        "dag_.draw()"
      ]
    },
    {
      "cell_type": "markdown",
      "id": "c0ecd215",
      "metadata": {
        "id": "c0ecd215"
      },
      "source": [
        "### Step 1.3: Show the Joint Distibution of the Causal Network (1%)"
      ]
    },
    {
      "cell_type": "code",
      "execution_count": 33,
      "id": "db48a940",
      "metadata": {
        "id": "db48a940",
        "colab": {
          "base_uri": "https://localhost:8080/"
        },
        "outputId": "0bc9f8c2-ce21-4b97-dec4-7c732c4ab234"
      },
      "outputs": [
        {
          "output_type": "stream",
          "name": "stdout",
          "text": [
            "Joint Distribution of the Causal Network:\n",
            "P(Traffic accident)P(Heavy rain)P(Snow)P(Getting up late)P(Car breakdown)P(Slippery road|Heavy rain,Snow)P(Road is blocked|Traffic accident,Heavy rain,Snow)P(Car towing|Car breakdown)P(Slow traffic|Slippery road)P(Traffic jam|Car towing,Slow traffic,Road is blocked)P(Taking longer route|Traffic jam)P(Being late for work|Slow traffic,Getting up late,Taking longer route,Traffic jam)\n"
          ]
        }
      ],
      "source": [
        "# your code goes here\n",
        "print(\"Joint Distribution of the Causal Network:\")\n",
        "print(dag_.get_distribution())\n",
        "\n"
      ]
    },
    {
      "cell_type": "markdown",
      "id": "f33fdb51",
      "metadata": {
        "id": "f33fdb51"
      },
      "source": [
        "### Step 1.4: Run the intervention do(“road is blocked”) (7%)"
      ]
    },
    {
      "cell_type": "code",
      "execution_count": 34,
      "id": "047e9c72",
      "metadata": {
        "id": "047e9c72"
      },
      "outputs": [],
      "source": [
        "# your code goes here\n",
        "road_blocked__do = dag_.do(\"Road is blocked\") # do operation on road is blocked"
      ]
    },
    {
      "cell_type": "markdown",
      "id": "c4a839dc",
      "metadata": {
        "id": "c4a839dc"
      },
      "source": [
        "### Step 1.5: Show the Causal DAG with the intervention \"on\" (1%)"
      ]
    },
    {
      "cell_type": "code",
      "execution_count": 36,
      "id": "cd305a3b",
      "metadata": {
        "id": "cd305a3b",
        "colab": {
          "base_uri": "https://localhost:8080/",
          "height": 570
        },
        "outputId": "29021bf3-9af6-4180-8760-5393ea1fa95a"
      },
      "outputs": [
        {
          "output_type": "execute_result",
          "data": {
            "image/svg+xml": "<?xml version=\"1.0\" encoding=\"UTF-8\" standalone=\"no\"?>\n<!DOCTYPE svg PUBLIC \"-//W3C//DTD SVG 1.1//EN\"\n \"http://www.w3.org/Graphics/SVG/1.1/DTD/svg11.dtd\">\n<!-- Generated by graphviz version 2.43.0 (0)\n -->\n<!-- Title: %3 Pages: 1 -->\n<svg width=\"607pt\" height=\"412pt\"\n viewBox=\"0.00 0.00 606.54 412.00\" xmlns=\"http://www.w3.org/2000/svg\" xmlns:xlink=\"http://www.w3.org/1999/xlink\">\n<g id=\"graph0\" class=\"graph\" transform=\"scale(1 1) rotate(0) translate(4 408)\">\n<title>%3</title>\n<polygon fill=\"white\" stroke=\"transparent\" points=\"-4,4 -4,-408 602.54,-408 602.54,4 -4,4\"/>\n<!-- Snow -->\n<g id=\"node1\" class=\"node\">\n<title>Snow</title>\n<ellipse fill=\"none\" stroke=\"black\" cx=\"297.59\" cy=\"-386\" rx=\"30.59\" ry=\"18\"/>\n<text text-anchor=\"middle\" x=\"297.59\" y=\"-382.3\" font-family=\"Times,serif\" font-size=\"14.00\">Snow</text>\n</g>\n<!-- Slippery road -->\n<g id=\"node6\" class=\"node\">\n<title>Slippery road</title>\n<ellipse fill=\"none\" stroke=\"black\" cx=\"347.59\" cy=\"-314\" rx=\"58.49\" ry=\"18\"/>\n<text text-anchor=\"middle\" x=\"347.59\" y=\"-310.3\" font-family=\"Times,serif\" font-size=\"14.00\">Slippery road</text>\n</g>\n<!-- Snow&#45;&gt;Slippery road -->\n<g id=\"edge1\" class=\"edge\">\n<title>Snow&#45;&gt;Slippery road</title>\n<path fill=\"none\" stroke=\"black\" d=\"M308.94,-369.12C315.09,-360.51 322.83,-349.67 329.77,-339.96\"/>\n<polygon fill=\"black\" stroke=\"black\" points=\"332.63,-341.97 335.6,-331.8 326.94,-337.9 332.63,-341.97\"/>\n</g>\n<!-- Road is blocked -->\n<g id=\"node2\" class=\"node\">\n<title>Road is blocked</title>\n<ellipse fill=\"none\" stroke=\"black\" cx=\"71.59\" cy=\"-238\" rx=\"67.68\" ry=\"18\"/>\n<ellipse fill=\"none\" stroke=\"black\" cx=\"71.59\" cy=\"-238\" rx=\"71.69\" ry=\"22\"/>\n<text text-anchor=\"middle\" x=\"71.59\" y=\"-234.3\" font-family=\"Times,serif\" font-size=\"14.00\">Road is blocked</text>\n</g>\n<!-- Traffic jam -->\n<g id=\"node5\" class=\"node\">\n<title>Traffic jam</title>\n<ellipse fill=\"none\" stroke=\"black\" cx=\"211.59\" cy=\"-162\" rx=\"51.19\" ry=\"18\"/>\n<text text-anchor=\"middle\" x=\"211.59\" y=\"-158.3\" font-family=\"Times,serif\" font-size=\"14.00\">Traffic jam</text>\n</g>\n<!-- Road is blocked&#45;&gt;Traffic jam -->\n<g id=\"edge2\" class=\"edge\">\n<title>Road is blocked&#45;&gt;Traffic jam</title>\n<path fill=\"none\" stroke=\"black\" d=\"M106.2,-218.71C127.22,-207.6 154.02,-193.43 175.33,-182.17\"/>\n<polygon fill=\"black\" stroke=\"black\" points=\"177.19,-185.14 184.4,-177.38 173.92,-178.96 177.19,-185.14\"/>\n</g>\n<!-- Getting up late -->\n<g id=\"node3\" class=\"node\">\n<title>Getting up late</title>\n<ellipse fill=\"none\" stroke=\"black\" cx=\"434.59\" cy=\"-90\" rx=\"63.89\" ry=\"18\"/>\n<text text-anchor=\"middle\" x=\"434.59\" y=\"-86.3\" font-family=\"Times,serif\" font-size=\"14.00\">Getting up late</text>\n</g>\n<!-- Being late for work -->\n<g id=\"node9\" class=\"node\">\n<title>Being late for work</title>\n<ellipse fill=\"none\" stroke=\"black\" cx=\"287.59\" cy=\"-18\" rx=\"79.89\" ry=\"18\"/>\n<text text-anchor=\"middle\" x=\"287.59\" y=\"-14.3\" font-family=\"Times,serif\" font-size=\"14.00\">Being late for work</text>\n</g>\n<!-- Getting up late&#45;&gt;Being late for work -->\n<g id=\"edge3\" class=\"edge\">\n<title>Getting up late&#45;&gt;Being late for work</title>\n<path fill=\"none\" stroke=\"black\" d=\"M403.42,-74.15C381.84,-63.88 352.88,-50.09 329.32,-38.87\"/>\n<polygon fill=\"black\" stroke=\"black\" points=\"330.79,-35.69 320.25,-34.55 327.78,-42.01 330.79,-35.69\"/>\n</g>\n<!-- Car towing -->\n<g id=\"node4\" class=\"node\">\n<title>Car towing</title>\n<ellipse fill=\"none\" stroke=\"black\" cx=\"211.59\" cy=\"-238\" rx=\"50.09\" ry=\"18\"/>\n<text text-anchor=\"middle\" x=\"211.59\" y=\"-234.3\" font-family=\"Times,serif\" font-size=\"14.00\">Car towing</text>\n</g>\n<!-- Car towing&#45;&gt;Traffic jam -->\n<g id=\"edge4\" class=\"edge\">\n<title>Car towing&#45;&gt;Traffic jam</title>\n<path fill=\"none\" stroke=\"black\" d=\"M211.59,-219.84C211.59,-211.06 211.59,-200.16 211.59,-190.27\"/>\n<polygon fill=\"black\" stroke=\"black\" points=\"215.09,-190.07 211.59,-180.07 208.09,-190.07 215.09,-190.07\"/>\n</g>\n<!-- Traffic jam&#45;&gt;Being late for work -->\n<g id=\"edge6\" class=\"edge\">\n<title>Traffic jam&#45;&gt;Being late for work</title>\n<path fill=\"none\" stroke=\"black\" d=\"M183.2,-146.99C168.47,-138.05 151.87,-124.95 143.59,-108 136.57,-93.62 134.44,-85.12 143.59,-72 158.66,-50.4 183.57,-37.57 208.47,-29.97\"/>\n<polygon fill=\"black\" stroke=\"black\" points=\"209.67,-33.27 218.37,-27.21 207.79,-26.53 209.67,-33.27\"/>\n</g>\n<!-- Taking longer route -->\n<g id=\"node11\" class=\"node\">\n<title>Taking longer route</title>\n<ellipse fill=\"none\" stroke=\"black\" cx=\"233.59\" cy=\"-90\" rx=\"80.69\" ry=\"18\"/>\n<text text-anchor=\"middle\" x=\"233.59\" y=\"-86.3\" font-family=\"Times,serif\" font-size=\"14.00\">Taking longer route</text>\n</g>\n<!-- Traffic jam&#45;&gt;Taking longer route -->\n<g id=\"edge5\" class=\"edge\">\n<title>Traffic jam&#45;&gt;Taking longer route</title>\n<path fill=\"none\" stroke=\"black\" d=\"M216.92,-144.05C219.37,-136.26 222.34,-126.82 225.08,-118.08\"/>\n<polygon fill=\"black\" stroke=\"black\" points=\"228.51,-118.86 228.16,-108.28 221.83,-116.77 228.51,-118.86\"/>\n</g>\n<!-- Slow traffic -->\n<g id=\"node12\" class=\"node\">\n<title>Slow traffic</title>\n<ellipse fill=\"none\" stroke=\"black\" cx=\"342.59\" cy=\"-238\" rx=\"52.79\" ry=\"18\"/>\n<text text-anchor=\"middle\" x=\"342.59\" y=\"-234.3\" font-family=\"Times,serif\" font-size=\"14.00\">Slow traffic</text>\n</g>\n<!-- Slippery road&#45;&gt;Slow traffic -->\n<g id=\"edge7\" class=\"edge\">\n<title>Slippery road&#45;&gt;Slow traffic</title>\n<path fill=\"none\" stroke=\"black\" d=\"M346.43,-295.84C345.84,-287.06 345.1,-276.16 344.44,-266.27\"/>\n<polygon fill=\"black\" stroke=\"black\" points=\"347.91,-265.81 343.75,-256.07 340.93,-266.28 347.91,-265.81\"/>\n</g>\n<!-- Heavy rain -->\n<g id=\"node7\" class=\"node\">\n<title>Heavy rain</title>\n<ellipse fill=\"none\" stroke=\"black\" cx=\"396.59\" cy=\"-386\" rx=\"50.09\" ry=\"18\"/>\n<text text-anchor=\"middle\" x=\"396.59\" y=\"-382.3\" font-family=\"Times,serif\" font-size=\"14.00\">Heavy rain</text>\n</g>\n<!-- Heavy rain&#45;&gt;Slippery road -->\n<g id=\"edge8\" class=\"edge\">\n<title>Heavy rain&#45;&gt;Slippery road</title>\n<path fill=\"none\" stroke=\"black\" d=\"M384.98,-368.41C379.09,-359.99 371.8,-349.58 365.23,-340.2\"/>\n<polygon fill=\"black\" stroke=\"black\" points=\"368.07,-338.14 359.46,-331.96 362.33,-342.16 368.07,-338.14\"/>\n</g>\n<!-- Traffic accident -->\n<g id=\"node8\" class=\"node\">\n<title>Traffic accident</title>\n<ellipse fill=\"none\" stroke=\"black\" cx=\"531.59\" cy=\"-386\" rx=\"66.89\" ry=\"18\"/>\n<text text-anchor=\"middle\" x=\"531.59\" y=\"-382.3\" font-family=\"Times,serif\" font-size=\"14.00\">Traffic accident</text>\n</g>\n<!-- Car breakdown -->\n<g id=\"node10\" class=\"node\">\n<title>Car breakdown</title>\n<ellipse fill=\"none\" stroke=\"black\" cx=\"206.59\" cy=\"-314\" rx=\"64.99\" ry=\"18\"/>\n<text text-anchor=\"middle\" x=\"206.59\" y=\"-310.3\" font-family=\"Times,serif\" font-size=\"14.00\">Car breakdown</text>\n</g>\n<!-- Car breakdown&#45;&gt;Car towing -->\n<g id=\"edge9\" class=\"edge\">\n<title>Car breakdown&#45;&gt;Car towing</title>\n<path fill=\"none\" stroke=\"black\" d=\"M207.75,-295.84C208.35,-287.06 209.08,-276.16 209.75,-266.27\"/>\n<polygon fill=\"black\" stroke=\"black\" points=\"213.26,-266.28 210.44,-256.07 206.27,-265.81 213.26,-266.28\"/>\n</g>\n<!-- Taking longer route&#45;&gt;Being late for work -->\n<g id=\"edge10\" class=\"edge\">\n<title>Taking longer route&#45;&gt;Being late for work</title>\n<path fill=\"none\" stroke=\"black\" d=\"M246.67,-72.05C253.17,-63.63 261.15,-53.28 268.33,-43.97\"/>\n<polygon fill=\"black\" stroke=\"black\" points=\"271.31,-45.84 274.64,-35.79 265.76,-41.57 271.31,-45.84\"/>\n</g>\n<!-- Slow traffic&#45;&gt;Traffic jam -->\n<g id=\"edge12\" class=\"edge\">\n<title>Slow traffic&#45;&gt;Traffic jam</title>\n<path fill=\"none\" stroke=\"black\" d=\"M316.4,-222.2C296.41,-210.91 268.66,-195.24 246.74,-182.85\"/>\n<polygon fill=\"black\" stroke=\"black\" points=\"248.17,-179.64 237.74,-177.77 244.73,-185.74 248.17,-179.64\"/>\n</g>\n<!-- Slow traffic&#45;&gt;Being late for work -->\n<g id=\"edge11\" class=\"edge\">\n<title>Slow traffic&#45;&gt;Being late for work</title>\n<path fill=\"none\" stroke=\"black\" d=\"M343.26,-219.99C343.9,-189.37 342.67,-123.36 323.59,-72 319.97,-62.25 314.19,-52.55 308.31,-44.17\"/>\n<polygon fill=\"black\" stroke=\"black\" points=\"311,-41.91 302.24,-35.96 305.38,-46.08 311,-41.91\"/>\n</g>\n</g>\n</svg>\n",
            "text/plain": [
              "<graphviz.graphs.Digraph at 0x7bac708c1de0>"
            ]
          },
          "metadata": {},
          "execution_count": 36
        }
      ],
      "source": [
        "# your code goes here\n",
        "\n",
        "road_blocked__do.draw()\n"
      ]
    },
    {
      "cell_type": "markdown",
      "id": "93c3bfd3",
      "metadata": {
        "id": "93c3bfd3"
      },
      "source": [
        "### Step 1.6: Show the Joint Distibution of the Causal Network with the intervention \"on\" (1%)"
      ]
    },
    {
      "cell_type": "code",
      "execution_count": 37,
      "id": "54ef9671",
      "metadata": {
        "id": "54ef9671",
        "colab": {
          "base_uri": "https://localhost:8080/",
          "height": 72
        },
        "outputId": "1dfcf433-df14-49d7-96f2-1a86508341b4"
      },
      "outputs": [
        {
          "output_type": "stream",
          "name": "stdout",
          "text": [
            "Joint Distribution of the Causal Network with Intervention:\n"
          ]
        },
        {
          "output_type": "execute_result",
          "data": {
            "text/plain": [
              "'P(Snow)P(Getting up late)P(Heavy rain)P(Traffic accident)P(Car breakdown)P(Slippery road|Heavy rain,Snow)P(Car towing|Car breakdown)P(Slow traffic|Slippery road)P(Traffic jam|Slow traffic,do(Road is blocked),Car towing)P(Taking longer route|Traffic jam)P(Being late for work|Slow traffic,Traffic jam,Getting up late,Taking longer route)'"
            ],
            "application/vnd.google.colaboratory.intrinsic+json": {
              "type": "string"
            }
          },
          "metadata": {},
          "execution_count": 37
        }
      ],
      "source": [
        "# your code goes here\n",
        "print(\"Joint Distribution of the Causal Network with Intervention:\")\n",
        "road_blocked__do.get_distribution()"
      ]
    },
    {
      "cell_type": "markdown",
      "id": "15270698",
      "metadata": {
        "id": "15270698"
      },
      "source": [
        "***\n",
        "## Note\n",
        "In <b>Step 2</b> you need to transform the model, you have built in Step 1, to a Bayesian Network. Here, you will need to repeat some of the activities you have already done in E-tivity 2. Please, consider all the random variables <b>X</b> binary and the probability distribution of each variable as <b>{true=50%, false=50%}</b>.\n",
        "***"
      ]
    },
    {
      "cell_type": "code",
      "source": [
        "! pip install pgmpy"
      ],
      "metadata": {
        "colab": {
          "base_uri": "https://localhost:8080/"
        },
        "id": "J-DyoHoAZTiQ",
        "outputId": "b1c64707-c986-455a-9e5e-481a6fdeadbc"
      },
      "id": "J-DyoHoAZTiQ",
      "execution_count": 38,
      "outputs": [
        {
          "output_type": "stream",
          "name": "stdout",
          "text": [
            "Requirement already satisfied: pgmpy in /usr/local/lib/python3.10/dist-packages (0.1.25)\n",
            "Requirement already satisfied: networkx in /usr/local/lib/python3.10/dist-packages (from pgmpy) (3.3)\n",
            "Requirement already satisfied: numpy in /usr/local/lib/python3.10/dist-packages (from pgmpy) (1.25.2)\n",
            "Requirement already satisfied: scipy in /usr/local/lib/python3.10/dist-packages (from pgmpy) (1.11.4)\n",
            "Requirement already satisfied: scikit-learn in /usr/local/lib/python3.10/dist-packages (from pgmpy) (1.2.2)\n",
            "Requirement already satisfied: pandas in /usr/local/lib/python3.10/dist-packages (from pgmpy) (2.0.3)\n",
            "Requirement already satisfied: pyparsing in /usr/local/lib/python3.10/dist-packages (from pgmpy) (3.1.2)\n",
            "Requirement already satisfied: torch in /usr/local/lib/python3.10/dist-packages (from pgmpy) (2.2.1+cu121)\n",
            "Requirement already satisfied: statsmodels in /usr/local/lib/python3.10/dist-packages (from pgmpy) (0.14.2)\n",
            "Requirement already satisfied: tqdm in /usr/local/lib/python3.10/dist-packages (from pgmpy) (4.66.2)\n",
            "Requirement already satisfied: joblib in /usr/local/lib/python3.10/dist-packages (from pgmpy) (1.4.0)\n",
            "Requirement already satisfied: opt-einsum in /usr/local/lib/python3.10/dist-packages (from pgmpy) (3.3.0)\n",
            "Requirement already satisfied: python-dateutil>=2.8.2 in /usr/local/lib/python3.10/dist-packages (from pandas->pgmpy) (2.8.2)\n",
            "Requirement already satisfied: pytz>=2020.1 in /usr/local/lib/python3.10/dist-packages (from pandas->pgmpy) (2023.4)\n",
            "Requirement already satisfied: tzdata>=2022.1 in /usr/local/lib/python3.10/dist-packages (from pandas->pgmpy) (2024.1)\n",
            "Requirement already satisfied: threadpoolctl>=2.0.0 in /usr/local/lib/python3.10/dist-packages (from scikit-learn->pgmpy) (3.4.0)\n",
            "Requirement already satisfied: patsy>=0.5.6 in /usr/local/lib/python3.10/dist-packages (from statsmodels->pgmpy) (0.5.6)\n",
            "Requirement already satisfied: packaging>=21.3 in /usr/local/lib/python3.10/dist-packages (from statsmodels->pgmpy) (24.0)\n",
            "Requirement already satisfied: filelock in /usr/local/lib/python3.10/dist-packages (from torch->pgmpy) (3.13.4)\n",
            "Requirement already satisfied: typing-extensions>=4.8.0 in /usr/local/lib/python3.10/dist-packages (from torch->pgmpy) (4.11.0)\n",
            "Requirement already satisfied: sympy in /usr/local/lib/python3.10/dist-packages (from torch->pgmpy) (1.12)\n",
            "Requirement already satisfied: jinja2 in /usr/local/lib/python3.10/dist-packages (from torch->pgmpy) (3.1.3)\n",
            "Requirement already satisfied: fsspec in /usr/local/lib/python3.10/dist-packages (from torch->pgmpy) (2023.6.0)\n",
            "Requirement already satisfied: nvidia-cuda-nvrtc-cu12==12.1.105 in /usr/local/lib/python3.10/dist-packages (from torch->pgmpy) (12.1.105)\n",
            "Requirement already satisfied: nvidia-cuda-runtime-cu12==12.1.105 in /usr/local/lib/python3.10/dist-packages (from torch->pgmpy) (12.1.105)\n",
            "Requirement already satisfied: nvidia-cuda-cupti-cu12==12.1.105 in /usr/local/lib/python3.10/dist-packages (from torch->pgmpy) (12.1.105)\n",
            "Requirement already satisfied: nvidia-cudnn-cu12==8.9.2.26 in /usr/local/lib/python3.10/dist-packages (from torch->pgmpy) (8.9.2.26)\n",
            "Requirement already satisfied: nvidia-cublas-cu12==12.1.3.1 in /usr/local/lib/python3.10/dist-packages (from torch->pgmpy) (12.1.3.1)\n",
            "Requirement already satisfied: nvidia-cufft-cu12==11.0.2.54 in /usr/local/lib/python3.10/dist-packages (from torch->pgmpy) (11.0.2.54)\n",
            "Requirement already satisfied: nvidia-curand-cu12==10.3.2.106 in /usr/local/lib/python3.10/dist-packages (from torch->pgmpy) (10.3.2.106)\n",
            "Requirement already satisfied: nvidia-cusolver-cu12==11.4.5.107 in /usr/local/lib/python3.10/dist-packages (from torch->pgmpy) (11.4.5.107)\n",
            "Requirement already satisfied: nvidia-cusparse-cu12==12.1.0.106 in /usr/local/lib/python3.10/dist-packages (from torch->pgmpy) (12.1.0.106)\n",
            "Requirement already satisfied: nvidia-nccl-cu12==2.19.3 in /usr/local/lib/python3.10/dist-packages (from torch->pgmpy) (2.19.3)\n",
            "Requirement already satisfied: nvidia-nvtx-cu12==12.1.105 in /usr/local/lib/python3.10/dist-packages (from torch->pgmpy) (12.1.105)\n",
            "Requirement already satisfied: triton==2.2.0 in /usr/local/lib/python3.10/dist-packages (from torch->pgmpy) (2.2.0)\n",
            "Requirement already satisfied: nvidia-nvjitlink-cu12 in /usr/local/lib/python3.10/dist-packages (from nvidia-cusolver-cu12==11.4.5.107->torch->pgmpy) (12.4.127)\n",
            "Requirement already satisfied: six in /usr/local/lib/python3.10/dist-packages (from patsy>=0.5.6->statsmodels->pgmpy) (1.16.0)\n",
            "Requirement already satisfied: MarkupSafe>=2.0 in /usr/local/lib/python3.10/dist-packages (from jinja2->torch->pgmpy) (2.1.5)\n",
            "Requirement already satisfied: mpmath>=0.19 in /usr/local/lib/python3.10/dist-packages (from sympy->torch->pgmpy) (1.3.0)\n"
          ]
        }
      ]
    },
    {
      "cell_type": "markdown",
      "id": "e9de73a9",
      "metadata": {
        "id": "e9de73a9"
      },
      "source": [
        "## Step 2: Create and Execute the Bayesian Network (50%)"
      ]
    },
    {
      "cell_type": "markdown",
      "id": "bd3ae2ef",
      "metadata": {
        "id": "bd3ae2ef"
      },
      "source": [
        "### Step 2.1: Create and show the DAG of the Bayesian Network (20%)"
      ]
    },
    {
      "cell_type": "code",
      "execution_count": 39,
      "id": "c350d2fb",
      "metadata": {
        "id": "c350d2fb",
        "colab": {
          "base_uri": "https://localhost:8080/",
          "height": 807
        },
        "outputId": "e3572f1e-2351-41a8-da2b-216e5ee9eaf2"
      },
      "outputs": [
        {
          "output_type": "stream",
          "name": "stderr",
          "text": [
            "WARNING:matplotlib.font_manager:findfont: Font family 'Arial' not found.\n",
            "WARNING:matplotlib.font_manager:findfont: Font family 'Arial' not found.\n"
          ]
        },
        {
          "output_type": "stream",
          "name": "stdout",
          "text": [
            "Nodes: ['Being late for work', 'Slow traffic', 'Traffic jam', 'Traffic accident', 'Heavy rain', 'Snow', 'Slippery road', 'Getting up late', 'Road is blocked', 'Taking longer route', 'Car breakdown', 'Car towing']\n",
            "Edges: [('Slow traffic', 'Being late for work'), ('Slow traffic', 'Traffic jam'), ('Traffic jam', 'Taking longer route'), ('Traffic jam', 'Being late for work'), ('Traffic accident', 'Road is blocked'), ('Heavy rain', 'Slippery road'), ('Heavy rain', 'Road is blocked'), ('Snow', 'Slippery road'), ('Snow', 'Road is blocked'), ('Slippery road', 'Slow traffic'), ('Getting up late', 'Being late for work'), ('Road is blocked', 'Traffic jam'), ('Taking longer route', 'Being late for work'), ('Car breakdown', 'Car towing'), ('Car towing', 'Traffic jam')]\n"
          ]
        },
        {
          "output_type": "stream",
          "name": "stderr",
          "text": [
            "WARNING:matplotlib.font_manager:findfont: Font family 'Arial' not found.\n",
            "WARNING:matplotlib.font_manager:findfont: Font family 'Arial' not found.\n",
            "WARNING:matplotlib.font_manager:findfont: Font family 'Arial' not found.\n"
          ]
        },
        {
          "output_type": "display_data",
          "data": {
            "text/plain": [
              "<Figure size 800x600 with 1 Axes>"
            ],
            "image/png": "[encoded data removed]"
          },
          "metadata": {}
        }
      ],
      "source": [
        "# use the pgmpy library: \"from pgmpy.models import BayesianNetwork\"\n",
        "# your code goes here\n",
        "from pgmpy.models import BayesianNetwork\n",
        "import networkx as nx\n",
        "import matplotlib.pyplot as plt\n",
        "\n",
        "from pgmpy.models import BayesianNetwork\n",
        "import networkx as nx\n",
        "\n",
        "# Create Bayesian Network\n",
        "bn_model = BayesianNetwork()\n",
        "\n",
        "# Add nodes to the model\n",
        "bn_model.add_nodes_from(nodes)\n",
        "\n",
        "# Add edges to the model\n",
        "bn_model.add_edges_from(edges)\n",
        "\n",
        "# Print nodes and edges to verify\n",
        "print(\"Nodes:\", bn_model.nodes())\n",
        "print(\"Edges:\", bn_model.edges())\n",
        "\n",
        "plt.figure(figsize=(8,6))\n",
        "pos = nx.circular_layout(bn_model)\n",
        "nx.draw(bn_model, pos=pos, with_labels=True,node_size=500)\n",
        "plt.title(\"DAG - Bayesian Network\")\n",
        "plt.show()"
      ]
    },
    {
      "cell_type": "markdown",
      "id": "9fc20d41",
      "metadata": {
        "id": "9fc20d41"
      },
      "source": [
        "### Step 2.2: Create the Conditional Probability Distributions of the Bayesian Network (20%)"
      ]
    },
    {
      "cell_type": "markdown",
      "id": "c75f3377",
      "metadata": {
        "id": "c75f3377"
      },
      "source": [
        "#### Step 2.2.1: Build the probability distribution tables with TabularCPD (16%)"
      ]
    },
    {
      "cell_type": "code",
      "execution_count": 40,
      "id": "b4241adf",
      "metadata": {
        "id": "b4241adf"
      },
      "outputs": [],
      "source": [
        "# your code goes here\n",
        "from pgmpy.models import BayesianNetwork\n",
        "from pgmpy.factors.discrete import TabularCPD\n",
        "\n",
        "#CPD for 'Traffic accident'\n",
        "cpd_traffic__accident = TabularCPD(variable='Traffic accident', variable_card=2, values=[[0.5], [0.5]])\n",
        "\n",
        "# Define CPDs for 'Heavy rain'\n",
        "cpd_heavy__rain = TabularCPD(variable='Heavy rain', variable_card=2, values=[[0.5], [0.5]])\n",
        "\n",
        "#CPD for 'Snow'\n",
        "cpd__snow = TabularCPD(variable='Snow', variable_card=2, values=[[0.5], [0.5]])\n",
        "\n",
        "\n",
        "#CPD for 'Car breakdown'\n",
        "cpd_car__breakdown = TabularCPD(variable='Car breakdown', variable_card=2, values=[[0.5], [0.5]])\n",
        "\n",
        "#CPD for 'Getting up Late'\n",
        "cpd_getting_up__late = TabularCPD(variable='Getting up late', variable_card=2, values=[[0.5], [0.5]])\n",
        "\n",
        "\n",
        "#CPD for 'Slippery road'\n",
        "cpd_slippery__road = TabularCPD(variable='Slippery road', variable_card=2,\n",
        "                                values=[[0.5, 0.5, 0.5, 0.5],\n",
        "                                        [0.5, 0.5, 0.5, 0.5]],\n",
        "                                evidence=['Heavy rain', 'Snow'], evidence_card=[2, 2])\n",
        "\n",
        "\n",
        "#CPD for 'Slow traffic'\n",
        "cpd_slow__traffic = TabularCPD(variable='Slow traffic', variable_card=2,\n",
        "                                values=[[0.5, 0.5],\n",
        "                                     [0.5, 0.5]],\n",
        "                              evidence=['Slippery road'], evidence_card=[2])\n",
        "\n",
        "#CPD for 'Traffic jam'\n",
        "cpd_traffic__jam = TabularCPD(variable='Traffic jam', variable_card=2,\n",
        "                              values=[[0.5]*8, [0.5]*8],\n",
        "                              evidence=['Slow traffic', 'Car towing', 'Road is blocked'],\n",
        "                              evidence_card=[2, 2, 2])\n",
        "\n",
        "\n",
        "#CPD for 'Road is blocked'\n",
        "cpd_road_is__blocked = TabularCPD(variable='Road is blocked', variable_card=2,\n",
        "                                 values=[[0.5]*8, [0.5]*8],\n",
        "                                  evidence=['Traffic accident', 'Heavy rain', 'Snow'], evidence_card=[2, 2, 2])\n",
        "\n",
        "\n",
        "#CPD for 'Car towing'\n",
        "cpd_car__towing = TabularCPD(variable='Car towing', variable_card=2,\n",
        "                             values=[[0.5, 0.5],\n",
        "                                     [0.5, 0.5]],\n",
        "                             evidence=['Car breakdown'], evidence_card=[2])\n",
        "\n",
        "\n",
        "#CPD for 'Taking longer route'\n",
        "cpd_taking_longer__route = TabularCPD(variable='Taking longer route', variable_card=2,\n",
        "                                      values=[[0.5, 0.5],\n",
        "                                              [0.5, 0.5]],\n",
        "                                     evidence=['Traffic jam'], evidence_card=[2])\n",
        "\n",
        "#CPD for 'Being late for work'\n",
        "cpd_taking_being_late_for__work = TabularCPD(variable='Being late for work', variable_card=2,\n",
        "                                     values=[[0.5]*16, [0.5]*16],\n",
        "                                     evidence=[ 'Traffic jam', 'Slow traffic', 'Getting up late', 'Taking longer route'],\n",
        "                                     evidence_card=[2, 2, 2, 2])\n",
        "\n",
        "\n"
      ]
    },
    {
      "cell_type": "markdown",
      "id": "b6b85948",
      "metadata": {
        "id": "b6b85948"
      },
      "source": [
        "#### Step 2.2.2: Associate the distribution models with the network structure (2%)"
      ]
    },
    {
      "cell_type": "code",
      "execution_count": 41,
      "id": "9c60a865",
      "metadata": {
        "id": "9c60a865"
      },
      "outputs": [],
      "source": [
        "# your code goes here\n",
        "bn_model.add_cpds(cpd_traffic__accident, cpd_heavy__rain, cpd__snow, cpd_car__breakdown, cpd_getting_up__late, cpd_slippery__road,\n",
        "               cpd_traffic__jam, cpd_slow__traffic, cpd_road_is__blocked, cpd_car__towing,cpd_taking_longer__route,\n",
        "               cpd_taking_being_late_for__work)"
      ]
    },
    {
      "cell_type": "markdown",
      "id": "5a52a7fa",
      "metadata": {
        "id": "5a52a7fa"
      },
      "source": [
        "#### Step 2.2.3: Check the model (2%)"
      ]
    },
    {
      "cell_type": "code",
      "execution_count": 42,
      "id": "06b6fdc3",
      "metadata": {
        "id": "06b6fdc3",
        "colab": {
          "base_uri": "https://localhost:8080/"
        },
        "outputId": "ad82828a-78ee-4e87-afcf-7a9081f80ca5"
      },
      "outputs": [
        {
          "output_type": "stream",
          "name": "stdout",
          "text": [
            "True\n"
          ]
        }
      ],
      "source": [
        "# your code goes here\n",
        "print(bn_model.check_model())\n"
      ]
    },
    {
      "cell_type": "markdown",
      "id": "9b258b7f",
      "metadata": {
        "id": "9b258b7f"
      },
      "source": [
        "### Step 2.3: Infer Posterior Probability of “road is blocked” considering \"late for work\" as evidence. (10%)"
      ]
    },
    {
      "cell_type": "code",
      "execution_count": 43,
      "id": "a1acf2f0",
      "metadata": {
        "id": "a1acf2f0",
        "colab": {
          "base_uri": "https://localhost:8080/"
        },
        "outputId": "25ef7188-2fc0-42b9-f750-4283343b0d32"
      },
      "outputs": [
        {
          "output_type": "stream",
          "name": "stdout",
          "text": [
            "+--------------------+------------------------+\n",
            "| Road is blocked    |   phi(Road is blocked) |\n",
            "+====================+========================+\n",
            "| Road is blocked(0) |                 0.5000 |\n",
            "+--------------------+------------------------+\n",
            "| Road is blocked(1) |                 0.5000 |\n",
            "+--------------------+------------------------+\n"
          ]
        }
      ],
      "source": [
        "# show the probability results\n",
        "# your code goes here:\n",
        "from pgmpy.inference import VariableElimination\n",
        "infer_post = VariableElimination(bn_model)\n",
        "\n",
        "print(infer_post.query(variables=['Road is blocked'], evidence={'Being late for work': 1}))"
      ]
    },
    {
      "cell_type": "markdown",
      "source": [
        "\n",
        "### Results:\n",
        "\n",
        "\n",
        "1. The answer is 0.5. The road is blocked (1).\n",
        "     \n",
        "2. The blockage of the road does not affect the likelihood of being late for work, as we have taken into account the probability distribution of each variable, with a 50% chance of it being true and a 50% chance of it being false."
      ],
      "metadata": {
        "id": "NPVBXDkKd4PH"
      },
      "id": "NPVBXDkKd4PH"
    },
    {
      "cell_type": "code",
      "execution_count": null,
      "id": "983fabb1",
      "metadata": {
        "id": "983fabb1"
      },
      "outputs": [],
      "source": []
    }
  ],
  "metadata": {
    "kernelspec": {
      "display_name": "Python 3 (ipykernel)",
      "language": "python",
      "name": "python3"
    },
    "language_info": {
      "codemirror_mode": {
        "name": "ipython",
        "version": 3
      },
      "file_extension": ".py",
      "mimetype": "text/x-python",
      "name": "python",
      "nbconvert_exporter": "python",
      "pygments_lexer": "ipython3",
      "version": "3.9.7"
    },
    "colab": {
      "provenance": []
    }
  },
  "nbformat": 4,
  "nbformat_minor": 5
}