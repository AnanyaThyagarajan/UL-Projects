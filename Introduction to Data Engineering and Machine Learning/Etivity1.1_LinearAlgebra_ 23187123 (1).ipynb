{
 "cells": [
  {
   "cell_type": "markdown",
   "metadata": {},
   "source": [
    "**Student details**"
   ]
  },
  {
   "cell_type": "markdown",
   "metadata": {},
   "source": [
    "Your Name: Ananya Krithika Thyagarajan"
   ]
  },
  {
   "cell_type": "markdown",
   "metadata": {},
   "source": [
    "Your ID number: 23187123"
   ]
  },
  {
   "cell_type": "markdown",
   "metadata": {},
   "source": [
    "# Task 1"
   ]
  },
  {
   "cell_type": "markdown",
   "metadata": {},
   "source": [
    "## Vector Operations"
   ]
  },
  {
   "cell_type": "markdown",
   "metadata": {},
   "source": [
    "### Approach\n",
    "\n",
    "If-else statements and for-loop was mostly used to make functions for vector operations.\n",
    "- In Scalar multiplication, a list (v) and a numeric variable(n) was accepted in the function. A local list was created and apppend function was used in the for-loop to get the result.\n",
    "- Similarly in other functions, a combinations of if-else and  for-loop was used to get the result.\n",
    "- In cross product,  formula was used to calculate.\n",
    "- Each function results were verified and cross checked with the results obtained by NumPy functions \n"
   ]
  },
  {
   "cell_type": "markdown",
   "metadata": {},
   "source": [
    "**Provide Python functions, without external libraries*, to calculate:**\n",
    "\n",
    "\n",
    "**1. Scalar multiplication of a vector**\n"
   ]
  },
  {
   "cell_type": "code",
   "execution_count": 2,
   "metadata": {
    "ExecuteTime": {
     "end_time": "2023-09-22T17:34:38.514337Z",
     "start_time": "2023-09-22T17:34:38.506337Z"
    }
   },
   "outputs": [
    {
     "name": "stdout",
     "output_type": "stream",
     "text": [
      "The Scalar multiplication is [8, 16, 24]\n"
     ]
    }
   ],
   "source": [
    "\"\"\"CODE \"\"\"\n",
    "\n",
    "\n",
    "def scalar_multiply(v,s):\n",
    "    \"\"\"v (list) is for vector\n",
    "    and s (int/float) is for scalar\"\"\"\n",
    "    n2=[]\n",
    "    for i in v:\n",
    "        n2.append(i*s)\n",
    "    return n2\n",
    "#calling out the function\n",
    "a = [2,4,6]\n",
    "\n",
    "print(\"The Scalar multiplication is\", scalar_multiply(a,4))"
   ]
  },
  {
   "cell_type": "code",
   "execution_count": 3,
   "metadata": {
    "ExecuteTime": {
     "end_time": "2023-09-22T17:34:41.536832Z",
     "start_time": "2023-09-22T17:34:41.521829Z"
    }
   },
   "outputs": [
    {
     "data": {
      "text/plain": [
       "array([ 8, 16, 24])"
      ]
     },
     "execution_count": 3,
     "metadata": {},
     "output_type": "execute_result"
    }
   ],
   "source": [
    "#Verification with Numpy\n",
    "import numpy as np\n",
    "result = np.array(a)*4\n",
    "result "
   ]
  },
  {
   "cell_type": "markdown",
   "metadata": {},
   "source": [
    "**2. Addition and subtraction of two vectors. Check vectors of the same size are passed.**\n"
   ]
  },
  {
   "cell_type": "code",
   "execution_count": 4,
   "metadata": {
    "ExecuteTime": {
     "end_time": "2023-09-22T17:34:42.754028Z",
     "start_time": "2023-09-22T17:34:42.735015Z"
    }
   },
   "outputs": [
    {
     "name": "stdout",
     "output_type": "stream",
     "text": [
      "Addition of two vectors is:  [3, 6, 9]\n",
      "Difference between the two vectors is:  [0, 0, -2]\n"
     ]
    }
   ],
   "source": [
    "\"\"\"CODE\"\"\"\n",
    "\n",
    "def add_vectors(v1,v2):\n",
    "    \"\"\"checking if vectors of same size are passed\"\"\"\n",
    "    if len(v1)== len(v2):\n",
    "        sum = [i+j for i,j in zip(v1,v2)]\n",
    "        return sum\n",
    "    else:\n",
    "        print(\"The two vectors must be of same size. Please try again.\")\n",
    "\n",
    "def sub_vectors(w1,w2):\n",
    "        \"\"\"checking if vectors of same size are passed\"\"\"\n",
    "        if len(w1)== len(w2):\n",
    "            sub = [i-j for i,j in zip(w1,w2)]\n",
    "            return sub\n",
    "        else:\n",
    "            print(\"The two vectors must be of same size. Please try again.\")\n",
    "            \n",
    "#calling out the function\n",
    "b = [1,2,3]\n",
    "\n",
    "r = add_vectors(a,b)\n",
    "\n",
    "\n",
    "c = [2,4,8]\n",
    "s= sub_vectors(a,c)\n",
    "\n",
    "print(\"Addition of two vectors is: \",r)\n",
    "print(\"Difference between the two vectors is: \",s)"
   ]
  },
  {
   "cell_type": "code",
   "execution_count": 5,
   "metadata": {
    "ExecuteTime": {
     "end_time": "2023-09-22T17:34:43.267715Z",
     "start_time": "2023-09-22T17:34:43.260722Z"
    }
   },
   "outputs": [
    {
     "data": {
      "text/plain": [
       "array([3, 6, 9])"
      ]
     },
     "execution_count": 5,
     "metadata": {},
     "output_type": "execute_result"
    }
   ],
   "source": [
    "#Verification with Numpy\n",
    "import numpy as np\n",
    "result = np.array(a) + np.array(b)\n",
    "result"
   ]
  },
  {
   "cell_type": "code",
   "execution_count": 6,
   "metadata": {
    "ExecuteTime": {
     "end_time": "2023-09-22T17:34:43.837527Z",
     "start_time": "2023-09-22T17:34:43.824421Z"
    }
   },
   "outputs": [
    {
     "data": {
      "text/plain": [
       "array([ 0,  0, -2])"
      ]
     },
     "execution_count": 6,
     "metadata": {},
     "output_type": "execute_result"
    }
   ],
   "source": [
    "result2 = np.array(a) - np.array(c)\n",
    "result2"
   ]
  },
  {
   "cell_type": "markdown",
   "metadata": {},
   "source": [
    "**2. The dot product of two vectors of length n. Check vectors of the same size are passed.**\n"
   ]
  },
  {
   "cell_type": "code",
   "execution_count": 7,
   "metadata": {
    "ExecuteTime": {
     "end_time": "2023-09-22T17:34:45.002230Z",
     "start_time": "2023-09-22T17:34:44.986214Z"
    }
   },
   "outputs": [
    {
     "data": {
      "text/plain": [
       "68"
      ]
     },
     "execution_count": 7,
     "metadata": {},
     "output_type": "execute_result"
    }
   ],
   "source": [
    "\"\"\"CODE\"\"\"\n",
    "\n",
    "def dot_prod(u1,u2):\n",
    "    \"\"\"checking if vectors of same size are passed\"\"\"\n",
    "    if len(u1)== len(u2):\n",
    "        dot = sum(i*j for i,j in zip(u1,u2))\n",
    "        return dot\n",
    "    else:\n",
    "        print(\"The two vectors must be of same size. Please try again.\")\n",
    "\n",
    "        \n",
    "\n",
    "#calling out the function\n",
    "\n",
    "p = dot_prod(a,c)\n",
    "p"
   ]
  },
  {
   "cell_type": "code",
   "execution_count": 8,
   "metadata": {
    "ExecuteTime": {
     "end_time": "2023-09-22T17:34:45.873363Z",
     "start_time": "2023-09-22T17:34:45.864352Z"
    }
   },
   "outputs": [
    {
     "name": "stdout",
     "output_type": "stream",
     "text": [
      "68\n"
     ]
    }
   ],
   "source": [
    "#Verification with Numpy\n",
    "\n",
    "print(np.dot(a,c))\n"
   ]
  },
  {
   "cell_type": "markdown",
   "metadata": {},
   "source": [
    "**3. The cross product, which is defined for 3D-vectors. Check vectors of the correct size are passed.**"
   ]
  },
  {
   "cell_type": "code",
   "execution_count": 9,
   "metadata": {
    "ExecuteTime": {
     "end_time": "2023-09-22T17:34:47.788767Z",
     "start_time": "2023-09-22T17:34:47.782779Z"
    }
   },
   "outputs": [
    {
     "data": {
      "text/plain": [
       "[8, -4, 0]"
      ]
     },
     "execution_count": 9,
     "metadata": {},
     "output_type": "execute_result"
    }
   ],
   "source": [
    "\n",
    "\"\"\"CODE\"\"\"\n",
    "\n",
    "\n",
    "def cross_prod(A1,A2):\n",
    "    \"\"\"checking if vectors of same size are passed\"\"\"\n",
    "    \"\"\"If vector A has 3 elements = [A1,A2,A3] and vector B has 3 elements = [B1,B2,B3]\n",
    "      Then the cross product is given by the formula : [(A2*B3) – (A3*B2), (A3*B1) – (A1*B3), (A1*B2) – (A2*B1)]\n",
    "    \"\"\"\n",
    "    if len(A1)==len(A2)==3:\n",
    "        x = A1[1]*A2[2]- A1[2]*A2[1]\n",
    "        y = A1[2]*A2[0] - A1[0]*A2[2]\n",
    "        z = A1[0]*A2[1] - A1[1]*A2[0]\n",
    "        cross = [x,y,z]\n",
    "        return cross\n",
    "    \n",
    " #calling out the function\n",
    "\n",
    "d = cross_prod(a,c)\n",
    "d"
   ]
  },
  {
   "cell_type": "code",
   "execution_count": 10,
   "metadata": {
    "ExecuteTime": {
     "end_time": "2023-09-22T17:34:48.478115Z",
     "start_time": "2023-09-22T17:34:48.467101Z"
    }
   },
   "outputs": [
    {
     "name": "stdout",
     "output_type": "stream",
     "text": [
      "[ 8 -4  0]\n"
     ]
    }
   ],
   "source": [
    "#Verification with Numpy\n",
    "\n",
    "print(np.cross(a, c))"
   ]
  },
  {
   "cell_type": "markdown",
   "metadata": {},
   "source": [
    "## Matrix Operations"
   ]
  },
  {
   "cell_type": "markdown",
   "metadata": {},
   "source": [
    "### Approach\n",
    "\n",
    "\n",
    "If-else statements and for-loop was mostly used to make functions for vector operations.\n",
    "- In Matrix operations, matrices in the form of lists were accepted in the function. A some local list were created.\n",
    "- Similarly in other functions, a combinations of nested if-else and nested for-loop was used to get the result.\n",
    "- In determinant and inverse of matrix functions, formula was used to calculate.\n",
    "- Each function results were verified and cross checked with the results obtained by NumPy functions \n"
   ]
  },
  {
   "cell_type": "markdown",
   "metadata": {},
   "source": [
    "**Write Python functions to perform the operations, without using external libraries*:**\n",
    "    \n",
    "    \n",
    "\n",
    "**1. Calculate and return the size of a matrix as a 2-dimensional tuple**"
   ]
  },
  {
   "cell_type": "code",
   "execution_count": 11,
   "metadata": {
    "ExecuteTime": {
     "end_time": "2023-09-22T17:34:52.295909Z",
     "start_time": "2023-09-22T17:34:52.275900Z"
    }
   },
   "outputs": [
    {
     "name": "stdout",
     "output_type": "stream",
     "text": [
      "Number of rows and columns are: (3, 3)\n"
     ]
    }
   ],
   "source": [
    "\"\"\"CODE\"\"\"\n",
    "\n",
    "def size_of_matrix(M):\n",
    "    #for number of rows\n",
    "    rows= len(M)\n",
    "    \n",
    "    #for getting the maximum columns among rows\n",
    "    column = max(len(r) for r in M)\n",
    "    \n",
    "    #to check if the number of rows is equal with the number of columns\n",
    "    \n",
    "    if not all(len(r2)== column for r2 in M):\n",
    "        raise ValueError(\"The given matrix has unequal rows and columns. Please try again!\")\n",
    "    \n",
    "    else:\n",
    "        return (rows, column)\n",
    "\n",
    "#testing with examples\n",
    "A = [[1, 2, 3],\n",
    "    [4, 5, 6, 7],\n",
    "    [8]]\n",
    "\n",
    "B = [[1,2,3],\n",
    "    [2,4,6],\n",
    "    [3,6,9]]\n",
    "\n",
    "try:\n",
    "    # Get the size of the matrix\n",
    "    size = size_of_matrix(B)\n",
    "    # Print the size\n",
    "    print(\"Number of rows and columns are:\", size)\n",
    "    \n",
    "except ValueError as e:\n",
    "    print(\"Error:\", e)\n",
    "\n",
    "    "
   ]
  },
  {
   "cell_type": "code",
   "execution_count": 12,
   "metadata": {
    "ExecuteTime": {
     "end_time": "2023-09-22T17:34:53.044854Z",
     "start_time": "2023-09-22T17:34:53.026857Z"
    }
   },
   "outputs": [
    {
     "data": {
      "text/plain": [
       "(3, 3)"
      ]
     },
     "execution_count": 12,
     "metadata": {},
     "output_type": "execute_result"
    }
   ],
   "source": [
    "#Verification with Numpy\n",
    "np.array(B).shape"
   ]
  },
  {
   "cell_type": "markdown",
   "metadata": {},
   "source": [
    "**2. Sum/subtract the matrix with another matrix of suitable size. Print a suitable error message if incorrect matrix sizes are passed.**\n"
   ]
  },
  {
   "cell_type": "code",
   "execution_count": 13,
   "metadata": {
    "ExecuteTime": {
     "end_time": "2023-09-22T17:34:54.199405Z",
     "start_time": "2023-09-22T17:34:54.183389Z"
    }
   },
   "outputs": [],
   "source": [
    "\"\"\"CODE\"\"\"\n",
    "def Check_MatrixSize(M1,M2):\n",
    "    return (len(M1)== len(M2) or len(M1[0])==len(M2[0]))\n",
    "    \n",
    "\n",
    "def add_of_matrix(M1,M2):\n",
    "    \n",
    "    #to check if the number of rows is equal with the number of columns for the two matrices\n",
    "    \n",
    "    if not Check_MatrixSize(M1, M2):\n",
    "        raise ValueError(\"The matrices must have same dimensions for matrix addition. Please try again!\")\n",
    "    sum=[]\n",
    "    for a in range(len(M1)):\n",
    "        row =[]\n",
    "        for b in range(len(M1[0])):\n",
    "            row.append(M1[a][b] +M2[a][b])\n",
    "        sum.append(row)\n",
    "    return sum\n",
    "        \n",
    "def sub_of_matrix(M1,M2):\n",
    "    \n",
    "    #to check if the number of rows is equal with the number of columns for the two matrices\n",
    "    \n",
    "    if not Check_MatrixSize(M1, M2):\n",
    "        raise ValueError(\"The matrices must have same dimensions for matrix subtraction. Please try again!\")\n",
    "    sub=[]\n",
    "    for a in range(len(M1)):\n",
    "        row =[]\n",
    "        for b in range(len(M1[0])):\n",
    "            row.append(M1[a][b] - M2[a][b])\n",
    "        sub.append(row)\n",
    "    return sub\n",
    "    \n",
    "        "
   ]
  },
  {
   "cell_type": "code",
   "execution_count": 14,
   "metadata": {
    "ExecuteTime": {
     "end_time": "2023-09-22T17:34:54.761385Z",
     "start_time": "2023-09-22T17:34:54.742382Z"
    }
   },
   "outputs": [
    {
     "name": "stdout",
     "output_type": "stream",
     "text": [
      "\n",
      "Matrix A + Matrix B =\n",
      "['2 5 8']\n",
      "['6 12 18']\n",
      "['7 22 27']\n",
      "\n",
      "Matrix A - Matrix B =\n",
      "['2 3 4']\n",
      "['-4 -8 -12']\n",
      "['-1 -10 -9']\n"
     ]
    }
   ],
   "source": [
    "#Testing with examples and calling out the function\n",
    "\n",
    "A= [[2,4,6], [1,2,3], [3,6,9]]\n",
    "B = [[0,1,2], [5,10,15], [4,16,18]]\n",
    "\n",
    "\n",
    "add_result = add_of_matrix(A,B)\n",
    "\n",
    "try:\n",
    "    if add_result:\n",
    "        print(\"\\nMatrix A + Matrix B =\")\n",
    "        #for printing Matrice in proper format\n",
    "        for row in add_result:\n",
    "            p= ' '.join(map(str, row))\n",
    "            print([p])\n",
    "        \n",
    "    sub_result = sub_of_matrix(A,B)\n",
    "    if sub_result:\n",
    "        print(\"\\nMatrix A - Matrix B =\")\n",
    "        #for printing Matrice in proper format\n",
    "        for row in sub_result:\n",
    "            d= ' '.join(map(str, row))\n",
    "            print([d])\n",
    "        \n",
    "except ValueError as e:\n",
    "    print(f\"Matrix operation failed: {e}\")"
   ]
  },
  {
   "cell_type": "code",
   "execution_count": 15,
   "metadata": {
    "ExecuteTime": {
     "end_time": "2023-09-22T17:34:55.288158Z",
     "start_time": "2023-09-22T17:34:55.273155Z"
    }
   },
   "outputs": [
    {
     "name": "stdout",
     "output_type": "stream",
     "text": [
      "[[ 2  5  8]\n",
      " [ 6 12 18]\n",
      " [ 7 22 27]]\n",
      "[[  2   3   4]\n",
      " [ -4  -8 -12]\n",
      " [ -1 -10  -9]]\n"
     ]
    }
   ],
   "source": [
    "#Verification with Numpy\n",
    "r1 = np.array(A) + np.array(B)\n",
    "print(r1)\n",
    "r2 = np.array(A) - np.array(B)\n",
    "print(r2)"
   ]
  },
  {
   "cell_type": "markdown",
   "metadata": {},
   "source": [
    "**3. Multiply the matrix with a matrix of suitable size. Print a suitable error message if\n",
    "incorrect matrix sizes are passed.**\n"
   ]
  },
  {
   "cell_type": "code",
   "execution_count": 16,
   "metadata": {
    "ExecuteTime": {
     "end_time": "2023-09-22T17:34:56.382542Z",
     "start_time": "2023-09-22T17:34:56.361529Z"
    }
   },
   "outputs": [
    {
     "name": "stdout",
     "output_type": "stream",
     "text": [
      "\n",
      " Result of Matrix multiplication =\n",
      "['44 138 172']\n",
      "['22 69 86']\n",
      "['66 207 258']\n"
     ]
    }
   ],
   "source": [
    "\"\"\"CODE\"\"\"\n",
    "\n",
    "def multiply_matrices(M1, M2):\n",
    "    if not len(M1[0]) == len(M2):\n",
    "        raise ValueError(\"The matrices must have same dimensions. Please try again!\")\n",
    "    r1,col1 = len(M1), len(M1[0])\n",
    "    r2,col2 = len(M2), len(M2[0])\n",
    "    mult = [[0, 0, 0],\n",
    "          [0, 0, 0],\n",
    "          [0, 0, 0]]\n",
    "    \n",
    "\n",
    "    for i in range(r1):\n",
    "        for j in range(col2):\n",
    "            for k in range(col1):\n",
    "                mult[i][j]= M1[i][k] * M2[k][j] + mult[i][j]\n",
    "    return mult\n",
    "\n",
    "A= [[2,4,6], [1,2,3], [3,6,9]]\n",
    "B = [[0,1,2], [5,10,15], [4,16,18]]\n",
    "\n",
    "result = multiply_matrices(A,B)\n",
    "\n",
    "try:\n",
    "    if result:\n",
    "        print(\"\\n Result of Matrix multiplication =\")\n",
    "        #for printing Matrice in proper format\n",
    "        for row in result:\n",
    "            p= ' '.join(map(str, row))\n",
    "            print([p])\n",
    "        \n",
    "except ValueError as e:\n",
    "    print(f\"Matrix operation failed: {e}\")"
   ]
  },
  {
   "cell_type": "code",
   "execution_count": 17,
   "metadata": {
    "ExecuteTime": {
     "end_time": "2023-09-22T17:34:57.067818Z",
     "start_time": "2023-09-22T17:34:57.050809Z"
    }
   },
   "outputs": [
    {
     "name": "stdout",
     "output_type": "stream",
     "text": [
      "[[ 44 138 172]\n",
      " [ 22  69  86]\n",
      " [ 66 207 258]]\n"
     ]
    }
   ],
   "source": [
    "#Verification with Numpy\n",
    "\n",
    "res2 = np.matmul(A,B)\n",
    "print(res2)"
   ]
  },
  {
   "cell_type": "markdown",
   "metadata": {},
   "source": [
    "**4. Calculate the determinant of a 2x2 matrix. For any other matrix this function\n",
    "should print a suitable error message**"
   ]
  },
  {
   "cell_type": "code",
   "execution_count": 18,
   "metadata": {
    "ExecuteTime": {
     "end_time": "2023-09-22T17:34:58.546640Z",
     "start_time": "2023-09-22T17:34:58.535644Z"
    }
   },
   "outputs": [
    {
     "name": "stdout",
     "output_type": "stream",
     "text": [
      "The determinant is: \n"
     ]
    },
    {
     "data": {
      "text/plain": [
       "42"
      ]
     },
     "execution_count": 18,
     "metadata": {},
     "output_type": "execute_result"
    }
   ],
   "source": [
    "\"\"\"CODE\"\"\"\n",
    "\n",
    "def find_determinant(M):\n",
    "    #checking if the matrice is 2 x 2 \n",
    "    \n",
    "    if (len(M)==2 and len(M[0])==2):\n",
    "        det = M[0][0] * M[1][1] - M[1][0] * M[0][1]\n",
    "        print(\"The determinant is: \")\n",
    "        return det\n",
    "    else:\n",
    "        print(\"Invalid Matrice dimention. Enter a 2x2 matrix\")\n",
    "\n",
    "        \n",
    "#testing with example and calling out the function\n",
    "\n",
    "Mat =[[12,2],[3,4]]\n",
    "    \n",
    "Mat2 = [[1,2,3],[2,4,5]]\n",
    "\n",
    "find_determinant(Mat)"
   ]
  },
  {
   "cell_type": "code",
   "execution_count": 19,
   "metadata": {
    "ExecuteTime": {
     "end_time": "2023-09-22T17:34:59.329671Z",
     "start_time": "2023-09-22T17:34:59.318666Z"
    }
   },
   "outputs": [
    {
     "data": {
      "text/plain": [
       "42"
      ]
     },
     "execution_count": 19,
     "metadata": {},
     "output_type": "execute_result"
    }
   ],
   "source": [
    "#Verification with Numpy\n",
    "\n",
    "int(np.linalg.det(Mat))"
   ]
  },
  {
   "cell_type": "markdown",
   "metadata": {},
   "source": [
    "**5. Calculate the inverse of a 2x2 matrix. For any other matrix this function should\n",
    "print a suitable error message. An error message should also be raised if the\n",
    "matrix is non-invertible.**"
   ]
  },
  {
   "cell_type": "code",
   "execution_count": 20,
   "metadata": {
    "ExecuteTime": {
     "end_time": "2023-09-22T17:35:06.137384Z",
     "start_time": "2023-09-22T17:35:06.127383Z"
    }
   },
   "outputs": [
    {
     "name": "stdout",
     "output_type": "stream",
     "text": [
      "The Inverse is: \n",
      "['0.0952381  -0.04761905']\n",
      "['-0.07142857  0.28571429']\n"
     ]
    }
   ],
   "source": [
    "\"\"\"CODE\"\"\"\n",
    "\n",
    "\"\"\" Note: If a determinant of a matrix is zero, then it will not have an inverse \"\"\"\n",
    "\n",
    "def round_off_inverse(M, decimals=8):\n",
    "    round_inverse =[[round(element, decimals) for element in row] for row in M]\n",
    "    return round_inverse\n",
    "\n",
    "\n",
    "\n",
    "def inverse_matrix(M):\n",
    "    #checking if the matrice is 2 x 2 \n",
    "    \n",
    "    if (len(M)==2 and len(M[0])==2):\n",
    "        #checking if the matrix has inverse\n",
    "        det = M[0][0] * M[1][1] - M[1][0] * M[0][1]\n",
    "        X=[]\n",
    "        if det == 0:\n",
    "            print(\"This Matrix is non-invertable. Please try again!\")\n",
    "        else:\n",
    "            a , b = M[0][0], M[0][1]\n",
    "            c, d = M[1][0], M[1][1]\n",
    "            inverse = [[M[1][1] / det, -M[0][1] / det], [-M[1][0] / det, M[0][0] / det]]\n",
    "            r_inv = round_off_inverse(inverse)\n",
    "            print(\"The Inverse is: \")\n",
    "            return r_inv\n",
    "    \n",
    "    else:\n",
    "        print(\"Invalid Matrice dimention. Enter a 2x2 matrix\")\n",
    "\n",
    "\n",
    "#testing with example and calling out the function\n",
    "\n",
    "Mat =[[12,2],[3,4]]\n",
    "    \n",
    "Mat2 = [[1,2,3],[2,4,5]]\n",
    "\n",
    "i = inverse_matrix(Mat)\n",
    "i\n",
    "#printing the matrice in the correct format\n",
    "for row in i:\n",
    "    z= '  '.join(map(str, row))\n",
    "    print([z])\n",
    "\n",
    " "
   ]
  },
  {
   "cell_type": "code",
   "execution_count": 21,
   "metadata": {
    "ExecuteTime": {
     "end_time": "2023-09-22T17:35:07.087788Z",
     "start_time": "2023-09-22T17:35:07.064784Z"
    }
   },
   "outputs": [
    {
     "data": {
      "text/plain": [
       "array([[ 0.0952381 , -0.04761905],\n",
       "       [-0.07142857,  0.28571429]])"
      ]
     },
     "execution_count": 21,
     "metadata": {},
     "output_type": "execute_result"
    }
   ],
   "source": [
    "#Verification with Numpy\n",
    "\n",
    "int(np.linalg.det(Mat))\n",
    "np.linalg.inv(Mat)"
   ]
  },
  {
   "cell_type": "code",
   "execution_count": null,
   "metadata": {},
   "outputs": [],
   "source": []
  },
  {
   "cell_type": "code",
   "execution_count": null,
   "metadata": {},
   "outputs": [],
   "source": []
  }
 ],
 "metadata": {
  "kernelspec": {
   "display_name": "Python 3",
   "language": "python",
   "name": "python3"
  },
  "language_info": {
   "codemirror_mode": {
    "name": "ipython",
    "version": 3
   },
   "file_extension": ".py",
   "mimetype": "text/x-python",
   "name": "python",
   "nbconvert_exporter": "python",
   "pygments_lexer": "ipython3",
   "version": "3.8.5"
  },
  "toc": {
   "base_numbering": 1,
   "nav_menu": {},
   "number_sections": true,
   "sideBar": true,
   "skip_h1_title": false,
   "title_cell": "Table of Contents",
   "title_sidebar": "Contents",
   "toc_cell": false,
   "toc_position": {},
   "toc_section_display": true,
   "toc_window_display": false
  },
  "varInspector": {
   "cols": {
    "lenName": 16,
    "lenType": 16,
    "lenVar": 40
   },
   "kernels_config": {
    "python": {
     "delete_cmd_postfix": "",
     "delete_cmd_prefix": "del ",
     "library": "var_list.py",
     "varRefreshCmd": "print(var_dic_list())"
    },
    "r": {
     "delete_cmd_postfix": ") ",
     "delete_cmd_prefix": "rm(",
     "library": "var_list.r",
     "varRefreshCmd": "cat(var_dic_list()) "
    }
   },
   "types_to_exclude": [
    "module",
    "function",
    "builtin_function_or_method",
    "instance",
    "_Feature"
   ],
   "window_display": false
  }
 },
 "nbformat": 4,
 "nbformat_minor": 4
}
