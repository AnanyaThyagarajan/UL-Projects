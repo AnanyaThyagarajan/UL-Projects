{
 "cells": [
  {
   "cell_type": "markdown",
   "metadata": {
    "id": "Vk-FbFQdJNz5"
   },
   "source": [
    "Student name: Ananya Krithika Thyagarajan\n",
    "\n",
    "Student id: 23187123"
   ]
  },
  {
   "cell_type": "markdown",
   "metadata": {
    "deletable": false,
    "editable": false,
    "tags": []
   },
   "source": [
    "# Task: Deep neural networks"
   ]
  },
  {
   "cell_type": "markdown",
   "metadata": {
    "deletable": false,
    "editable": false,
    "tags": []
   },
   "source": [
    "#### Imports"
   ]
  },
  {
   "cell_type": "code",
   "execution_count": 7,
   "metadata": {
    "ExecuteTime": {
     "end_time": "2023-11-16T20:25:15.898511Z",
     "start_time": "2023-11-16T20:25:15.264540Z"
    },
    "id": "cEyAXUtxyRAC"
   },
   "outputs": [],
   "source": [
    "                   "
   ]
  },
  {
   "cell_type": "markdown",
   "metadata": {
    "deletable": false,
    "editable": false,
    "tags": []
   },
   "source": [
    "## Get the data an manipulate\n",
    "\n",
    "We're going to use the Fashion MNIST dataset, which we can download from OpenML.\n",
    "\n",
    "Fashion-MNIST is a dataset of Zalando's article images—consisting of a set of 60,000 samples. Each sample is a 28x28 grayscale image, associated with a label from 10 classes.\n",
    "\n",
    "Label IDs:\n",
    "* T-shirt/top - 0\n",
    "* Trouser - 1\n",
    "* Pullover - 2\n",
    "* Dress - 3\n",
    "* Coat - 4\n",
    "* Sandal - 5\n",
    "* Shirt - 6\n",
    "* Sneaker - 7\n",
    "* Bag - 8\n",
    "* Ankle boot - 9\n",
    "\n",
    "We'll load up the Fashion-MNIST dataset. It will take a few seconds.\n"
   ]
  },
  {
   "cell_type": "code",
   "execution_count": 8,
   "metadata": {
    "ExecuteTime": {
     "end_time": "2023-11-16T20:25:18.111569Z",
     "start_time": "2023-11-16T20:25:18.103568Z"
    }
   },
   "outputs": [],
   "source": [
    "import ssl\n",
    "import urllib\n",
    "\n",
    "ssl._create_default_https_context = ssl._create_unverified_context"
   ]
  },
  {
   "cell_type": "code",
   "execution_count": 9,
   "metadata": {
    "ExecuteTime": {
     "end_time": "2023-11-16T20:25:46.895691Z",
     "start_time": "2023-11-16T20:25:20.428029Z"
    },
    "deletable": false,
    "editable": false,
    "tags": []
   },
   "outputs": [],
   "source": [
    "from sklearn.datasets import fetch_openml\n",
    "from sklearn.model_selection import train_test_split\n",
    "from sklearn.preprocessing import StandardScaler\n",
    "from sklearn.utils import check_random_state\n",
    "\n",
    "# Load data from https://www.openml.org/d/554\n",
    "X, y = fetch_openml(\"Fashion-MNIST\", version=1, return_X_y=True, as_frame=False)\n",
    "\n",
    "text_labels = ['T-shirt/top', 'Trouser', 'Pullover', 'Dress', 'Coat', 'Sandal', 'Shirt', 'Sneaker', 'Bag', 'Ankle boot']"
   ]
  },
  {
   "cell_type": "markdown",
   "metadata": {
    "deletable": false,
    "editable": false,
    "tags": []
   },
   "source": [
    "Let's also visualise a few random samples of this"
   ]
  },
  {
   "cell_type": "code",
   "execution_count": 10,
   "metadata": {
    "ExecuteTime": {
     "end_time": "2023-11-16T20:26:02.671818Z",
     "start_time": "2023-11-16T20:26:02.303199Z"
    },
    "deletable": false,
    "editable": false,
    "tags": []
   },
   "outputs": [
    {
     "data": {
      "image/png": "[encoded data removed]",
      "text/plain": [
       "<Figure size 1584x720 with 8 Axes>"
      ]
     },
     "metadata": {
      "needs_background": "light"
     },
     "output_type": "display_data"
    }
   ],
   "source": [
    "import numpy as np\n",
    "import matplotlib.pyplot as plt\n",
    "\n",
    "# You can put between 0 to 59999 here\n",
    "index = (0, 22, 100, 555, 666, 123, 10000, 55005)\n",
    "\n",
    "# Set number of characters per row when printing\n",
    "np.set_printoptions(linewidth=320)\n",
    "\n",
    "# Visualize the image\n",
    "\n",
    "fig, ax = plt.subplots(2, 4, figsize=(22, 10))\n",
    "fig.subplots_adjust(wspace=0.3)\n",
    "ax = ax.flatten()\n",
    "\n",
    "for i in range(len(index)):\n",
    "    ax[i].imshow(np.reshape(X[index[i]], (-1, 28)), cmap='gray', vmin=0, vmax=255)\n",
    "    ax[i].axis('off')  # clear x-axis and y-axis\n",
    "    ax[i].set_title(text_labels[int(y[index[i]])])\n",
    "\n",
    "plt.show()"
   ]
  },
  {
   "cell_type": "markdown",
   "metadata": {
    "deletable": false,
    "editable": false,
    "tags": []
   },
   "source": [
    "### Data manipulation\n",
    "\n",
    "Firstly, do a train/test split. Keep 20% of the data for test. Fix the `random_state` so that the test is completely repeatible.\n",
    "\n",
    "Then use the `StandardScaler` function from `sklearn.preprocessing`, as the multi-layer perceptron can be quite sensitive to data scaling."
   ]
  },
  {
   "cell_type": "markdown",
   "metadata": {
    "deletable": false,
    "editable": false,
    "tags": []
   },
   "source": [
    "<span style=\"color:red\">Insert your code below</span>."
   ]
  },
  {
   "cell_type": "code",
   "execution_count": 11,
   "metadata": {
    "ExecuteTime": {
     "end_time": "2023-11-16T20:29:52.493541Z",
     "start_time": "2023-11-16T20:29:51.324985Z"
    },
    "id": "spRd6Bbcxe5u"
   },
   "outputs": [],
   "source": [
    "from sklearn.preprocessing import StandardScaler\n",
    "from sklearn.model_selection import train_test_split\n",
    "\n",
    "############################\n",
    "# Your code here\n",
    "\n",
    "\n",
    "# Split the data into training and test sets\n",
    "X_train, X_test, y_train, y_test = train_test_split(X, y, test_size=0.2, random_state=42)\n",
    "\n",
    "# Initialize a StandardScaler\n",
    "scaler = StandardScaler()\n",
    "\n",
    "# Fit the scaler on the training data and transform both training and test data\n",
    "X_train_scaled = scaler.fit_transform(X_train)\n",
    "X_test_scaled = scaler.transform(X_test)\n"
   ]
  },
  {
   "cell_type": "markdown",
   "metadata": {
    "deletable": false,
    "editable": false,
    "tags": []
   },
   "source": [
    "## Task 1: Train a Perceptron\n",
    "\n",
    "1. A single artifical neuron is a Perceptron, so use `sklearn`'s implementation of the Percpetron, and train it.\n",
    "2. Calculate and print the accuracy\n",
    "3. Discuss the result, does it seem good or bad?\n",
    "4. Find an example where the classification is incorrect, and plot it. Discuss (e.g. does it kind of look like the clothing item that was predicted?)\n",
    "5. Multiclass perceptron? We learned that the Percpetron is a binary classifier. Give a brief description of how multi-class perceptron might work. Of course, use the internet, but give it to me in your own words, and use a diagram as appropriate."
   ]
  },
  {
   "cell_type": "markdown",
   "metadata": {
    "deletable": false,
    "editable": false,
    "tags": []
   },
   "source": [
    "<span style=\"color:red\">Insert your code below</span>."
   ]
  },
  {
   "cell_type": "code",
   "execution_count": 14,
   "metadata": {
    "ExecuteTime": {
     "end_time": "2023-11-16T23:51:13.085832Z",
     "start_time": "2023-11-16T23:51:03.974612Z"
    }
   },
   "outputs": [
    {
     "data": {
      "text/html": [
       "<style>#sk-container-id-2 {color: black;}#sk-container-id-2 pre{padding: 0;}#sk-container-id-2 div.sk-toggleable {background-color: white;}#sk-container-id-2 label.sk-toggleable__label {cursor: pointer;display: block;width: 100%;margin-bottom: 0;padding: 0.3em;box-sizing: border-box;text-align: center;}#sk-container-id-2 label.sk-toggleable__label-arrow:before {content: \"▸\";float: left;margin-right: 0.25em;color: #696969;}#sk-container-id-2 label.sk-toggleable__label-arrow:hover:before {color: black;}#sk-container-id-2 div.sk-estimator:hover label.sk-toggleable__label-arrow:before {color: black;}#sk-container-id-2 div.sk-toggleable__content {max-height: 0;max-width: 0;overflow: hidden;text-align: left;background-color: #f0f8ff;}#sk-container-id-2 div.sk-toggleable__content pre {margin: 0.2em;color: black;border-radius: 0.25em;background-color: #f0f8ff;}#sk-container-id-2 input.sk-toggleable__control:checked~div.sk-toggleable__content {max-height: 200px;max-width: 100%;overflow: auto;}#sk-container-id-2 input.sk-toggleable__control:checked~label.sk-toggleable__label-arrow:before {content: \"▾\";}#sk-container-id-2 div.sk-estimator input.sk-toggleable__control:checked~label.sk-toggleable__label {background-color: #d4ebff;}#sk-container-id-2 div.sk-label input.sk-toggleable__control:checked~label.sk-toggleable__label {background-color: #d4ebff;}#sk-container-id-2 input.sk-hidden--visually {border: 0;clip: rect(1px 1px 1px 1px);clip: rect(1px, 1px, 1px, 1px);height: 1px;margin: -1px;overflow: hidden;padding: 0;position: absolute;width: 1px;}#sk-container-id-2 div.sk-estimator {font-family: monospace;background-color: #f0f8ff;border: 1px dotted black;border-radius: 0.25em;box-sizing: border-box;margin-bottom: 0.5em;}#sk-container-id-2 div.sk-estimator:hover {background-color: #d4ebff;}#sk-container-id-2 div.sk-parallel-item::after {content: \"\";width: 100%;border-bottom: 1px solid gray;flex-grow: 1;}#sk-container-id-2 div.sk-label:hover label.sk-toggleable__label {background-color: #d4ebff;}#sk-container-id-2 div.sk-serial::before {content: \"\";position: absolute;border-left: 1px solid gray;box-sizing: border-box;top: 0;bottom: 0;left: 50%;z-index: 0;}#sk-container-id-2 div.sk-serial {display: flex;flex-direction: column;align-items: center;background-color: white;padding-right: 0.2em;padding-left: 0.2em;position: relative;}#sk-container-id-2 div.sk-item {position: relative;z-index: 1;}#sk-container-id-2 div.sk-parallel {display: flex;align-items: stretch;justify-content: center;background-color: white;position: relative;}#sk-container-id-2 div.sk-item::before, #sk-container-id-2 div.sk-parallel-item::before {content: \"\";position: absolute;border-left: 1px solid gray;box-sizing: border-box;top: 0;bottom: 0;left: 50%;z-index: -1;}#sk-container-id-2 div.sk-parallel-item {display: flex;flex-direction: column;z-index: 1;position: relative;background-color: white;}#sk-container-id-2 div.sk-parallel-item:first-child::after {align-self: flex-end;width: 50%;}#sk-container-id-2 div.sk-parallel-item:last-child::after {align-self: flex-start;width: 50%;}#sk-container-id-2 div.sk-parallel-item:only-child::after {width: 0;}#sk-container-id-2 div.sk-dashed-wrapped {border: 1px dashed gray;margin: 0 0.4em 0.5em 0.4em;box-sizing: border-box;padding-bottom: 0.4em;background-color: white;}#sk-container-id-2 div.sk-label label {font-family: monospace;font-weight: bold;display: inline-block;line-height: 1.2em;}#sk-container-id-2 div.sk-label-container {text-align: center;}#sk-container-id-2 div.sk-container {/* jupyter's `normalize.less` sets `[hidden] { display: none; }` but bootstrap.min.css set `[hidden] { display: none !important; }` so we also need the `!important` here to be able to override the default hidden behavior on the sphinx rendered scikit-learn.org. See: https://github.com/scikit-learn/scikit-learn/issues/21755 */display: inline-block !important;position: relative;}#sk-container-id-2 div.sk-text-repr-fallback {display: none;}</style><div id=\"sk-container-id-2\" class=\"sk-top-container\"><div class=\"sk-text-repr-fallback\"><pre>Perceptron()</pre><b>In a Jupyter environment, please rerun this cell to show the HTML representation or trust the notebook. <br />On GitHub, the HTML representation is unable to render, please try loading this page with nbviewer.org.</b></div><div class=\"sk-container\" hidden><div class=\"sk-item\"><div class=\"sk-estimator sk-toggleable\"><input class=\"sk-toggleable__control sk-hidden--visually\" id=\"sk-estimator-id-2\" type=\"checkbox\" checked><label for=\"sk-estimator-id-2\" class=\"sk-toggleable__label sk-toggleable__label-arrow\">Perceptron</label><div class=\"sk-toggleable__content\"><pre>Perceptron()</pre></div></div></div></div></div>"
      ],
      "text/plain": [
       "Perceptron()"
      ]
     },
     "execution_count": 14,
     "metadata": {},
     "output_type": "execute_result"
    }
   ],
   "source": [
    "from sklearn.linear_model import Perceptron as Perceptron \n",
    "\n",
    "##################\n",
    "# Your code here\n",
    "\n",
    "\n",
    "\n",
    "# Initialize the Perceptron\n",
    "perceptron = Perceptron()\n",
    "\n",
    "# Train the Perceptron\n",
    "perceptron.fit(X_train_scaled, y_train)\n",
    "\n",
    "\n",
    "\n"
   ]
  },
  {
   "cell_type": "code",
   "execution_count": 15,
   "metadata": {
    "ExecuteTime": {
     "end_time": "2023-11-16T23:51:13.196851Z",
     "start_time": "2023-11-16T23:51:13.136845Z"
    }
   },
   "outputs": [
    {
     "name": "stdout",
     "output_type": "stream",
     "text": [
      "Accuracy: 0.8115714285714286\n"
     ]
    }
   ],
   "source": [
    "from sklearn.metrics import accuracy_score\n",
    "\n",
    "##################\n",
    "# Your code here\n",
    "\n",
    "# Predicting on the test set\n",
    "y_pred = perceptron.predict(X_test_scaled)\n",
    "\n",
    "# Calculating accuracy\n",
    "accuracy = accuracy_score(y_test, y_pred)\n",
    "print(\"Accuracy:\", accuracy)\n",
    "\n"
   ]
  },
  {
   "cell_type": "markdown",
   "metadata": {
    "deletable": false,
    "editable": false,
    "tags": []
   },
   "source": [
    "<font color='red'>Enter your text here</font>"
   ]
  },
  {
   "cell_type": "markdown",
   "metadata": {},
   "source": [
    "Given the intrinsic simplicity of the perceptron model, an accuracy of roughly 81.16% for a perceptron model on the Fashion-MNIST dataset is pretty remarkable. Being a basic type of neural network, the perceptron is distinguished by its simple structure, with just one layer and no hidden layers. The simplicity of its structure naturally restricts the model's capacity to identify and comprehend intricate patterns present in the data. In light of this, reaching an accuracy of more than 80% is praiseworthy and shows that the model can reasonably discriminate between various types of fashion goods.\n",
    "\n",
    "Compared to simpler datasets like the MNIST digits, the Fashion-MNIST dataset, which consists of grayscale photos of diverse fashion items, poses a more difficult challenge. Classifying the numerous apparel items with different textures and shapes included in the Fashion-MNIST photos is intrinsically more difficult than classifying handwritten digits. As a result, the perceptron's ability to accurately classify these items in a sizable portion of situations demonstrates its efficacious feature learning skills.\n",
    "\n",
    "It's critical to place this accomplishment in perspective by contrasting its capabilities with those of more sophisticated models. In the deeper learning domain, more complex models like convolutional neural networks (CNNs) have demonstrated the capacity to attain significantly greater accuracy, especially in picture classification tasks. CNNs are especially well-suited for image data because of their ability to learn the spatial hierarchies of features. These models need more time and computer power to train since they are more complicated.\n",
    "\n",
    "Practically speaking, an accuracy of more than 80% is undoubtedly good for a simple model, but it might not be totally adequate for some real-world applications, especially in commercial contexts. For example, a higher degree of precision would be ideal in the fashion business, where precise item classification is essential to client pleasure. Items that are misclassified may cause a number of problems, such as logistical difficulties and unsatisfied customers.\n",
    "\n",
    "Lastly, the Fashion-MNIST dataset findings obtained by the perceptron can be a useful starting point for further modelling endeavours. This performance can be used as a benchmark for experimenting with more sophisticated algorithms or improvements to the perceptron model, enabling a more transparent comparison of the efficiency of other models in categorising fashion products.\n",
    "\n",
    "In short, the Fashion-MNIST dataset shows that the perceptron can be a useful tool for certain classification tasks, even though its performance is not as good as that of more sophisticated models. On the other hand, investigating more advanced models and techniques might make sense as the next phase for more difficult applications."
   ]
  },
  {
   "cell_type": "markdown",
   "metadata": {},
   "source": [
    "**4. Find an example where the classification is incorrect, and plot it. Discuss (e.g. does it kind of look like the clothing item that was predicted?)**"
   ]
  },
  {
   "cell_type": "code",
   "execution_count": 16,
   "metadata": {
    "ExecuteTime": {
     "end_time": "2023-11-17T01:25:49.073107Z",
     "start_time": "2023-11-17T01:25:48.896052Z"
    }
   },
   "outputs": [
    {
     "data": {
      "image/png": "[encoded data removed]",
      "text/plain": [
       "<Figure size 432x288 with 1 Axes>"
      ]
     },
     "metadata": {
      "needs_background": "light"
     },
     "output_type": "display_data"
    }
   ],
   "source": [
    "# Finding misclassified examples\n",
    "misclassified_indices = np.where(y_pred != y_test)[0]\n",
    "if len(misclassified_indices) > 0:\n",
    "\n",
    "    misclassified_index = misclassified_indices[0]\n",
    "    plt.imshow(np.reshape(X_test_scaled[misclassified_index], (28, 28)), cmap='gray')\n",
    "    plt.title(f\"True label: {text_labels[int(y_test[misclassified_index])]}, Predicted: {text_labels[int(y_pred[misclassified_index])]})\")\n",
    "    plt.show()\n"
   ]
  },
  {
   "cell_type": "markdown",
   "metadata": {},
   "source": [
    "The model predicted \"Coat\" in the case above, however the correct label is \"Pullover.\" This kind of misclassification is frequently seen in models that are too shallow to discern subtle differences between related categories and instead rely on basic features. In low-resolution grayscale images like as those in the Fashion-MNIST dataset, pullovers and coats might share similar textures and shapes.\n",
    "\n",
    "The item of clothing in the picture has long sleeves and a high neck, which are characteristics of both jackets and pullovers. The image's absence of colour and finer texture features make classification even more challenging. The model must mostly depend on the garment's shape and outline in a grayscale image, which can be quite comparable for jackets and pullovers.\n",
    "\n",
    "When handling complex, real-world data, simplistic models like the perceptron have limits that are highlighted by this type of misclassification. While the perceptron is capable of capturing simple patterns, its deep, layered structures may make it difficult for it to handle nuances that call for the model to learn from a more complex hierarchy of information. This is something that more sophisticated models, like as CNNs, are better at handling.\n",
    "\n",
    "The outcome is an illustration of how the simplicity of the concept causes problems. It implies that a model that can capture a more detailed feature representation would be useful for more accurate fashion item classification. This might be accomplished by designing more features that could aid in differentiating between such similar categories, or by using a more sophisticated neural network architecture."
   ]
  },
  {
   "cell_type": "markdown",
   "metadata": {},
   "source": [
    "**5. Multiclass perceptron? We learned that the Percpetron is a binary classifier. Give a brief description of how multi-class perceptron might work. Of course, use the internet, but give it to me in your own words, and use a diagram as appropriate.**"
   ]
  },
  {
   "cell_type": "markdown",
   "metadata": {},
   "source": [
    "The multiclass perceptron is an enhanced version of the standard perceptron algorithm, originally designed for binary classification problems, that has been extended to accommodate situations with multiple classes that need to be differentiated. The fundamental concept underlying a perceptron entails the construction of a decision boundary, which can be represented as a line or hyperplane, with the purpose of distinguishing between two distinct classes. In the setting of numerous classes, the concept is further developed by establishing various boundaries, each designed to distinguish a specific class from all others.\n",
    "\n",
    "In practical applications, it is common to employ N perceptrons to address an issue involving N distinct classes. Each participant undergoes training to develop the ability to identify a certain class, so effectively approaching the problem as N distinct binary classification tasks. As an illustration, in the case of three classes, the initial perceptron would acquire the ability to distinguish the first class from the second and third classes, while the second perceptron would be responsible for distinguishing the second class, and so on. During the training phase, the perceptron associated with the accurate class for a specific data point is modified in order to accurately categorise that point, whereas the remaining perceptrons are updated to classify it as a negative instance.\n",
    "\n",
    "In the context of classifying new instances, each perceptron that has undergone training offers a score that signifies its level of confidence in assigning the example to its respective class. The ultimate determination regarding the class of the given example is generally reached by selecting the class associated with the perceptron that yields the highest confidence score. This approach enables the straightforward, sequential decision-making procedure of a perceptron to be expanded for tackling intricate, multiclass scenarios.\n",
    "\n",
    "Nevertheless, this methodology may provide additional complexities, such as the predicament of resolving situations where several perceptrons concur and produce affirmative outcomes for their corresponding categories, or the quandary of managing situations with equal scores. Resolving these concerns frequently entails the deployment of a discernment system to identify the most assured perceptron or employing a vote mechanism among the perceptrons to determine the final result. Notwithstanding the intricacies involved, the multiclass perceptron continues to be a valuable instrument in the field of machine learning when confronted with datasets that exhibit multiple classes. It offers a means to expand the uncomplicated and computationally efficient binary classification procedure of the perceptron to encompass a wider array of applications."
   ]
  },
  {
   "cell_type": "markdown",
   "metadata": {
    "deletable": false,
    "editable": false,
    "tags": []
   },
   "source": [
    "The accuracy is not too bad for a simple linear classifier. However, as with all of these types of problems, most of the effort will go into gaining small, but important imporvements. Let's see if we can make it better."
   ]
  },
  {
   "cell_type": "markdown",
   "metadata": {
    "deletable": false,
    "editable": false,
    "tags": []
   },
   "source": [
    "## Task 2: Train a multi-layer Perceptron with one hidden layer (of width 20)\n",
    "\n",
    "Let's try going wide first\n",
    "\n",
    "* Set the regularizing parameter to 0.1 (alpha = 0.1). We have looked at regularisation before in the context of machine learning algorithms. It is important, but we won't investigate it further here. We'll leave this fixed.\n",
    "* Set verbose = 1, so we can look at what is happenign on each epoch (iteration)\n",
    "* Set random_state=1 (or some constant), so the test is repeatible\n",
    "* For the moment, set hidden_layer_sizes to (20,). \n",
    "\n",
    "This tuple then sets the number of hidden layers. The number of values in the tuple is the number of layers, and the number of each value is the number of nodes in that layer. So a tuple of (50,30,10) would be one layer with 50 nodes, connect to a second hidden layer with 30 nodes and a final hidden layer with 10 nodes). But for the moment, just go for one hidden layer with 20 nodes.\n",
    "\n",
    "Also print the __training and accuracy score__ of our current network (remember the `accuracy_score` function from `sklearn.metrics`?). The score on the test dataset should not be too bad at this point. That's quite impressive for a first stab at a neural network. Let's see if we can do better, though!"
   ]
  },
  {
   "cell_type": "markdown",
   "metadata": {
    "deletable": false,
    "editable": false,
    "tags": []
   },
   "source": [
    "<span style=\"color:red\">Insert your code below</span>."
   ]
  },
  {
   "cell_type": "code",
   "execution_count": 17,
   "metadata": {
    "ExecuteTime": {
     "end_time": "2023-11-19T23:44:46.634338Z",
     "start_time": "2023-11-19T23:43:27.778377Z"
    },
    "colab": {
     "base_uri": "https://localhost:8080/"
    },
    "id": "w8qHytso3HJ5",
    "outputId": "3bee03bd-3596-4acd-9863-45134b5c23ad",
    "scrolled": false
   },
   "outputs": [
    {
     "name": "stdout",
     "output_type": "stream",
     "text": [
      "Iteration 1, loss = 0.63982681\n",
      "Iteration 2, loss = 0.43309333\n",
      "Iteration 3, loss = 0.39753066\n",
      "Iteration 4, loss = 0.37727725\n",
      "Iteration 5, loss = 0.36473861\n",
      "Iteration 6, loss = 0.35406314\n",
      "Iteration 7, loss = 0.34652351\n",
      "Iteration 8, loss = 0.34180317\n",
      "Iteration 9, loss = 0.33441681\n",
      "Iteration 10, loss = 0.33036474\n",
      "Iteration 11, loss = 0.32661593\n",
      "Iteration 12, loss = 0.32187934\n",
      "Iteration 13, loss = 0.31980492\n",
      "Iteration 14, loss = 0.31658098\n",
      "Iteration 15, loss = 0.31249897\n",
      "Iteration 16, loss = 0.31143816\n",
      "Iteration 17, loss = 0.30885581\n",
      "Iteration 18, loss = 0.30687183\n",
      "Iteration 19, loss = 0.30333655\n",
      "Iteration 20, loss = 0.30351777\n",
      "Iteration 21, loss = 0.30051948\n",
      "Iteration 22, loss = 0.29833242\n",
      "Iteration 23, loss = 0.29844625\n",
      "Iteration 24, loss = 0.29638867\n",
      "Iteration 25, loss = 0.29463795\n",
      "Iteration 26, loss = 0.29338758\n",
      "Iteration 27, loss = 0.29279986\n",
      "Iteration 28, loss = 0.29166540\n",
      "Iteration 29, loss = 0.29030085\n",
      "Iteration 30, loss = 0.28960588\n",
      "Iteration 31, loss = 0.28718995\n",
      "Iteration 32, loss = 0.28703826\n",
      "Iteration 33, loss = 0.28677977\n",
      "Iteration 34, loss = 0.28623041\n",
      "Iteration 35, loss = 0.28510713\n",
      "Iteration 36, loss = 0.28256238\n",
      "Iteration 37, loss = 0.28295484\n",
      "Iteration 38, loss = 0.28280639\n",
      "Iteration 39, loss = 0.28004400\n",
      "Iteration 40, loss = 0.28116436\n",
      "Iteration 41, loss = 0.28037848\n",
      "Iteration 42, loss = 0.27941299\n",
      "Iteration 43, loss = 0.27852275\n",
      "Iteration 44, loss = 0.27803483\n",
      "Iteration 45, loss = 0.27787514\n",
      "Iteration 46, loss = 0.27836380\n",
      "Iteration 47, loss = 0.27694203\n",
      "Iteration 48, loss = 0.27486846\n",
      "Iteration 49, loss = 0.27714710\n",
      "Iteration 50, loss = 0.27410591\n",
      "Iteration 51, loss = 0.27481560\n",
      "Iteration 52, loss = 0.27343783\n",
      "Iteration 53, loss = 0.27296930\n",
      "Iteration 54, loss = 0.27486610\n",
      "Iteration 55, loss = 0.27330188\n",
      "Iteration 56, loss = 0.27366906\n",
      "Iteration 57, loss = 0.27162210\n",
      "Iteration 58, loss = 0.27148070\n",
      "Iteration 59, loss = 0.27078648\n",
      "Iteration 60, loss = 0.26955839\n",
      "Iteration 61, loss = 0.27037237\n",
      "Iteration 62, loss = 0.26929967\n",
      "Iteration 63, loss = 0.26934755\n",
      "Iteration 64, loss = 0.26774214\n",
      "Iteration 65, loss = 0.26743493\n",
      "Iteration 66, loss = 0.26884269\n",
      "Iteration 67, loss = 0.26893203\n",
      "Iteration 68, loss = 0.26709094\n",
      "Iteration 69, loss = 0.26765314\n",
      "Iteration 70, loss = 0.26509577\n",
      "Iteration 71, loss = 0.26713401\n",
      "Iteration 72, loss = 0.26749546\n",
      "Iteration 73, loss = 0.26779844\n",
      "Iteration 74, loss = 0.26535156\n",
      "Iteration 75, loss = 0.26628888\n",
      "Iteration 76, loss = 0.26655342\n",
      "Iteration 77, loss = 0.26665470\n",
      "Iteration 78, loss = 0.26465656\n",
      "Iteration 79, loss = 0.26503433\n",
      "Iteration 80, loss = 0.26760310\n",
      "Iteration 81, loss = 0.26339757\n",
      "Iteration 82, loss = 0.26382247\n",
      "Iteration 83, loss = 0.26212454\n",
      "Iteration 84, loss = 0.26625570\n",
      "Iteration 85, loss = 0.26267599\n",
      "Iteration 86, loss = 0.26236563\n",
      "Iteration 87, loss = 0.26367714\n",
      "Iteration 88, loss = 0.26279815\n",
      "Iteration 89, loss = 0.26423591\n",
      "Iteration 90, loss = 0.26359547\n",
      "Iteration 91, loss = 0.26283353\n",
      "Iteration 92, loss = 0.26346551\n",
      "Iteration 93, loss = 0.26199944\n",
      "Iteration 94, loss = 0.26266719\n",
      "Iteration 95, loss = 0.26243927\n",
      "Iteration 96, loss = 0.26081529\n",
      "Iteration 97, loss = 0.26089434\n",
      "Iteration 98, loss = 0.26108858\n",
      "Iteration 99, loss = 0.26033869\n",
      "Iteration 100, loss = 0.26403413\n",
      "Iteration 101, loss = 0.26407658\n",
      "Iteration 102, loss = 0.25995017\n",
      "Iteration 103, loss = 0.26263929\n",
      "Iteration 104, loss = 0.26083083\n",
      "Iteration 105, loss = 0.26075253\n",
      "Iteration 106, loss = 0.25929075\n",
      "Iteration 107, loss = 0.25923463\n",
      "Iteration 108, loss = 0.26113324\n",
      "Iteration 109, loss = 0.26158991\n",
      "Iteration 110, loss = 0.25913311\n",
      "Iteration 111, loss = 0.25934970\n",
      "Iteration 112, loss = 0.26087802\n",
      "Iteration 113, loss = 0.26109181\n",
      "Iteration 114, loss = 0.26083090\n",
      "Iteration 115, loss = 0.25917582\n",
      "Iteration 116, loss = 0.25915118\n",
      "Iteration 117, loss = 0.25756556\n",
      "Iteration 118, loss = 0.25800711\n",
      "Iteration 119, loss = 0.25778120\n",
      "Iteration 120, loss = 0.25974386\n",
      "Iteration 121, loss = 0.25721523\n",
      "Iteration 122, loss = 0.25877396\n",
      "Iteration 123, loss = 0.25816681\n",
      "Iteration 124, loss = 0.25794758\n",
      "Iteration 125, loss = 0.25826655\n",
      "Iteration 126, loss = 0.25864911\n",
      "Iteration 127, loss = 0.25660488\n",
      "Iteration 128, loss = 0.25772769\n",
      "Iteration 129, loss = 0.25646366\n",
      "Iteration 130, loss = 0.25653207\n",
      "Iteration 131, loss = 0.26005934\n",
      "Iteration 132, loss = 0.25796368\n",
      "Iteration 133, loss = 0.25508773\n",
      "Iteration 134, loss = 0.25720293\n",
      "Iteration 135, loss = 0.25954976\n",
      "Iteration 136, loss = 0.25659968\n",
      "Iteration 137, loss = 0.25714145\n",
      "Iteration 138, loss = 0.25665158\n",
      "Iteration 139, loss = 0.25571506\n",
      "Iteration 140, loss = 0.25594905\n",
      "Iteration 141, loss = 0.25725157\n",
      "Iteration 142, loss = 0.25649826\n",
      "Iteration 143, loss = 0.25753584\n",
      "Iteration 144, loss = 0.25796349\n",
      "Training loss did not improve more than tol=0.000100 for 10 consecutive epochs. Stopping.\n",
      "Training accuracy: 0.9264107142857143\n",
      "Test accuracy: 0.8697857142857143\n"
     ]
    }
   ],
   "source": [
    "from sklearn.neural_network import MLPClassifier\n",
    "\n",
    "#######################\n",
    "# Your code here\n",
    "\n",
    "\n",
    "from sklearn.metrics import accuracy_score\n",
    "\n",
    "\n",
    "mlp_class = MLPClassifier(hidden_layer_sizes=(20,), alpha=0.1, verbose=1, random_state=1)\n",
    "\n",
    "# Training the neural network\n",
    "mlp_class.fit(X_train_scaled, y_train)\n",
    "\n",
    "# Predictions for train data set\n",
    "y_train_predict = mlp_class.predict(X_train_scaled)\n",
    "\n",
    "# Predictions for the test data set\n",
    "y_test_predict = mlp_class.predict(X_test_scaled)\n",
    "\n",
    "# accuracy on the training set\n",
    "train__accuracy = accuracy_score(y_train, y_train_predict)\n",
    "print(\"Training accuracy:\", train__accuracy)\n",
    "\n",
    "#  accuracy on the test set\n",
    "test__accuracy = accuracy_score(y_test, y_test_predict)\n",
    "print(\"Test accuracy:\", test__accuracy)\n"
   ]
  },
  {
   "cell_type": "code",
   "execution_count": 18,
   "metadata": {
    "ExecuteTime": {
     "end_time": "2023-11-19T23:45:30.023693Z",
     "start_time": "2023-11-19T23:45:30.012690Z"
    }
   },
   "outputs": [
    {
     "name": "stdout",
     "output_type": "stream",
     "text": [
      "Test accuracy: 0.8697857142857143\n"
     ]
    }
   ],
   "source": [
    "from sklearn.metrics import accuracy_score\n",
    "\n",
    "#######################\n",
    "# Your accuracy score code here\n",
    "print(\"Test accuracy:\", test__accuracy)\n",
    "\n"
   ]
  },
  {
   "cell_type": "markdown",
   "metadata": {
    "deletable": false,
    "editable": false,
    "tags": []
   },
   "source": [
    "#### Questions: (answer here)\n",
    "\n",
    "1. What is the size of the input layer here? Explain\n",
    "2. What is the size of the output layer here? Explain\n",
    "3. How many weights in total does the algorithm learn?\n",
    "4. What does it mean that the training accuracy and the test accuracy are different?"
   ]
  },
  {
   "cell_type": "markdown",
   "metadata": {
    "deletable": false,
    "editable": false,
    "tags": []
   },
   "source": [
    "<font color='red'>Enter your text here</font>"
   ]
  },
  {
   "cell_type": "markdown",
   "metadata": {},
   "source": [
    "**1. Size of the Input Layer:**\n",
    "\n",
    "In a neural network, the number of features in the dataset that is being used for training determines the size of the input layer. For the Fashion-MNIST dataset, there are 784 features because each image has 28 by 28 pixels (every pixel is a feature). Consequently, this neural network's input layer contains 784 neurons.\n",
    "\n",
    "**2. Size of the Output Layer:**\n",
    "\n",
    " The quantity of classes that require prediction dictates the dimensions of the output layer. There are ten distinct classes (each representing a kind of apparel) for the Fashion-MNIST dataset. As a result, the neural network's output layer contains ten neurons, each of which represents a class.\n",
    "\n",
    "**3. Total Weights learned by the Algorithm:**\n",
    "\n",
    "The sum of all the weights in each layer determines the total number of weights in the neural network. There are 784 neurons in the input layer, 20 neurons in the hidden layer, and 10 neurons in the output layer of the network that is described. The following are the weights:\n",
    "    There are 15,680 weights total between the input and hidden layers (784 input neurons * 20 hidden neurons).\n",
    "    Twenty hidden neurons * ten output neurons = 200 weights are the weights between the hidden and output layers.\n",
    "    In addition, every neuron in the output and hidden layers has a bias term. Consequently, the output layer has 10 biases         while the hidden layer has 20 biases.\n",
    "    Thus, 15 680 + 200 + 20 + 10 = 15 910 is the total amount of weights and biases.\n",
    "\n",
    "**4. Different Training and Test Accuracies:**\n",
    "\n",
    "The neural network's ability to generalise to new, untested input is indicated by the difference between the training and test accuracy. In this instance, the test accuracy is lower than the training accuracy. The model may be overfitted if it performs exceptionally well on training data but poorly on test data. A model's capacity to perform well on fresh data is compromised by overfitting, which happens when a model learns the training data—including its noise and any outliers—too closely. Although there isn't much of a difference in this instance, it's standard procedure to look for methods to get closer, including gathering more training data, simplifying the model, or using regularisation techniques."
   ]
  },
  {
   "cell_type": "markdown",
   "metadata": {
    "deletable": false,
    "editable": false,
    "tags": []
   },
   "source": [
    "#### Wider, wider, wider\n",
    "\n",
    "Let's go wider. We have quite a lot of input features, and somehow it might seem that if we immediately connect this to a layer with only 20 neurons that something might be lost?\n",
    "\n",
    "Let's see if more features help!\n",
    "\n",
    "Iterate over a wider number of neurons, and plot the train accuracy and test accuracy as a graph. For example, iterate over a set of widths of `(20, 50, 100, 200)`, or something similar.\n",
    "\n",
    "Same as before, set `alpha=0.001` and set `random_state` to some constant (e.g. `random_state=42`)"
   ]
  },
  {
   "cell_type": "markdown",
   "metadata": {
    "deletable": false,
    "editable": false,
    "tags": []
   },
   "source": [
    "<font color='red'>Enter your code here</font>"
   ]
  },
  {
   "cell_type": "code",
   "execution_count": 22,
   "metadata": {
    "ExecuteTime": {
     "end_time": "2023-11-20T00:24:35.702515Z",
     "start_time": "2023-11-20T00:16:01.013535Z"
    },
    "colab": {
     "base_uri": "https://localhost:8080/"
    },
    "id": "oNSoWZ8m4W3l",
    "outputId": "cc952871-ae0f-48fa-b9b6-fa0f5d42be7e",
    "scrolled": true,
    "tags": []
   },
   "outputs": [
    {
     "name": "stderr",
     "output_type": "stream",
     "text": [
      "C:\\Users\\Ananya\\anaconda3\\lib\\site-packages\\sklearn\\neural_network\\_multilayer_perceptron.py:691: ConvergenceWarning: Stochastic Optimizer: Maximum iterations (200) reached and the optimization hasn't converged yet.\n",
      "  warnings.warn(\n"
     ]
    }
   ],
   "source": [
    "\n",
    "\n",
    "########################\n",
    "# Your classifier training code here\n",
    "\n",
    "from sklearn.neural_network import MLPClassifier\n",
    "from sklearn.metrics import accuracy_score\n",
    "import matplotlib.pyplot as plt\n",
    "\n",
    "# different widths for the hidden layer\n",
    "hidden_sizes = [20, 50, 100, 200]\n",
    "\n",
    "train_accuracies = []\n",
    "test_accuracies = []\n",
    "\n",
    "# Iterating over the different sizes of the hidden layer\n",
    "for size in hidden_sizes:\n",
    "    # Initializing MLPClassifier\n",
    "    mlp_ = MLPClassifier(hidden_layer_sizes=(size,), alpha=0.001, random_state=42)\n",
    "    \n",
    "    # Fit the model to the training data\n",
    "    mlp_.fit(X_train_scaled, y_train)\n",
    "    \n",
    "    # Predict and calculate accuracy on the training set\n",
    "    y_train_predict = mlp_.predict(X_train_scaled)\n",
    "    train_accuracy = accuracy_score(y_train, y_train_predict)\n",
    "    train_accuracies.append(train_accuracy)\n",
    "    \n",
    "    # Predict and calculate accuracy on the test set\n",
    "    y_test_predict = mlp_.predict(X_test_scaled)\n",
    "    test_accuracy = accuracy_score(y_test, y_test_predict)\n",
    "    test_accuracies.append(test_accuracy)\n",
    "\n"
   ]
  },
  {
   "cell_type": "code",
   "execution_count": 23,
   "metadata": {
    "ExecuteTime": {
     "end_time": "2023-11-20T00:24:36.423697Z",
     "start_time": "2023-11-20T00:24:36.234647Z"
    },
    "colab": {
     "base_uri": "https://localhost:8080/",
     "height": 350
    },
    "id": "PDQf9VeW9SAK",
    "outputId": "78b447c1-f6e4-4edd-c37e-51a002a66115"
   },
   "outputs": [
    {
     "data": {
      "image/png": "[encoded data removed]",
      "text/plain": [
       "<Figure size 720x360 with 1 Axes>"
      ]
     },
     "metadata": {
      "needs_background": "light"
     },
     "output_type": "display_data"
    }
   ],
   "source": [
    "import matplotlib.pyplot as plt\n",
    "\n",
    "########################\n",
    "# Your plot of training and test accuracy here\n",
    "\n",
    "# plot the results\n",
    "plt.figure(figsize=(10, 5))\n",
    "plt.plot(hidden_sizes, train_accuracies, label='Training Accuracy')\n",
    "plt.plot(hidden_sizes, test_accuracies, label='Test Accuracy')\n",
    "plt.xlabel('Size of Hidden Layer')\n",
    "plt.ylabel('Accuracy')\n",
    "plt.title('Training and Test Accuracies for Different Hidden Layer Sizes')\n",
    "plt.legend()\n",
    "plt.show()\n"
   ]
  },
  {
   "cell_type": "markdown",
   "metadata": {
    "deletable": false,
    "editable": false,
    "tags": []
   },
   "source": [
    "Questions:\n",
    "\n",
    "1. When you trained for all the different widths, did you notice anything about how long each training took? Discuss this.\n",
    "\n",
    "2. What can you infer from the graph?\n",
    "\n",
    "For the second question, think about the following:\n",
    "* For the number of neurons you have tested, what is the best? (Highest performance -vs- lowest number of neurons)\n",
    "* How many weights are learned by the algorithm for our optimal solution?\n",
    "* Is there any evidence of overfitting occuring? Discuss this. What could we do to reduce this, if it is evident? (No need to implement anything to address tyhe overfitting, just comment)\n",
    "(Hint: a large divergence between training accuracy and testing accuracy can indicate over-fitting).\n",
    "\n",
    "<font color='red'>Enter your text here</font>"
   ]
  },
  {
   "cell_type": "markdown",
   "metadata": {},
   "source": [
    "**1. Training Time for Different Widths:**\n",
    "\n",
    "Each model's training duration typically grows as the breadth of the hidden layer (i.e., the number of neurons) increases. This is so that the algorithm may learn additional parameters (weights and biases) when there are more neurons. Because every neuron in a layer is connected to every other neuron in the layer before it, as the number of neurons increases, so does the number of connections (and hence, weights).\n",
    "Because there are fewer parameters to alter, training is comparatively quick for smaller widths, such as 20 neurons. Longer training times are caused by the model's increased complexity when the breadth grows to 50, 100, and notably 200 neurons.\n",
    "The longer training period is caused by the increased number of weights as well as the larger, more complicated space that must be navigated by the optimisation method (usually gradient descent or a variant) in order to discover the ideal weights.\n",
    "\n",
    "**2. Inference based on the graph:**\n",
    "\n",
    "Optimal Neuron Count: The graph indicates that, for any given number of neurons, training accuracy is almost flawless, but test accuracy eventually reaches a plateau and does not exhibit any discernible improvement. In these situations, the configuration with the fewest number of neurons and high test accuracy is considered to be the \"optimal\" one. Based on the graph, it seems that test accuracy does not dramatically increase beyond the smallest tested size of 20 neurons, indicating that we have already achieved a good trade-off between complexity and performance at the smallest size.\n",
    "\n",
    "Number of Weights in Optimal Solution: Considering that each image in the dataset is 28x28 pixels (784 input features), and that there are 10 output classes, we may conclude that the optimal number of neurons is 20, as shown by the plateau in test accuracy. Consequently, the total number of weights would be as follows:\n",
    "\n",
    "(784 × 20) + (20 × 10 ) = 15, 680 + 200 = 15, 880 (784 × 20) + (20 × 10) = 15,680 + 200 = 15,880\n",
    "In addition, each neuron in the hidden layer and output layer has bias terms that add 20 and 10, respectively. This results in a total of:\n",
    "\n",
    "Weights and biases in 15, 880 + 20 + 10 = 15, 910 weights and biases.\n",
    "\n",
    "Evidence of Overfitting: A classic indicator of overfitting is the graph's significant divergence between the training and test accuracies. The model shows that it has probably memorised the training data instead of learning the underlying patterns that generalise to unseen data because it is almost flawless on the training set but significantly less accurate on the test set.\n",
    "\n",
    "To reduce overfitting, a number of tactics could be used:\n",
    "\n",
    "Regularisation: Raising the alpha parameter, or regularisation strength, may assist keep the model from fitting the training set too closely.\n",
    "\n",
    "Data augmentation: The model may pick up more resilient traits if the training set is purposefully expanded by adding altered copies of the training images (such as minor shifts, rotations, or zooms).\n",
    "\n",
    "Dropout: By randomly setting a portion of the input units to 0 at each training update, dropout helps simulate having a wide variety of distinct network topologies and can also help prevent overfitting in networks.\n",
    "\n",
    "Early Stopping: In this scenario, the training procedure is terminated before the model has an opportunity to become overfit. The graph appears to indicate that since test accuracy gains plateau after a given number of epochs, training could end considerably sooner.\n",
    "\n",
    "Simplifying the Model: By making it easier for the model to learn the data, fewer neurons or layers in the network can also lessen overfitting.\n",
    "In conclusion, the model that performs best when applied to new data tends to be more effective than the one with the greatest number of neurons. A more basic model would probably be adequate for this task, as the graph indicates that increasing the model's complexity does not improve performance on unknown data."
   ]
  },
  {
   "cell_type": "markdown",
   "metadata": {
    "deletable": false,
    "editable": false,
    "tags": []
   },
   "source": [
    "## Task 3: The deeper the better!\n",
    "\n",
    "Previously, we only had a single hidden layer, and we went as wide as a couple of hundred neurons. That is a lot of neurons and a lot of computation. Can we do better with fewer neurons by going deeper and using more layers? Now we're going to start playing with different configurations.\n",
    "\n",
    "Rerun the above loop, but let's use a set of deeper networks. These are going to be simply designed. I suggest to use something like:\n",
    "`layers = ((20,20),(20,20,20),(50,20),(100,100,50))`\n",
    "\n",
    "Plot the train and test accuracy as a graph.\n",
    "\n",
    "Same as before, set `alpha=0.001` and set `random_state` to some constant (e.g. `random_state=42`)\n",
    "\n",
    "**Note**: you might be feeling at this point that picking the neural network architecture is kind of random. At the moment, it is, to be honest. How many neurons per layer should I use? How many layers? And then I have to pick the training parameters on top of this?? These are all called hyperparameters of the network, and there is a lot of skill to develop to develop to be able to design networks efficiently and pick the right training parameters."
   ]
  },
  {
   "cell_type": "markdown",
   "metadata": {
    "deletable": false,
    "editable": false,
    "tags": []
   },
   "source": [
    "<font color='red'>Enter your code here</font>"
   ]
  },
  {
   "cell_type": "code",
   "execution_count": 26,
   "metadata": {
    "ExecuteTime": {
     "end_time": "2023-11-20T01:21:16.405152Z",
     "start_time": "2023-11-20T01:12:19.850152Z"
    },
    "colab": {
     "base_uri": "https://localhost:8080/"
    },
    "id": "qCBMWj2-44dT",
    "outputId": "c48a57a9-abd0-4e50-b13e-16eb04bb77d8",
    "scrolled": true,
    "tags": []
   },
   "outputs": [],
   "source": [
    "########################\n",
    "# Your classifier training code here\n",
    "\n",
    "import warnings\n",
    "warnings.filterwarnings(\"ignore\")\n",
    "\n",
    "from sklearn.neural_network import MLPClassifier\n",
    "from sklearn.metrics import accuracy_score\n",
    "import matplotlib.pyplot as plt\n",
    "\n",
    "\n",
    "layer = [(20, 20), (20, 20, 20), (50, 20), (100, 100, 50)]\n",
    "\n",
    "\n",
    "train_acc = []\n",
    "test_acc = []\n",
    "\n",
    "\n",
    "for config in layer:\n",
    "    \n",
    "    mlp = MLPClassifier(hidden_layer_sizes=config, alpha=0.001, random_state=42)\n",
    "    \n",
    "    \n",
    "    mlp.fit(X_train_scaled, y_train)\n",
    "    \n",
    "    # Predicting and calculating accuracy on the training set\n",
    "    y_train_predict = mlp.predict(X_train_scaled)\n",
    "    train_accuracy = accuracy_score(y_train, y_train_predict)\n",
    "    train_acc.append(train_accuracy)\n",
    "    \n",
    "    # Predicting and calculating accuracy on the test set\n",
    "    y_test_predict = mlp.predict(X_test_scaled)\n",
    "    test_accuracy = accuracy_score(y_test, y_test_predict)\n",
    "    test_acc.append(test_accuracy)\n",
    "\n",
    "\n"
   ]
  },
  {
   "cell_type": "code",
   "execution_count": 27,
   "metadata": {
    "ExecuteTime": {
     "end_time": "2023-11-20T01:21:16.764185Z",
     "start_time": "2023-11-20T01:21:16.564319Z"
    },
    "colab": {
     "base_uri": "https://localhost:8080/",
     "height": 350
    },
    "id": "7yfBaYHk39AI",
    "outputId": "33569691-a7ee-4fa3-85ca-37b1b1989021"
   },
   "outputs": [
    {
     "data": {
      "image/png": "[encoded data removed]",
      "text/plain": [
       "<Figure size 720x360 with 1 Axes>"
      ]
     },
     "metadata": {
      "needs_background": "light"
     },
     "output_type": "display_data"
    }
   ],
   "source": [
    "import matplotlib.pyplot as plt\n",
    "\n",
    "########################\n",
    "# Your visualisation code here\n",
    "\n",
    "plt.figure(figsize=(10, 5))\n",
    "plt.plot([str(config) for config in layer], train_acc, label='Training Accuracy')\n",
    "plt.plot([str(config) for config in layer], test_acc, label='Test Accuracy')\n",
    "plt.xlabel('Configuration of Hidden Layers')\n",
    "plt.ylabel('Accuracy')\n",
    "plt.title('Training and Test Accuracies for Different Network Configurations')\n",
    "plt.legend()\n",
    "plt.show()\n"
   ]
  },
  {
   "cell_type": "markdown",
   "metadata": {
    "deletable": false,
    "editable": false,
    "tags": []
   },
   "source": [
    "#### Questions\n",
    "\n",
    "What can you infer from the graph? (answer in the text box here).\n",
    "\n",
    "Think about the following:\n",
    "* Do I have a deeper network that has fewer neurons but is doing better than my very wide network?\n",
    "* How many weights did I need to train?\n",
    "\n",
    "<font color='red'>Enter your text here</font>"
   ]
  },
  {
   "cell_type": "markdown",
   "metadata": {},
   "source": [
    "**Performance of Deeper Networks vs. Wider Networks:**\n",
    "\n",
    "The graph indicates that even with fewer total neurons, deeper networks can get test accuracy that is on par with or better than larger networks. In the preceding graph, the single layer of 50 or even 100 neurons seemed to perform worse than the setup with two hidden layers of 20 neurons each. This suggests that, as opposed to just adding breadth, boosting depth to the network can improve its ability to capture the intricacy of the input more effectively.\n",
    "The quantity of weights in various configurations:\n",
    "\n",
    "It add up the weights between each layer to determine the total amount of weights for any network setup. Taking the first setup (20, 20) as an example:\n",
    "\n",
    "There are 15,680 weights separating the input layer (784 neurons) and the first hidden layer (20 neurons): 784 * 20.\n",
    "\n",
    "20 * 20 = 400 weights separate the 20 neurons in the first hidden layer from the 20 neurons in the second hidden layer.\n",
    "\n",
    "20 * 10 = 200 weights separate the output layer (10 neurons) from the second hidden layer (20 neurons).\n",
    "\n",
    "Including biases in the output layer and the two hidden layers for every neuron: Biases: 20 + 20 + 10 = 50\n",
    "\n",
    "Total for the configuration of (20, 20): Weights and biases: 15,680 + 400 + 200 + 50 = 16,330.\n",
    "\n",
    "For the (100, 100, 50) arrangement:\n",
    "\n",
    "First hidden layer input: 78,400 weights (784 * 100).\n",
    "\n",
    "First to second hidden layer: 10,000 weights (100 * 100).\n",
    "\n",
    "Weights in the second to third buried layer are 100 * 50 = 5,000.\n",
    "\n",
    "Output of the third hidden layer is 50 * 10 = 500 weights.\n",
    "\n",
    "Biases: 260 biases total (100 + 100 + 50 + 10).\n",
    "\n",
    "Weights and biases total for the (100, 100, 50) arrangement are 78,400 + 10,000 + 5,000 + 500 + 260 = 94,160.\n",
    "\n",
    "These calculations demonstrate that, compared to the very wide network from the previous example, which contained a single layer of 200 neurons, even the deepest network examined ((100, 100, 50)) requires less weights—roughly 158,000 weights, assuming biases are not taken into account.\n",
    "\n",
    "\n",
    "**Training Weights Efficiency:**\n",
    "\n",
    "It can be seen from the graph, deepening the network generally results in much higher training accuracy and, to a lesser extent, sometimes even higher test accuracy. This implies that deeper networks—possibly with fewer weights—are more effective at learning the training set. The training and test accuracies, however, clearly differ, suggesting the danger of overfitting, especially in the deeper networks.\n",
    "In conclusion, the graph shows that even with a reduced total number of neurons and weights, deeper networks can function well—sometimes even better than larger, shallower networks. This illustrates how deeper networks may learn more intricate features and hierarchies from data, however managing overfitting as network depth rises requires caution.\n"
   ]
  },
  {
   "cell_type": "markdown",
   "metadata": {
    "deletable": false,
    "editable": false,
    "tags": []
   },
   "source": [
    "## Task 4: Confusion matrix\n",
    "\n",
    "A [confusion matrix](https://scikit-learn.org/stable/modules/generated/sklearn.metrics.plot_confusion_matrix.html#sklearn.metrics.plot_confusion_matrix) is a powerful way to visualise errors in your trained network. Plot a confusion matrix for your best model above (of course, plot using the test data).\n",
    "\n",
    "Describe what you see in the confusion matrix.\n",
    "\n",
    "<font color='red'>Enter your code here</font>"
   ]
  },
  {
   "cell_type": "code",
   "execution_count": 28,
   "metadata": {
    "ExecuteTime": {
     "end_time": "2023-11-20T01:35:02.372804Z",
     "start_time": "2023-11-20T01:35:01.106460Z"
    },
    "colab": {
     "base_uri": "https://localhost:8080/",
     "height": 279
    },
    "id": "ckK_cEOVO1lZ",
    "outputId": "ef814726-6ea8-4821-e047-742d85c172cb"
   },
   "outputs": [
    {
     "data": {
      "image/png": "[encoded data removed]",
      "text/plain": [
       "<Figure size 720x576 with 2 Axes>"
      ]
     },
     "metadata": {
      "needs_background": "light"
     },
     "output_type": "display_data"
    }
   ],
   "source": [
    "########################\n",
    "# Your code here\n",
    "from sklearn.metrics import confusion_matrix\n",
    "import seaborn as sns\n",
    "import matplotlib.pyplot as plt\n",
    "from sklearn.neural_network import MLPClassifier\n",
    "\n",
    "conf_matrix = confusion_matrix(y_test, y_test_predict)\n",
    "# confusion matrix\n",
    "plt.figure(figsize=(10, 8))\n",
    "sns.heatmap(conf_matrix, annot=True, fmt='g', cmap='Blues', xticklabels=text_labels, yticklabels=text_labels)\n",
    "plt.xlabel('Predicted labels')\n",
    "plt.ylabel('True labels')\n",
    "plt.title('Confusion Matrix for the Best Model')\n",
    "plt.show()\n"
   ]
  },
  {
   "cell_type": "markdown",
   "metadata": {
    "id": "Kcb3ollCQDTG"
   },
   "source": [
    "<font color='red'>Enter your text here</font>"
   ]
  },
  {
   "cell_type": "markdown",
   "metadata": {},
   "source": [
    "The performance of a classification model on the test set is displayed in the given confusion matrix. We can infer the following:\n",
    "\n",
    "Diagonal Dominance: Correct classifications are shown by high values along the diagonal that runs from top left to bottom right, when the predicted labels coincide with the true labels. This dominance implies that the model is operating at a generally high level.\n",
    "\n",
    "Misclassifications: A few off-diagonal elements have comparatively high values, which suggests that they have been misclassified. Among the misclassified items, \"Shirt\" appears to be the most common, possibly due to major misunderstanding with \"T-shirt/top,\" \"Pullover,\" and \"Coat.\" This can be because these clothes items have comparable looks.\n",
    "\n",
    "Extremely Accurate Predictions: The model appears to be especially adept at identifying certain classes, such as \"Trouser\" and \"Sandal,\" as evidenced by the extremely high percentage of correctly predicted items and low percentage of misclassifications.\n",
    "\n",
    "Misclassifications that are symmetric: Misclassifications that are symmetric include the misclassification of \"Coat\" as \"Pullover\" and vice versa. This suggests that the model is unclear because these classes share certain common traits.\n",
    "\n",
    "Least Misclassified: \"Bag\" and \"Ankle boot\" have high true positive rates and a low percentage of cases that are mistaken for other classes, making them among the least misclassified."
   ]
  },
  {
   "cell_type": "code",
   "execution_count": null,
   "metadata": {},
   "outputs": [],
   "source": []
  }
 ],
 "metadata": {
  "colab": {
   "collapsed_sections": [],
   "name": "E-tivity7_ExampleSolution.ipynb",
   "provenance": [],
   "toc_visible": true
  },
  "kernelspec": {
   "display_name": "Python 3",
   "language": "python",
   "name": "python3"
  },
  "language_info": {
   "codemirror_mode": {
    "name": "ipython",
    "version": 3
   },
   "file_extension": ".py",
   "mimetype": "text/x-python",
   "name": "python",
   "nbconvert_exporter": "python",
   "pygments_lexer": "ipython3",
   "version": "3.8.5"
  },
  "toc": {
   "base_numbering": 1,
   "nav_menu": {},
   "number_sections": true,
   "sideBar": true,
   "skip_h1_title": false,
   "title_cell": "Table of Contents",
   "title_sidebar": "Contents",
   "toc_cell": false,
   "toc_position": {},
   "toc_section_display": true,
   "toc_window_display": false
  },
  "varInspector": {
   "cols": {
    "lenName": 16,
    "lenType": 16,
    "lenVar": 40
   },
   "kernels_config": {
    "python": {
     "delete_cmd_postfix": "",
     "delete_cmd_prefix": "del ",
     "library": "var_list.py",
     "varRefreshCmd": "print(var_dic_list())"
    },
    "r": {
     "delete_cmd_postfix": ") ",
     "delete_cmd_prefix": "rm(",
     "library": "var_list.r",
     "varRefreshCmd": "cat(var_dic_list()) "
    }
   },
   "types_to_exclude": [
    "module",
    "function",
    "builtin_function_or_method",
    "instance",
    "_Feature"
   ],
   "window_display": false
  },
  "vscode": {
   "interpreter": {
    "hash": "ad2bdc8ecc057115af97d19610ffacc2b4e99fae6737bb82f5d7fb13d2f2c186"
   }
  }
 },
 "nbformat": 4,
 "nbformat_minor": 4
}
