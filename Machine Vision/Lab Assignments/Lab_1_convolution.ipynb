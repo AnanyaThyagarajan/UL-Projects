{
 "cells": [
  {
   "cell_type": "markdown",
   "metadata": {
    "id": "XfEhpfj_t3IM"
   },
   "source": [
    "#Lab 1: Introduction to NumPy & Convolution\n",
    "In this lab we will focus on creating 1D and 2D arrays in NumPy and performing basic operations such as elementwise multiplication and matrix multiplication. We will also perform convolution with 1D arrays and 2D matrices using NumPy (and SciPy for 2D).\n",
    "\n",
    "Note that in this notebook we import Numpy as np, this means all the NumPy methods will be implemented as `np.method`.\n",
    "\n",
    "As we can see in the image below, we can create arrays in numpy of 1,2,3 (or even greater) dimensions. It is important to note that the 1D array is more properly called a vector, it is not explicit that it represents a row or column.\n",
    "\n",
    "![](https://fgnt.github.io/python_crashkurs_doc/_images/numpy_array_t.png)"
   ]
  },
  {
   "cell_type": "markdown",
   "metadata": {
    "id": "zUiCcvRxsIfQ"
   },
   "source": [
    "#House Keeping\n",
    "Import packages and define functions to read/process 2D image for later in the notebook."
   ]
  },
  {
   "cell_type": "code",
   "execution_count": 1,
   "metadata": {
    "ExecuteTime": {
     "end_time": "2023-09-19T14:54:00.325384Z",
     "start_time": "2023-09-19T14:53:58.632582Z"
    },
    "id": "_LLUtrMGtro5"
   },
   "outputs": [],
   "source": [
    "import numpy as np\n",
    "import urllib.request\n",
    "import cv2\n",
    "import numpy as np\n",
    "from matplotlib import pyplot as plt\n",
    "import math\n",
    "from scipy import signal\n",
    "from tqdm import tqdm\n",
    "import time"
   ]
  },
  {
   "cell_type": "code",
   "execution_count": 2,
   "metadata": {
    "ExecuteTime": {
     "end_time": "2023-09-19T14:54:00.405409Z",
     "start_time": "2023-09-19T14:54:00.393412Z"
    },
    "id": "nkBZtdcvxZk6"
   },
   "outputs": [],
   "source": [
    "image_url = \"https://upload.wikimedia.org/wikipedia/commons/thumb/7/78/Biddulph_Moor_2021_005.jpg/640px-Biddulph_Moor_2021_005.jpg\"\n",
    "#image_url = \"https://upload.wikimedia.org/wikipedia/commons/thumb/f/f6/Great_Sphinx_of_Giza_-_20080716a.jpg/2560px-Great_Sphinx_of_Giza_-_20080716a.jpg\"\n",
    "# Function to read images from the Web.\n",
    "def url_to_image(url):\n",
    "\tresp = urllib.request.urlopen(url)\n",
    "\ttemp_image = np.asarray(bytearray(resp.read()), dtype=\"uint8\")\n",
    "\ttemp_image = cv2.imdecode(temp_image, cv2.IMREAD_COLOR)\n",
    "\ttemp_image = cv2.cvtColor(temp_image, cv2.COLOR_BGR2RGB) # OpenCV defaults to BGR, but we need RGB here..\n",
    "\treturn temp_image\n",
    "\n",
    "def norm_act_map(act_map):\n",
    "   act_map = act_map**2\n",
    "   offset = np.min(act_map)\n",
    "   act_map=act_map-offset\n",
    "   max_val = np.max(act_map)\n",
    "   act_map = 255.0*(act_map)/max_val\n",
    "   return act_map\n",
    "\n",
    "def read_image():\n",
    "   # read Image\n",
    "   sf =1\n",
    "   image = url_to_image(image_url)\n",
    "   #Scale Image by sf = 2\n",
    "   x,y,z = np.shape(image)\n",
    "   image_scale = cv2.resize(image, dsize=(int(y/sf), int(x/sf)), interpolation=cv2.INTER_CUBIC)\n",
    "   #Convert to Greyscale\n",
    "   gray = cv2.cvtColor(image_scale, cv2.COLOR_BGR2GRAY)\n",
    "   return gray\n",
    "\n"
   ]
  },
  {
   "cell_type": "markdown",
   "metadata": {
    "id": "5gBra1v9J-0t"
   },
   "source": [
    "# Part 1: 1D Arrays\n",
    "## 1.1: Building & addressing an array\n",
    "\n",
    "Lets build a simple 1D array with 3 elements say 1,2 & 3. We will use the [np.array](https://numpy.org/doc/stable/reference/generated/numpy.array.html) method to do this. The np.array method converts an array like object to an array. So a python list can be converted to an array (see examples on linked page).\n",
    "\n",
    "We can verify that the array has the correct shape (3,) by using [numpy.shape](https://numpy.org/doc/stable/reference/generated/numpy.shape.html)"
   ]
  },
  {
   "cell_type": "code",
   "execution_count": 3,
   "metadata": {
    "ExecuteTime": {
     "end_time": "2023-09-19T14:54:00.485445Z",
     "start_time": "2023-09-19T14:54:00.474428Z"
    },
    "id": "CR8IK2B3J_Lf"
   },
   "outputs": [
    {
     "name": "stdout",
     "output_type": "stream",
     "text": [
      "The array a has elements =  [1 2 3]  and shape =  (3,)\n"
     ]
    }
   ],
   "source": [
    "# Create an array from a list\n",
    "a = np.array([1,2,3])\n",
    "\n",
    "# Get the shape of the array\n",
    "shape_a = np.shape(a)\n",
    "\n",
    "# Print the elements and shape\n",
    "print(\"The array a has elements = \",a,\" and shape = \",shape_a)"
   ]
  },
  {
   "cell_type": "markdown",
   "metadata": {
    "id": "tuaJN0Hw7eew"
   },
   "source": [
    "The array can be addressed similar to a python list. (Just remember in python that the index starts at 0)"
   ]
  },
  {
   "cell_type": "code",
   "execution_count": 4,
   "metadata": {
    "ExecuteTime": {
     "end_time": "2023-09-19T14:54:01.380629Z",
     "start_time": "2023-09-19T14:54:01.362632Z"
    },
    "id": "omGvtcTr7dOy"
   },
   "outputs": [
    {
     "name": "stdout",
     "output_type": "stream",
     "text": [
      "The first element of the array =  1\n",
      "The second element of the array =  2\n",
      "The third element of the array =  3\n"
     ]
    }
   ],
   "source": [
    "# Print the 1st element of the array\n",
    "print(\"The first element of the array = \", a[0])\n",
    "print(\"The second element of the array = \", a[1])\n",
    "print(\"The third element of the array = \", a[2])"
   ]
  },
  {
   "cell_type": "markdown",
   "metadata": {
    "id": "FfiPDxyLXpW8"
   },
   "source": [
    "## 1.2: Scalar multiplication\n",
    "We can multiply the array by a scalar value. We note that the  each element of the array is multipled by the scalar. We can simply use the * symbol or use [numpy.muliply](https://numpy.org/doc/stable/reference/generated/numpy.multiply.html) to perform the multiplication."
   ]
  },
  {
   "cell_type": "code",
   "execution_count": 5,
   "metadata": {
    "ExecuteTime": {
     "end_time": "2023-09-19T14:54:02.263330Z",
     "start_time": "2023-09-19T14:54:02.255336Z"
    },
    "id": "4cPTrrAHF_Ig"
   },
   "outputs": [
    {
     "name": "stdout",
     "output_type": "stream",
     "text": [
      "After scalar multiplication, the elements of the array b =  [3 6 9]\n"
     ]
    }
   ],
   "source": [
    "# Multiply the array a by a scalar value of 3 usisng *\n",
    "b = 3*a\n",
    "\n",
    "# Print the elements of the result (verify is correct)\n",
    "print(\"After scalar multiplication, the elements of the array b = \",b)"
   ]
  },
  {
   "cell_type": "markdown",
   "metadata": {
    "id": "SKzrQ9mBTxtr"
   },
   "source": [
    "NumPy Applies element wise multiplication when we use np.multiply or *. As an example we can get element wise multiplication between the elements of a (We note in this case that as we are using arrays of the same size, each element in one array is multiplied by the corresponding element from the other array)"
   ]
  },
  {
   "cell_type": "code",
   "execution_count": 6,
   "metadata": {
    "ExecuteTime": {
     "end_time": "2023-09-19T14:54:03.113692Z",
     "start_time": "2023-09-19T14:54:03.093688Z"
    },
    "id": "4ERzxQhCUPVI"
   },
   "outputs": [
    {
     "name": "stdout",
     "output_type": "stream",
     "text": [
      "After elementwise multiplication, the elements of the array c =  [1 4 9]\n"
     ]
    }
   ],
   "source": [
    "# Multiply the array a by it self (elmentwise multiplication)\n",
    "c = np.multiply(a,a)\n",
    "\n",
    "# Print the elements of the result (verify is correct)\n",
    "print(\"After elementwise multiplication, the elements of the array c = \",c)"
   ]
  },
  {
   "cell_type": "markdown",
   "metadata": {
    "id": "NevmBjcQX0WV"
   },
   "source": [
    "\n",
    "# 1.3: Inner and Outer product (Easy NumPy Method)\n",
    "\n",
    "The simplest way to obtain the inner and outer product of two 1d arrays of the same shape we can use the built in NumPy functions [np.inner](https://numpy.org/doc/stable/reference/generated/numpy.inner.html) and [np.outer](https://numpy.org/doc/stable/reference/generated/numpy.outer.html)"
   ]
  },
  {
   "cell_type": "code",
   "execution_count": 7,
   "metadata": {
    "ExecuteTime": {
     "end_time": "2023-09-19T14:54:03.964699Z",
     "start_time": "2023-09-19T14:54:03.949695Z"
    },
    "id": "wbMtnzOQJNLP"
   },
   "outputs": [
    {
     "name": "stdout",
     "output_type": "stream",
     "text": [
      "The result of the inner product of 1d arrays a & b =  42\n"
     ]
    }
   ],
   "source": [
    "# Obtain the inner product of the 1D arrays a & b\n",
    "c = np.inner(a,b)\n",
    "# Print the elements of the result (verify is correct)\n",
    "print(\"The result of the inner product of 1d arrays a & b = \",c)"
   ]
  },
  {
   "cell_type": "code",
   "execution_count": 8,
   "metadata": {
    "ExecuteTime": {
     "end_time": "2023-09-19T14:54:04.417715Z",
     "start_time": "2023-09-19T14:54:04.405719Z"
    },
    "id": "K6itUeYQLaYf"
   },
   "outputs": [
    {
     "name": "stdout",
     "output_type": "stream",
     "text": [
      "The result of the outer product of 1d arrays a & b =  [[ 3  6  9]\n",
      " [ 6 12 18]\n",
      " [ 9 18 27]]\n"
     ]
    }
   ],
   "source": [
    "# Obtain the outer product of the 1D arrays a & b\n",
    "d = np.outer(a,b)\n",
    "\n",
    "# Print the elements of the result (verify is correct)\n",
    "print(\"The result of the outer product of 1d arrays a & b = \",d)"
   ]
  },
  {
   "cell_type": "markdown",
   "metadata": {
    "id": "HFihJK79xH3E"
   },
   "source": [
    " # 1.4: Inner and Outer Product (More difficult matrix multiplication method)\n",
    "\n",
    " We can also complete these inner and outer product computations using matrix multiplication.\n",
    "\n",
    " As we can see in the image below, when we get the outer product of two 1D vectors $u$ & $v$ we must get the transpose of one of the vectors and perform the computation $uv^T$ . (In linear (matrix) algebra the typical convention is that vectors represent n-rows and 1 column, so the transpose will be 1 row and n-columns). The outer product of two 1D vectors (or numpy arrays) will give an (n x n) 2D array.  \n",
    "\n",
    "![](https://media.cheggcdn.com/study/8a3/8a3993b3-d3e3-4885-a922-78c73a0f1d76/DC-1776V3.png)\n",
    "\n",
    " In the inner product case we perform matrix multiplication $u^Tv$ such that the result is a scalar value.  \n",
    "\n",
    "\n",
    "\n"
   ]
  },
  {
   "cell_type": "markdown",
   "metadata": {
    "id": "uFGQvkEow42d"
   },
   "source": [
    "Step 1: In order to perform matrix multiplication required to determine inner and outer product, it is first necessary to increase the dimensionality of the 1D arrays (or vectors a and b that we already created) by using numpy [expand_dims](https://numpy.org/doc/stable/reference/generated/numpy.expand_dims.html) method. We want to make the 1d arrays explicitly 2d arrays i.e. a 3 x 1 column as shown in the image above, we can do this by setting axis=1 in the expand_dims method and an additional axis will be added. Check the shape of the array is correct using np.shape. It will then be possible to get the transpose of these new arrays."
   ]
  },
  {
   "cell_type": "code",
   "execution_count": 9,
   "metadata": {
    "ExecuteTime": {
     "end_time": "2023-09-19T14:54:06.253648Z",
     "start_time": "2023-09-19T14:54:06.241691Z"
    },
    "id": "AfgmJYmmLtlP"
   },
   "outputs": [
    {
     "name": "stdout",
     "output_type": "stream",
     "text": [
      "The shape of arrays u,v are  u =  (3, 1) v =  (3, 1)\n"
     ]
    }
   ],
   "source": [
    "# Use Numpy Expand Dims to make 1D arrays a & b 2D column (called u and v)\n",
    "u = np.expand_dims(a, axis=1)\n",
    "v = np.expand_dims(b, axis=1)\n",
    "\n",
    "# Print shape of 2D arrays with expanded dimensions\n",
    "print(\"The shape of arrays u,v are \",\"u = \",np.shape(u),\"v = \",np.shape(v))"
   ]
  },
  {
   "cell_type": "markdown",
   "metadata": {
    "id": "XfiYqTSlQpGP"
   },
   "source": [
    "Step 2: In order to get the **inner product** of the two arrays $u$ & $v$ we must multiply $u^T$ $v$ which multiples a 1 x 3 matrix by a 3 x 1 matrix which yields a scaler value (same as that obtained by np.inner previously.) We use [np.transpose](https://numpy.org/doc/stable/reference/generated/numpy.transpose.html#numpy-transpose) to get the transpose of a matrix/array.\n",
    "In order to perform matrix multiplication we need to use [np.matmul](https://numpy.org/doc/stable/reference/generated/numpy.matmul.html#numpy-matmul), (As we have already seen, using * or [np.multiply](https://numpy.org/doc/stable/reference/generated/numpy.multiply.html#numpy-multiply) will give elementwise multiplication.)"
   ]
  },
  {
   "cell_type": "code",
   "execution_count": 10,
   "metadata": {
    "ExecuteTime": {
     "end_time": "2023-09-19T14:54:07.468190Z",
     "start_time": "2023-09-19T14:54:07.449179Z"
    },
    "id": "fmw9LsQSRvQN"
   },
   "outputs": [
    {
     "name": "stdout",
     "output_type": "stream",
     "text": [
      "The inner product of u & v =  [[42]]\n"
     ]
    }
   ],
   "source": [
    "# Get inner product of u & v\n",
    "ip = np.matmul(np.transpose(u),v)\n",
    "\n",
    "# Print the result\n",
    "print(\"The inner product of u & v = \",ip)"
   ]
  },
  {
   "cell_type": "markdown",
   "metadata": {
    "id": "gW3R_ohWScjD"
   },
   "source": [
    "Step 3: In order to get the **outer product** of the arrays $u$ & $v$ we must matrix multiply $u$ $v^T$ which multiples a 3 x 1 matrix by a 1 x 3 matrix which yields a 3 x 3 matrix (same as that obtained by np.outer previously.)"
   ]
  },
  {
   "cell_type": "code",
   "execution_count": 11,
   "metadata": {
    "ExecuteTime": {
     "end_time": "2023-09-19T14:54:08.587882Z",
     "start_time": "2023-09-19T14:54:08.578880Z"
    },
    "id": "kcmUhbelSxOy"
   },
   "outputs": [
    {
     "name": "stdout",
     "output_type": "stream",
     "text": [
      "The outer product of u & v =  [[ 3  6  9]\n",
      " [ 6 12 18]\n",
      " [ 9 18 27]]\n"
     ]
    }
   ],
   "source": [
    "# Get outer product of u & v\n",
    "op= np.matmul(u,np.transpose(v))\n",
    "# Print the result\n",
    "print(\"The outer product of u & v = \",op)"
   ]
  },
  {
   "cell_type": "markdown",
   "metadata": {
    "id": "N_rKs7QZ9jv0"
   },
   "source": [
    "#1.5: 1D Convolution\n",
    "We will perform a 1D convolution between the input sequence $s$ and the kernel $k$ using the NumPy [convolve](https://numpy.org/doc/stable/reference/generated/numpy.convolve.html) method. By default the convolution mode is set to \"Full\" this means that the input sequence is padded with zeros so that the kernel just overlaps."
   ]
  },
  {
   "cell_type": "code",
   "execution_count": 12,
   "metadata": {
    "ExecuteTime": {
     "end_time": "2023-09-19T14:54:10.654098Z",
     "start_time": "2023-09-19T14:54:10.637094Z"
    },
    "id": "QVwekFho_NSa"
   },
   "outputs": [
    {
     "name": "stdout",
     "output_type": "stream",
     "text": [
      "The result of convolution is = [  2   5   1 -10 -10  -3   6   9]\n"
     ]
    }
   ],
   "source": [
    "# Define sequence and Kernel\n",
    "s = [2,1,-1,-2,-3]\n",
    "k = [1,2,0,-3]\n",
    "\n",
    "# Perform Convolution\n",
    "op_seq = np.convolve(s,k,mode='full')\n",
    "\n",
    "# Print the result\n",
    "print('The result of convolution is =',op_seq)"
   ]
  },
  {
   "cell_type": "markdown",
   "metadata": {
    "id": "frvJCVo7Z_Py"
   },
   "source": [
    "# Part 2: 2D Array/kernel\n",
    "\n",
    "## 2.1: Building and addressing 2D arrays\n",
    "Using [numpy array](https://numpy.org/doc/stable/reference/generated/numpy.array.html), construct the edge kernel $ M = \\begin{vmatrix} -1 & -1 & -1 \\\\ -1 & 8 & -1 \\\\ -1 & -1 & -1 \\end{vmatrix}$\n"
   ]
  },
  {
   "cell_type": "code",
   "execution_count": 13,
   "metadata": {
    "ExecuteTime": {
     "end_time": "2023-09-19T14:54:12.018524Z",
     "start_time": "2023-09-19T14:54:12.011523Z"
    },
    "id": "EWJkp75_Zp1r"
   },
   "outputs": [
    {
     "name": "stdout",
     "output_type": "stream",
     "text": [
      "The shape of the kernel is =  (3, 3)\n"
     ]
    }
   ],
   "source": [
    "# Construct the kernel\n",
    "\n",
    "M= np.array([[-1,-1,-1],[-1,8,-1],[-1,-1,-1]])\n",
    "\n",
    "# Print the shape of the kernel\n",
    "print(\"The shape of the kernel is = \",np.shape(M))"
   ]
  },
  {
   "cell_type": "markdown",
   "metadata": {
    "id": "r7EP4sVrxCXG"
   },
   "source": [
    "The elements of the 2D array can be addressed using the format M[r,c]. Where the r is position on axis 0 or the row of the 2D array and c is the position on axis 1 or the column of the 2D array.\n",
    "\n",
    "\n",
    "\n"
   ]
  },
  {
   "cell_type": "code",
   "execution_count": 14,
   "metadata": {
    "ExecuteTime": {
     "end_time": "2023-09-19T14:54:13.104283Z",
     "start_time": "2023-09-19T14:54:13.093291Z"
    },
    "id": "ufHuyijExIQa"
   },
   "outputs": [
    {
     "name": "stdout",
     "output_type": "stream",
     "text": [
      "The element in the center of the 2D array M = 8\n"
     ]
    }
   ],
   "source": [
    "# Address the element in the centre of the array and print it's value\n",
    "print('The element in the center of the 2D array M =',M[1][1])"
   ]
  },
  {
   "cell_type": "markdown",
   "metadata": {
    "id": "c-p6gR36Ulr_"
   },
   "source": [
    "# 2.1 Matrix and Elementwise Multiplication\n",
    "We will multiply the 2 dimensional array $u^T$ of size 1 x 3 with the 3 x 3 matrix $M$. We will use both matrix multiplication and element wise multiplication and demonstrate the different results obtained. Examples of both approaches are shown in the figure below.\n",
    "\n",
    "\n",
    "> In matrix multiplication we require the inner dimension of the two matrices to be the same. It is \"3\" in this case and we can multiply the row of the 1 x 3 matrix $u^T$ by the columns of the 3 x 3 matrix giving a 1 x 3 matrix.\n",
    "\n",
    "\n",
    ">  In elementwise multiplication if the two arrays are the same size, then each element of the arrays multiplies the corresponding element of the 2nd arrays. If the arrays have at least one equal dimension and the other dimensions are 1 then the NumPy broadcasting rule applies. You can read more about [broadcasting in NumPy](https://numpy.org/doc/stable/user/basics.broadcasting.html) here. In this case here where we multiply the 1 x 3 array by the 3 x 3 array, the elements of the 1 x 3 array can be broadcast along the rows of the 3 x 3 array. It is important to note the differnce between elementwise multiplication and traditional matrix multiplication.\n",
    "\n",
    "\n",
    "\n",
    "![](https://github.com/tonyscan6003/etivities/blob/66d31c0673a39dc18c9b6e26a8905de8faafdd30/matrix_elem_mult.jpg?raw=true)"
   ]
  },
  {
   "cell_type": "code",
   "execution_count": 15,
   "metadata": {
    "ExecuteTime": {
     "end_time": "2023-09-19T14:54:14.352734Z",
     "start_time": "2023-09-19T14:54:14.333742Z"
    },
    "id": "uTlkCq65ZiF6"
   },
   "outputs": [
    {
     "name": "stdout",
     "output_type": "stream",
     "text": [
      "The result of matrix multiplication uT x M =  [[-6 12 -6]]  with shape = (1, 3)\n"
     ]
    }
   ],
   "source": [
    "# Perform matrix multiplication between the array u Transpose and M\n",
    "mm_uTxM = np.matmul(np.transpose(u),M)\n",
    "\n",
    "# Print the values and shape of the result\n",
    "print(\"The result of matrix multiplication uT x M = \",mm_uTxM, \" with shape =\",np.shape(mm_uTxM))"
   ]
  },
  {
   "cell_type": "code",
   "execution_count": 16,
   "metadata": {
    "ExecuteTime": {
     "end_time": "2023-09-19T14:54:14.919467Z",
     "start_time": "2023-09-19T14:54:14.911464Z"
    },
    "id": "N3GZFeefn1su"
   },
   "outputs": [
    {
     "name": "stdout",
     "output_type": "stream",
     "text": [
      "The result of elementwise multiplication uT x M =  [[-1 -2 -3]\n",
      " [-1 16 -3]\n",
      " [-1 -2 -3]]  with shape = (3, 3)\n"
     ]
    }
   ],
   "source": [
    "# Perform elementwise multiplication between the array u Transpose and M\n",
    "ewm_uTxM = np.multiply(np.transpose(u),M)\n",
    "\n",
    "# Print the values and shape of the result\n",
    "print(\"The result of elementwise multiplication uT x M = \",ewm_uTxM, \" with shape =\",np.shape(ewm_uTxM))"
   ]
  },
  {
   "cell_type": "markdown",
   "metadata": {
    "id": "r-e1aPtL3mRg"
   },
   "source": [
    "We will also try elementwise multiplication of the array $u$ which is of size 3 x 1 and the matrix M. Compare the result of this with the previous element wise multiplication and see how the elements of the array $u$ are now broadcast along the columns of the matrix $M$"
   ]
  },
  {
   "cell_type": "code",
   "execution_count": 17,
   "metadata": {
    "ExecuteTime": {
     "end_time": "2023-09-19T14:54:16.048998Z",
     "start_time": "2023-09-19T14:54:16.032991Z"
    },
    "id": "Bc7_8oTVx_Oj"
   },
   "outputs": [
    {
     "name": "stdout",
     "output_type": "stream",
     "text": [
      "The result of elementwise multiplication u x M =  [[-1 -1 -1]\n",
      " [-2 16 -2]\n",
      " [-3 -3 -3]]  with shape = (3, 3)\n"
     ]
    }
   ],
   "source": [
    "# Perform elementwise multiplication between the array u Transpose and M\n",
    "ewm_uxM = np.multiply(u,M)\n",
    "\n",
    "# Print the values and shape of the result\n",
    "print(\"The result of elementwise multiplication u x M = \",ewm_uxM, \" with shape =\",np.shape(ewm_uxM))"
   ]
  },
  {
   "cell_type": "markdown",
   "metadata": {
    "id": "4XaOZ6bO6Rqn"
   },
   "source": [
    "#2.2: 2D Convolution with Array M and Image\n",
    "We will now convolve the matrix $m$ with a test image. We will use the SciPy [signal.convolve2D](https://docs.scipy.org/doc/scipy/reference/generated/scipy.signal.convolve2d.html) function to perform convolution.\n"
   ]
  },
  {
   "cell_type": "code",
   "execution_count": 18,
   "metadata": {
    "ExecuteTime": {
     "end_time": "2023-09-19T14:55:25.167237Z",
     "start_time": "2023-09-19T14:54:17.190001Z"
    },
    "id": "XxqsQKTu6ot_"
   },
   "outputs": [],
   "source": [
    "# Read image (greyscale)\n",
    "import numpy as np\n",
    "from scipy import signal\n",
    "\n",
    "\n",
    "gray = read_image()\n",
    "\n",
    "# Obtain the 2D convolution of image \"gray\" with kernel M\n",
    "conv_img = signal.convolve2d(M,gray)\n",
    "\n",
    "\n",
    "\n"
   ]
  },
  {
   "cell_type": "markdown",
   "metadata": {
    "id": "GMeLg2BcBV8V"
   },
   "source": [
    "Use the code cell below to normalise the output to the range 0->255 and plot the original image and the image after convolution."
   ]
  },
  {
   "cell_type": "code",
   "execution_count": 19,
   "metadata": {
    "ExecuteTime": {
     "end_time": "2023-09-19T14:55:25.498729Z",
     "start_time": "2023-09-19T14:55:25.232264Z"
    },
    "colab": {
     "base_uri": "https://localhost:8080/",
     "height": 294
    },
    "executionInfo": {
     "elapsed": 1647,
     "status": "ok",
     "timestamp": 1684248949670,
     "user": {
      "displayName": "Tony Scanlan",
      "userId": "11380187689366571663"
     },
     "user_tz": -60
    },
    "id": "n2P3ku5SsdZ8",
    "outputId": "edf4032f-bc1c-4c68-9f83-e7b42a23761d"
   },
   "outputs": [
    {
     "data": {
      "image/png": "[encoded data removed]",
      "text/plain": [
       "<Figure size 720x1440 with 2 Axes>"
      ]
     },
     "metadata": {
      "needs_background": "light"
     },
     "output_type": "display_data"
    }
   ],
   "source": [
    "# Nomralise Image\n",
    "norm_conv_img = norm_act_map(conv_img)\n",
    "# Plot reference and test images\n",
    "f, axarr = plt.subplots(1,2,figsize=(10,20))\n",
    "axarr[0].imshow(gray,'gray')\n",
    "axarr[0].axis('off')\n",
    "axarr[0].title.set_text('Input Image')\n",
    "axarr[1].imshow(norm_conv_img,'gray')\n",
    "axarr[1].axis('off')\n",
    "axarr[1].title.set_text('Image after Convolution')"
   ]
  },
  {
   "cell_type": "code",
   "execution_count": null,
   "metadata": {},
   "outputs": [],
   "source": []
  }
 ],
 "metadata": {
  "colab": {
   "authorship_tag": "ABX9TyP1mdaYeo4w/VkuvPUJUgrJ",
   "provenance": [
    {
     "file_id": "1RiH86DfsNYEP-Q_jXKM7OiQASh6JqzTs",
     "timestamp": 1684250020154
    },
    {
     "file_id": "1dDVogQ09tXg4_t1VAUqUOObUys2gqN-K",
     "timestamp": 1684249593425
    }
   ]
  },
  "kernelspec": {
   "display_name": "Python 3",
   "language": "python",
   "name": "python3"
  },
  "language_info": {
   "codemirror_mode": {
    "name": "ipython",
    "version": 3
   },
   "file_extension": ".py",
   "mimetype": "text/x-python",
   "name": "python",
   "nbconvert_exporter": "python",
   "pygments_lexer": "ipython3",
   "version": "3.8.5"
  },
  "toc": {
   "base_numbering": 1,
   "nav_menu": {},
   "number_sections": true,
   "sideBar": true,
   "skip_h1_title": false,
   "title_cell": "Table of Contents",
   "title_sidebar": "Contents",
   "toc_cell": false,
   "toc_position": {},
   "toc_section_display": true,
   "toc_window_display": false
  },
  "varInspector": {
   "cols": {
    "lenName": 16,
    "lenType": 16,
    "lenVar": 40
   },
   "kernels_config": {
    "python": {
     "delete_cmd_postfix": "",
     "delete_cmd_prefix": "del ",
     "library": "var_list.py",
     "varRefreshCmd": "print(var_dic_list())"
    },
    "r": {
     "delete_cmd_postfix": ") ",
     "delete_cmd_prefix": "rm(",
     "library": "var_list.r",
     "varRefreshCmd": "cat(var_dic_list()) "
    }
   },
   "types_to_exclude": [
    "module",
    "function",
    "builtin_function_or_method",
    "instance",
    "_Feature"
   ],
   "window_display": false
  }
 },
 "nbformat": 4,
 "nbformat_minor": 1
}
