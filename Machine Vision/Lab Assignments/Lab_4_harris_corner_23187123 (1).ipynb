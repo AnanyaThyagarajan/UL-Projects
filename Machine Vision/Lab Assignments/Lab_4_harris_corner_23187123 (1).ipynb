{
 "cells": [
  {
   "cell_type": "markdown",
   "metadata": {},
   "source": [
    "**Name : Ananya Krithika Thyagarajan**\n",
    "\n",
    "**StudentID: 23187123**"
   ]
  },
  {
   "cell_type": "markdown",
   "metadata": {
    "id": "Gf7sODLhvy9y"
   },
   "source": [
    "# Lab1_3 Harris Corner Detector.\n",
    "In this lab the Harris Corner Detector is implemented from the method discussed in the lessons.\n",
    "\n",
    "> Corners are detected in local image regions using the corner reponse function $R=Det(M)-\\alpha Trace(M)^2$ which is formed from the Determinate and Trace of the matrix $ M = \\begin{vmatrix} A & C \\\\ C & B \\end{vmatrix}$. M is referred to as the second moment matrix (slide 11).\n",
    "\n",
    "> The second moment matrix nominally consists of the 2nd order partial derivatives of change in intensity of the image e.g. $A = \\frac{\\partial^2{E_{0,0}}}{\\partial{x}^2}$.\n",
    "\n",
    "> The 2nd order partial derivatives can be approximated from products of partial derivatives of the image convolved with a small gaussian window $\\frac{\\partial^2{E_{0,0}}}{\\partial{x}^2} = \\sum_{u,v} 2 w_{u,v} (\\frac{\\partial{I_{u,v}}}{\\partial{x}}\\frac{\\partial{I_{u,v}}}{\\partial{x}} )= X^2\\circledast W$ . (slide 9)\n",
    "\n",
    "> The first order image derivatives can be obtained using any finite difference approximate to the derivative or with by filtering the image with the x and y sobel kernels $\\frac{\\partial{I_{u,v}}}{\\partial{x}}= X=I_{u,v}\\circledast x_{sobel}$ (slide 7)\n",
    "\n",
    "\n",
    "\n",
    "\n"
   ]
  },
  {
   "cell_type": "markdown",
   "metadata": {
    "id": "e3WztF3h9bzN"
   },
   "source": [
    "**HouseKeeping:** Load test image, import required packages (you can swap between the checkerboard test image, which is very useful to determine that the algorithm works properly and other images from the web to try out)"
   ]
  },
  {
   "cell_type": "code",
   "execution_count": 1,
   "metadata": {
    "ExecuteTime": {
     "end_time": "2023-10-15T15:59:29.042754Z",
     "start_time": "2023-10-15T15:59:27.975408Z"
    },
    "id": "DnKGRus2vLtm"
   },
   "outputs": [],
   "source": [
    "import numpy as np\n",
    "from scipy import signal\n",
    "import cv2\n",
    "import matplotlib.pyplot as plt\n",
    "import urllib.request"
   ]
  },
  {
   "cell_type": "code",
   "execution_count": 2,
   "metadata": {
    "ExecuteTime": {
     "end_time": "2023-10-15T15:59:29.540757Z",
     "start_time": "2023-10-15T15:59:29.532768Z"
    },
    "id": "v3_2VSvszND5"
   },
   "outputs": [],
   "source": [
    "# function to read images from Web addresses.\n",
    "def url_to_image(url):\n",
    "\tresp = urllib.request.urlopen(url)\n",
    "\ttemp_image = np.asarray(bytearray(resp.read()), dtype=\"uint8\")\n",
    "\ttemp_image = cv2.imdecode(temp_image, cv2.IMREAD_COLOR)\n",
    "\ttemp_image = cv2.cvtColor(temp_image, cv2.COLOR_BGR2RGB) # OpenCV defaults to BGR, but we need RGB here..\n",
    "\treturn temp_image"
   ]
  },
  {
   "cell_type": "code",
   "execution_count": 3,
   "metadata": {
    "ExecuteTime": {
     "end_time": "2023-10-15T15:59:30.769916Z",
     "start_time": "2023-10-15T15:59:30.527620Z"
    },
    "colab": {
     "base_uri": "https://localhost:8080/",
     "height": 452
    },
    "id": "RnfRjrypwVP4",
    "outputId": "77479ae6-0a24-4f1e-fe75-ee5ec7732a39"
   },
   "outputs": [
    {
     "data": {
      "text/plain": [
       "<matplotlib.image.AxesImage at 0x1d18bb70a00>"
      ]
     },
     "execution_count": 3,
     "metadata": {},
     "output_type": "execute_result"
    },
    {
     "data": {
      "image/png": "[encoded data removed]",
      "text/plain": [
       "<Figure size 432x288 with 1 Axes>"
      ]
     },
     "metadata": {
      "needs_background": "light"
     },
     "output_type": "display_data"
    }
   ],
   "source": [
    "# Import and resize corner regions.\n",
    "# read in test image\n",
    "image_url = \"https://upload.wikimedia.org/wikipedia/commons/thumb/5/5b/10x10_checkered_board.svg/800px-10x10_checkered_board.svg.png\"\n",
    "image = url_to_image(image_url)\n",
    "\n",
    "# Rescale & Crop Image\n",
    "HW_trg =512\n",
    "img_H = np.shape(image)[0]\n",
    "img_W = np.shape(image)[1]\n",
    "min_dim_size = min(img_H,img_W)\n",
    "scale_fac = HW_trg/min_dim_size\n",
    "scale_img_H = int(np.ceil(np.shape(image)[0]*scale_fac))\n",
    "scale_img_W = int(np.ceil(np.shape(image)[1]*scale_fac))\n",
    "rescale_image = cv2.resize(image, (scale_img_W,scale_img_H), interpolation = cv2.INTER_AREA)\n",
    "crop_image = rescale_image[0:HW_trg, 0:HW_trg]\n",
    "gray = cv2.cvtColor(crop_image, cv2.COLOR_BGR2GRAY)\n",
    "plt.imshow(gray,'gray')"
   ]
  },
  {
   "cell_type": "markdown",
   "metadata": {
    "id": "fURim5j80z-P"
   },
   "source": [
    "#Harris Algorithm (part 1)\n",
    "In order to be able to form the components of the matrix M we will carry out the following steps:\n",
    "\n",
    "1.   Create function(s) to output gradient (sobel or prewitt) kernels & (small) Gaussian kernel.\n",
    "2.   Determine estimates of 1st order partial derivatives of the image $(\\frac{\\partial{I_{u,v}}}{\\partial{x}},\\frac{\\partial{I_{u,v}}}{\\partial{y}})$ by convolving the image with the gradient (sobel or prewitt) kernels.\n",
    "3.    Obtain products of 1st order partial derivatives (e.g. $XY= \\frac{\\partial{I_{u,v}}}{\\partial{x}} \\frac{\\partial{I_{u,v}}}{\\partial{y}}$).\n",
    "4.  Convolve the products of 1st order partial derivatives with the guassian kernel to obtain components of the second moment matrix $M = \\begin{pmatrix}\n",
    "A & C \\\\\n",
    "C & B\n",
    "\\end{pmatrix}$ (e.g. $ A = X^2 \\circledast W$).\n",
    "\n",
    "Hints:\n",
    " * It is best to consistently use numpy methods (arrays) to complete this lab.\n",
    " * In order to define the [sobel](https://en.wikipedia.org/wiki/Sobel_operator) or [prewitt](https://en.wikipedia.org/wiki/Prewitt_operator) kernels, the [numpy array method](https://numpy.org/doc/stable/reference/generated/numpy.array.html) can be used (A 2D array will be required).\n",
    " *The gaussian kernel can be defined in exactly the same way as lab1_1A (i.e. creating a 1D array over a range of pixels and using outer product to create a 2D array)\n",
    " * In order to perform 2D convolution between the image (or other array) and the kernels, the [scipy convolve 2d](https://docs.scipy.org/doc/scipy/reference/generated/scipy.signal.convolve2d.html) method can be used."
   ]
  },
  {
   "cell_type": "code",
   "execution_count": 4,
   "metadata": {
    "ExecuteTime": {
     "end_time": "2023-10-15T15:59:33.496570Z",
     "start_time": "2023-10-15T15:59:33.487568Z"
    },
    "id": "xuV2zMsHyxqf"
   },
   "outputs": [],
   "source": [
    "# 1. Functions to ouptut\n",
    "\n",
    "def grad_kernel():\n",
    "  kernelx = [[-1,0,1], [-2,0,2], [-1,0,1]]\n",
    "  kernely = [[1,2,1], [0,0,0], [-1,-2,-1]]\n",
    "  return [kernelx,kernely]\n",
    "\n",
    "def gauss_kernel(sigma):\n",
    "    M=6 * sigma +1\n",
    "    print(M)\n",
    "    x = np.arange(-M//2+1,M//2+1)\n",
    "    print(x)\n",
    "    # Implement the 1D guassian using the PDF equation\n",
    "    gauss_1d = ((np.exp(-(x**2) / (2*(sigma**2)))) / (np.sqrt(2*np.pi)*sigma))\n",
    "    gauss_2d_kernel= np.outer(gauss_1d, gauss_1d)\n",
    "    return gauss_2d_kernel\n"
   ]
  },
  {
   "cell_type": "code",
   "execution_count": 5,
   "metadata": {
    "ExecuteTime": {
     "end_time": "2023-10-15T15:59:34.662934Z",
     "start_time": "2023-10-15T15:59:34.633949Z"
    },
    "id": "G-4dOSvE2iWa"
   },
   "outputs": [],
   "source": [
    "# 2. Obtain estimates of parital derivatives of the image by convolution with sobel kernels\n",
    "#### Your Code Here ####\n",
    "kernel = grad_kernel()\n",
    "partial_derivative2d_x = signal.convolve2d(gray, kernel[0], mode='same')\n",
    "partial_derivative2d_y = signal.convolve2d(gray, kernel[1], mode='same')"
   ]
  },
  {
   "cell_type": "code",
   "execution_count": 6,
   "metadata": {
    "ExecuteTime": {
     "end_time": "2023-10-15T15:59:39.396780Z",
     "start_time": "2023-10-15T15:59:39.380768Z"
    },
    "id": "m72diHG1D4YM"
   },
   "outputs": [],
   "source": [
    "# 3. Obtain products of 1st order partial derivatives.\n",
    "#### Your Code Here ####\n",
    "XX = partial_derivative2d_x * partial_derivative2d_x\n",
    "YY = partial_derivative2d_y * partial_derivative2d_y\n",
    "XY = partial_derivative2d_x * partial_derivative2d_y"
   ]
  },
  {
   "cell_type": "code",
   "execution_count": 7,
   "metadata": {
    "ExecuteTime": {
     "end_time": "2023-10-15T15:59:40.657070Z",
     "start_time": "2023-10-15T15:59:40.267889Z"
    },
    "colab": {
     "base_uri": "https://localhost:8080/",
     "height": 487
    },
    "id": "zmd5P-lmNwLr",
    "outputId": "5b0faba4-ac54-4404-bbd1-8f2396f189c8"
   },
   "outputs": [
    {
     "name": "stdout",
     "output_type": "stream",
     "text": [
      "13\n",
      "[-6 -5 -4 -3 -2 -1  0  1  2  3  4  5  6]\n"
     ]
    },
    {
     "data": {
      "text/plain": [
       "<matplotlib.image.AxesImage at 0x1d18bc60820>"
      ]
     },
     "execution_count": 7,
     "metadata": {},
     "output_type": "execute_result"
    },
    {
     "data": {
      "image/png": "[encoded data removed]",
      "text/plain": [
       "<Figure size 432x288 with 1 Axes>"
      ]
     },
     "metadata": {
      "needs_background": "light"
     },
     "output_type": "display_data"
    }
   ],
   "source": [
    "# 4. Convlove products with Gaussian\n",
    "# Determine Gaussian Kernel.\n",
    "sigma =2\n",
    "gauss_2d_kernel = gauss_kernel(sigma)\n",
    "\n",
    "#Convolve Products with Gaussian Kernel\n",
    "#### Your Code Here ####\n",
    "A=signal.convolve2d(XX, gauss_2d_kernel, mode='same')\n",
    "B=signal.convolve2d(YY, gauss_2d_kernel, mode='same')\n",
    "C=signal.convolve2d(XY, gauss_2d_kernel, mode='same')\n",
    "plt.imshow(A)"
   ]
  },
  {
   "cell_type": "markdown",
   "metadata": {
    "id": "oMyP9reYDpkE"
   },
   "source": [
    "#Harris Algorithm (part2)\n",
    "\n",
    "1. Find Corner Response Function $R=Det(M)-\\alpha Trace(M)^2$. The corner response function is determined as the difference (with a scaling factor $\\alpha$ between the Determinant and trace of the matrix M. As shown in the slides, the Determinat and Trace can be easily found from the elements of the matix $M$.\n",
    "> $Det(M) = AB-C^2$\n",
    "\n",
    ">> $Trace(M) = A+B$\n",
    "\n",
    "2. Display the coner response function with the given code snippet. Ensure that the corner response function makes sense, do the maxima and minima appear where you expect them?\n",
    "\n",
    "3. Mark corners on the original image.\n",
    " First a threshold value is used to remove the flat regions and edges found in the corner response.\n",
    "The x,y coordinates of local maxima in the image are obtained using the peak_local_max method as shown in the [scikit learn example](https://scikit-image.org/docs/dev/auto_examples/segmentation/plot_peak_local_max.html).  The coordinates can be marked on the image.\n"
   ]
  },
  {
   "cell_type": "code",
   "execution_count": 8,
   "metadata": {
    "ExecuteTime": {
     "end_time": "2023-10-15T15:59:42.122893Z",
     "start_time": "2023-10-15T15:59:42.101192Z"
    },
    "colab": {
     "base_uri": "https://localhost:8080/"
    },
    "id": "oK4MwpV98r6s",
    "outputId": "0bd3d9c1-bb40-4a7f-a978-b3bda5a22920"
   },
   "outputs": [
    {
     "name": "stdout",
     "output_type": "stream",
     "text": [
      "[[0.00000000e+00 0.00000000e+00 0.00000000e+00 ... 8.78503296e+09\n",
      "  1.08858641e+10 8.93986974e+09]\n",
      " [0.00000000e+00 0.00000000e+00 0.00000000e+00 ... 1.10699413e+10\n",
      "  1.34077040e+10 1.08858641e+10]\n",
      " [0.00000000e+00 0.00000000e+00 0.00000000e+00 ... 9.39161964e+09\n",
      "  1.10699413e+10 8.78503296e+09]\n",
      " ...\n",
      " [8.78503296e+09 1.10699413e+10 9.39161964e+09 ... 0.00000000e+00\n",
      "  0.00000000e+00 0.00000000e+00]\n",
      " [1.08858641e+10 1.34077040e+10 1.10699413e+10 ... 0.00000000e+00\n",
      "  0.00000000e+00 0.00000000e+00]\n",
      " [8.93986974e+09 1.08858641e+10 8.78503296e+09 ... 0.00000000e+00\n",
      "  0.00000000e+00 0.00000000e+00]]\n"
     ]
    }
   ],
   "source": [
    "# 1. Obtain Corner response Function\n",
    "alpha = 0.04\n",
    "\n",
    "Md = (A * B) - np.square(C)\n",
    "Mt = A + B\n",
    "###  Your Code Here #####\n",
    "response_fun = Md - (alpha * np.square(Mt))\n",
    "print(response_fun)"
   ]
  },
  {
   "cell_type": "code",
   "execution_count": 9,
   "metadata": {
    "ExecuteTime": {
     "end_time": "2023-10-15T15:59:43.025227Z",
     "start_time": "2023-10-15T15:59:42.901208Z"
    },
    "colab": {
     "base_uri": "https://localhost:8080/",
     "height": 452
    },
    "id": "0lHXWnCBKYpT",
    "outputId": "06263885-bc20-4a16-bd9c-c7242c2bbebf"
   },
   "outputs": [
    {
     "data": {
      "text/plain": [
       "<matplotlib.image.AxesImage at 0x1d18bcc8460>"
      ]
     },
     "execution_count": 9,
     "metadata": {},
     "output_type": "execute_result"
    },
    {
     "data": {
      "image/png": "[encoded data removed]",
      "text/plain": [
       "<Figure size 432x288 with 1 Axes>"
      ]
     },
     "metadata": {
      "needs_background": "light"
     },
     "output_type": "display_data"
    }
   ],
   "source": [
    "# 2. Plot Corner response function\n",
    "norm_response = response_fun+abs(np.min(response_fun))\n",
    "norm_response = 255.0*norm_response/np.max(norm_response)\n",
    "plt.imshow(norm_response,'jet')"
   ]
  },
  {
   "cell_type": "code",
   "execution_count": 10,
   "metadata": {
    "ExecuteTime": {
     "end_time": "2023-10-15T15:59:43.753743Z",
     "start_time": "2023-10-15T15:59:43.616287Z"
    },
    "colab": {
     "base_uri": "https://localhost:8080/",
     "height": 452
    },
    "id": "XRKxLKnPxfGU",
    "outputId": "18e2eb60-f549-442f-d250-690155833cbf"
   },
   "outputs": [
    {
     "data": {
      "text/plain": [
       "<matplotlib.image.AxesImage at 0x1d18e2c8a30>"
      ]
     },
     "execution_count": 10,
     "metadata": {},
     "output_type": "execute_result"
    },
    {
     "data": {
      "image/png": "[encoded data removed]",
      "text/plain": [
       "<Figure size 432x288 with 1 Axes>"
      ]
     },
     "metadata": {
      "needs_background": "light"
     },
     "output_type": "display_data"
    }
   ],
   "source": [
    "#3a: Apply a threshold to normalised response\n",
    "###  Your Code Here #####\n",
    "ret,thres = cv2.threshold(norm_response,100,255, cv2.THRESH_BINARY)\n",
    "plt.imshow(thres)"
   ]
  },
  {
   "cell_type": "code",
   "execution_count": 11,
   "metadata": {
    "ExecuteTime": {
     "end_time": "2023-10-15T15:59:45.033651Z",
     "start_time": "2023-10-15T15:59:44.339152Z"
    },
    "id": "WitjXpicPoUe"
   },
   "outputs": [],
   "source": [
    "from skimage import data, img_as_float\n",
    "from skimage.feature import peak_local_max\n",
    "from scipy import ndimage as ndi\n",
    "# 3b: Find local maximum\n",
    "\n",
    "###  Your Code Here #####\n",
    "#image_max = ndi.maximum_filter(thres, size=50, mode='constant')\n",
    "coordinates = peak_local_max(thres, min_distance=10)\n",
    "\n",
    "\n",
    "# # Comparison between image_max and vals_greater_thresh to find the coordinates of local maxima\n",
    "# coordinates = # n x 2 array of coordinates\n",
    "\n"
   ]
  },
  {
   "cell_type": "code",
   "execution_count": 12,
   "metadata": {
    "ExecuteTime": {
     "end_time": "2023-10-15T15:59:45.233713Z",
     "start_time": "2023-10-15T15:59:45.050638Z"
    },
    "colab": {
     "base_uri": "https://localhost:8080/",
     "height": 852
    },
    "id": "oUal4l9dchuE",
    "outputId": "d0100ba1-d6e6-4ee7-b480-fea84e18c169"
   },
   "outputs": [
    {
     "data": {
      "text/plain": [
       "<matplotlib.image.AxesImage at 0x1d18f1820d0>"
      ]
     },
     "execution_count": 12,
     "metadata": {},
     "output_type": "execute_result"
    },
    {
     "data": {
      "image/png": "[encoded data removed]",
      "text/plain": [
       "<Figure size 720x720 with 1 Axes>"
      ]
     },
     "metadata": {
      "needs_background": "light"
     },
     "output_type": "display_data"
    }
   ],
   "source": [
    "# plot coordinates on original image\n",
    "for xy_pos in coordinates:\n",
    "   cv2.circle(crop_image, (xy_pos[1],xy_pos[0]), 1, (255,0,0),thickness=2)\n",
    "\n",
    "plt.figure(figsize=(10,10))\n",
    "plt.imshow(crop_image)"
   ]
  },
  {
   "cell_type": "code",
   "execution_count": null,
   "metadata": {},
   "outputs": [],
   "source": []
  },
  {
   "cell_type": "code",
   "execution_count": null,
   "metadata": {},
   "outputs": [],
   "source": []
  }
 ],
 "metadata": {
  "colab": {
   "provenance": []
  },
  "kernelspec": {
   "display_name": "Python 3",
   "language": "python",
   "name": "python3"
  },
  "language_info": {
   "codemirror_mode": {
    "name": "ipython",
    "version": 3
   },
   "file_extension": ".py",
   "mimetype": "text/x-python",
   "name": "python",
   "nbconvert_exporter": "python",
   "pygments_lexer": "ipython3",
   "version": "3.8.5"
  },
  "toc": {
   "base_numbering": 1,
   "nav_menu": {},
   "number_sections": true,
   "sideBar": true,
   "skip_h1_title": false,
   "title_cell": "Table of Contents",
   "title_sidebar": "Contents",
   "toc_cell": false,
   "toc_position": {},
   "toc_section_display": true,
   "toc_window_display": false
  },
  "varInspector": {
   "cols": {
    "lenName": 16,
    "lenType": 16,
    "lenVar": 40
   },
   "kernels_config": {
    "python": {
     "delete_cmd_postfix": "",
     "delete_cmd_prefix": "del ",
     "library": "var_list.py",
     "varRefreshCmd": "print(var_dic_list())"
    },
    "r": {
     "delete_cmd_postfix": ") ",
     "delete_cmd_prefix": "rm(",
     "library": "var_list.r",
     "varRefreshCmd": "cat(var_dic_list()) "
    }
   },
   "types_to_exclude": [
    "module",
    "function",
    "builtin_function_or_method",
    "instance",
    "_Feature"
   ],
   "window_display": false
  }
 },
 "nbformat": 4,
 "nbformat_minor": 1
}
